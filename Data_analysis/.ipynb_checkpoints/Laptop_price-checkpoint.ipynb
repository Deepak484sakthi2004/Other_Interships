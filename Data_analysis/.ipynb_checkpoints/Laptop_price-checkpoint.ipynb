{
 "cells": [
  {
   "cell_type": "code",
   "execution_count": 167,
   "id": "b2b4c871",
   "metadata": {},
   "outputs": [
    {
     "data": {
      "text/html": [
       "<div>\n",
       "<style scoped>\n",
       "    .dataframe tbody tr th:only-of-type {\n",
       "        vertical-align: middle;\n",
       "    }\n",
       "\n",
       "    .dataframe tbody tr th {\n",
       "        vertical-align: top;\n",
       "    }\n",
       "\n",
       "    .dataframe thead th {\n",
       "        text-align: right;\n",
       "    }\n",
       "</style>\n",
       "<table border=\"1\" class=\"dataframe\">\n",
       "  <thead>\n",
       "    <tr style=\"text-align: right;\">\n",
       "      <th></th>\n",
       "      <th>Product</th>\n",
       "      <th>Rating</th>\n",
       "      <th>MRP</th>\n",
       "      <th>Feature</th>\n",
       "    </tr>\n",
       "  </thead>\n",
       "  <tbody>\n",
       "    <tr>\n",
       "      <th>0</th>\n",
       "      <td>Lenovo IdeaPad 3 Core i3 11th Gen - (8 GB/256 ...</td>\n",
       "      <td>4.2</td>\n",
       "      <td>₹36,990</td>\n",
       "      <td>Intel Core i3 Processor (11th Gen)8 GB DDR4 RA...</td>\n",
       "    </tr>\n",
       "    <tr>\n",
       "      <th>1</th>\n",
       "      <td>Lenovo IdeaPad 3 Core i3 11th Gen - (8 GB/512 ...</td>\n",
       "      <td>4.2</td>\n",
       "      <td>₹39,990</td>\n",
       "      <td>Intel Core i3 Processor (11th Gen)8 GB DDR4 RA...</td>\n",
       "    </tr>\n",
       "    <tr>\n",
       "      <th>2</th>\n",
       "      <td>ASUS VivoBook 15 (2022) Core i3 10th Gen - (8 ...</td>\n",
       "      <td>4.3</td>\n",
       "      <td>₹32,990</td>\n",
       "      <td>Intel Core i3 Processor (10th Gen)8 GB DDR4 RA...</td>\n",
       "    </tr>\n",
       "    <tr>\n",
       "      <th>3</th>\n",
       "      <td>HP Pavilion Ryzen 5 Hexa Core AMD R5-5600H - (...</td>\n",
       "      <td>4.4</td>\n",
       "      <td>₹49,990</td>\n",
       "      <td>AMD Ryzen 5 Hexa Core Processor8 GB DDR4 RAM64...</td>\n",
       "    </tr>\n",
       "    <tr>\n",
       "      <th>4</th>\n",
       "      <td>ASUS TUF Gaming F15 Core i5 10th Gen - (8 GB/5...</td>\n",
       "      <td>4.4</td>\n",
       "      <td>₹49,990</td>\n",
       "      <td>Intel Core i5 Processor (10th Gen)8 GB DDR4 RA...</td>\n",
       "    </tr>\n",
       "  </tbody>\n",
       "</table>\n",
       "</div>"
      ],
      "text/plain": [
       "                                             Product  Rating      MRP  \\\n",
       "0  Lenovo IdeaPad 3 Core i3 11th Gen - (8 GB/256 ...     4.2  ₹36,990   \n",
       "1  Lenovo IdeaPad 3 Core i3 11th Gen - (8 GB/512 ...     4.2  ₹39,990   \n",
       "2  ASUS VivoBook 15 (2022) Core i3 10th Gen - (8 ...     4.3  ₹32,990   \n",
       "3  HP Pavilion Ryzen 5 Hexa Core AMD R5-5600H - (...     4.4  ₹49,990   \n",
       "4  ASUS TUF Gaming F15 Core i5 10th Gen - (8 GB/5...     4.4  ₹49,990   \n",
       "\n",
       "                                             Feature  \n",
       "0  Intel Core i3 Processor (11th Gen)8 GB DDR4 RA...  \n",
       "1  Intel Core i3 Processor (11th Gen)8 GB DDR4 RA...  \n",
       "2  Intel Core i3 Processor (10th Gen)8 GB DDR4 RA...  \n",
       "3  AMD Ryzen 5 Hexa Core Processor8 GB DDR4 RAM64...  \n",
       "4  Intel Core i5 Processor (10th Gen)8 GB DDR4 RA...  "
      ]
     },
     "execution_count": 167,
     "metadata": {},
     "output_type": "execute_result"
    }
   ],
   "source": [
    "import pandas as pd\n",
    "import numpy as np\n",
    "\n",
    "df=pd.read_csv('laptop_details.csv')\n",
    "df.head()"
   ]
  },
  {
   "cell_type": "code",
   "execution_count": 168,
   "id": "132fa7b3",
   "metadata": {},
   "outputs": [
    {
     "name": "stdout",
     "output_type": "stream",
     "text": [
      "<class 'pandas.core.frame.DataFrame'>\n",
      "RangeIndex: 720 entries, 0 to 719\n",
      "Data columns (total 4 columns):\n",
      " #   Column   Non-Null Count  Dtype  \n",
      "---  ------   --------------  -----  \n",
      " 0   Product  720 non-null    object \n",
      " 1   Rating   581 non-null    float64\n",
      " 2   MRP      720 non-null    object \n",
      " 3   Feature  720 non-null    object \n",
      "dtypes: float64(1), object(3)\n",
      "memory usage: 22.6+ KB\n"
     ]
    }
   ],
   "source": [
    "df.info()"
   ]
  },
  {
   "cell_type": "code",
   "execution_count": 169,
   "id": "1e163cf0",
   "metadata": {},
   "outputs": [],
   "source": [
    "df['MRP']=df['MRP'].str.replace('₹','')\n",
    "df['MRP']=df['MRP'].str.replace(',','')\n",
    "df['MRP']=df['MRP'].astype('int')\n",
    "df=df.drop(\"Rating\",axis=1)"
   ]
  },
  {
   "cell_type": "code",
   "execution_count": 170,
   "id": "60689fe2",
   "metadata": {},
   "outputs": [
    {
     "name": "stdout",
     "output_type": "stream",
     "text": [
      "<class 'pandas.core.frame.DataFrame'>\n",
      "RangeIndex: 720 entries, 0 to 719\n",
      "Data columns (total 3 columns):\n",
      " #   Column   Non-Null Count  Dtype \n",
      "---  ------   --------------  ----- \n",
      " 0   Product  720 non-null    object\n",
      " 1   MRP      720 non-null    int32 \n",
      " 2   Feature  720 non-null    object\n",
      "dtypes: int32(1), object(2)\n",
      "memory usage: 14.2+ KB\n"
     ]
    }
   ],
   "source": [
    "\n",
    "\n",
    "df.info()"
   ]
  },
  {
   "cell_type": "markdown",
   "id": "b5e4cbc5",
   "metadata": {},
   "source": [
    "# data preprocessing "
   ]
  },
  {
   "cell_type": "code",
   "execution_count": 171,
   "id": "fcc92417",
   "metadata": {},
   "outputs": [],
   "source": [
    "df['Company']=df['Product'].str.split(\" \").apply(lambda x:x[0])"
   ]
  },
  {
   "cell_type": "code",
   "execution_count": 172,
   "id": "c5aa1eac",
   "metadata": {},
   "outputs": [
    {
     "data": {
      "text/plain": [
       "0      Lenovo\n",
       "1      Lenovo\n",
       "2        ASUS\n",
       "3          HP\n",
       "4        ASUS\n",
       "        ...  \n",
       "715      ASUS\n",
       "716    Lenovo\n",
       "717      ASUS\n",
       "718      ASUS\n",
       "719    Lenovo\n",
       "Name: Company, Length: 720, dtype: object"
      ]
     },
     "execution_count": 172,
     "metadata": {},
     "output_type": "execute_result"
    }
   ],
   "source": [
    "df['Company']"
   ]
  },
  {
   "cell_type": "code",
   "execution_count": 173,
   "id": "61f61f69",
   "metadata": {},
   "outputs": [
    {
     "data": {
      "text/plain": [
       "<AxesSubplot:>"
      ]
     },
     "execution_count": 173,
     "metadata": {},
     "output_type": "execute_result"
    },
    {
     "data": {
      "image/png": "[encoded data removed]",
      "text/plain": [
       "<Figure size 432x288 with 1 Axes>"
      ]
     },
     "metadata": {
      "needs_background": "light"
     },
     "output_type": "display_data"
    }
   ],
   "source": [
    "df['Company'].value_counts().plot(kind='barh')"
   ]
  },
  {
   "cell_type": "code",
   "execution_count": 174,
   "id": "c634daa9",
   "metadata": {},
   "outputs": [
    {
     "data": {
      "text/html": [
       "<div>\n",
       "<style scoped>\n",
       "    .dataframe tbody tr th:only-of-type {\n",
       "        vertical-align: middle;\n",
       "    }\n",
       "\n",
       "    .dataframe tbody tr th {\n",
       "        vertical-align: top;\n",
       "    }\n",
       "\n",
       "    .dataframe thead th {\n",
       "        text-align: right;\n",
       "    }\n",
       "</style>\n",
       "<table border=\"1\" class=\"dataframe\">\n",
       "  <thead>\n",
       "    <tr style=\"text-align: right;\">\n",
       "      <th></th>\n",
       "      <th>Product</th>\n",
       "      <th>MRP</th>\n",
       "      <th>Feature</th>\n",
       "      <th>Company</th>\n",
       "    </tr>\n",
       "  </thead>\n",
       "  <tbody>\n",
       "    <tr>\n",
       "      <th>0</th>\n",
       "      <td>Lenovo IdeaPad 3 Core i3 11th Gen - (8 GB/256 ...</td>\n",
       "      <td>36990</td>\n",
       "      <td>Intel Core i3 Processor (11th Gen)8 GB DDR4 RA...</td>\n",
       "      <td>Lenovo</td>\n",
       "    </tr>\n",
       "    <tr>\n",
       "      <th>1</th>\n",
       "      <td>Lenovo IdeaPad 3 Core i3 11th Gen - (8 GB/512 ...</td>\n",
       "      <td>39990</td>\n",
       "      <td>Intel Core i3 Processor (11th Gen)8 GB DDR4 RA...</td>\n",
       "      <td>Lenovo</td>\n",
       "    </tr>\n",
       "    <tr>\n",
       "      <th>2</th>\n",
       "      <td>ASUS VivoBook 15 (2022) Core i3 10th Gen - (8 ...</td>\n",
       "      <td>32990</td>\n",
       "      <td>Intel Core i3 Processor (10th Gen)8 GB DDR4 RA...</td>\n",
       "      <td>ASUS</td>\n",
       "    </tr>\n",
       "    <tr>\n",
       "      <th>3</th>\n",
       "      <td>HP Pavilion Ryzen 5 Hexa Core AMD R5-5600H - (...</td>\n",
       "      <td>49990</td>\n",
       "      <td>AMD Ryzen 5 Hexa Core Processor8 GB DDR4 RAM64...</td>\n",
       "      <td>HP</td>\n",
       "    </tr>\n",
       "    <tr>\n",
       "      <th>4</th>\n",
       "      <td>ASUS TUF Gaming F15 Core i5 10th Gen - (8 GB/5...</td>\n",
       "      <td>49990</td>\n",
       "      <td>Intel Core i5 Processor (10th Gen)8 GB DDR4 RA...</td>\n",
       "      <td>ASUS</td>\n",
       "    </tr>\n",
       "    <tr>\n",
       "      <th>...</th>\n",
       "      <td>...</td>\n",
       "      <td>...</td>\n",
       "      <td>...</td>\n",
       "      <td>...</td>\n",
       "    </tr>\n",
       "    <tr>\n",
       "      <th>715</th>\n",
       "      <td>ASUS Chromebook Flip Touch Celeron Dual Core -...</td>\n",
       "      <td>23490</td>\n",
       "      <td>Intel Celeron Dual Core Processor4 GB LPDDR4 R...</td>\n",
       "      <td>ASUS</td>\n",
       "    </tr>\n",
       "    <tr>\n",
       "      <th>716</th>\n",
       "      <td>Lenovo IdeaPad Gaming 3 Ryzen 7 Octa Core AMD ...</td>\n",
       "      <td>73490</td>\n",
       "      <td>AMD Ryzen 7 Octa Core Processor8 GB DDR4 RAM64...</td>\n",
       "      <td>Lenovo</td>\n",
       "    </tr>\n",
       "    <tr>\n",
       "      <th>717</th>\n",
       "      <td>ASUS ROG Zephyrus G15 Ryzen 9 Octa Core 6900HS...</td>\n",
       "      <td>194990</td>\n",
       "      <td>AMD Ryzen 9 Octa Core Processor16 GB DDR5 RAM6...</td>\n",
       "      <td>ASUS</td>\n",
       "    </tr>\n",
       "    <tr>\n",
       "      <th>718</th>\n",
       "      <td>ASUS Zenbook Flip 14 OLED (2022) Touch Panel C...</td>\n",
       "      <td>125990</td>\n",
       "      <td>Intel Core i7 Processor (12th Gen)16 GB LPDDR5...</td>\n",
       "      <td>ASUS</td>\n",
       "    </tr>\n",
       "    <tr>\n",
       "      <th>719</th>\n",
       "      <td>Lenovo Ideapad Slim 3i Core i5 10th Gen - (8 G...</td>\n",
       "      <td>50990</td>\n",
       "      <td>Intel Core i5 Processor (10th Gen)8 GB DDR4 RA...</td>\n",
       "      <td>Lenovo</td>\n",
       "    </tr>\n",
       "  </tbody>\n",
       "</table>\n",
       "<p>720 rows × 4 columns</p>\n",
       "</div>"
      ],
      "text/plain": [
       "                                               Product     MRP  \\\n",
       "0    Lenovo IdeaPad 3 Core i3 11th Gen - (8 GB/256 ...   36990   \n",
       "1    Lenovo IdeaPad 3 Core i3 11th Gen - (8 GB/512 ...   39990   \n",
       "2    ASUS VivoBook 15 (2022) Core i3 10th Gen - (8 ...   32990   \n",
       "3    HP Pavilion Ryzen 5 Hexa Core AMD R5-5600H - (...   49990   \n",
       "4    ASUS TUF Gaming F15 Core i5 10th Gen - (8 GB/5...   49990   \n",
       "..                                                 ...     ...   \n",
       "715  ASUS Chromebook Flip Touch Celeron Dual Core -...   23490   \n",
       "716  Lenovo IdeaPad Gaming 3 Ryzen 7 Octa Core AMD ...   73490   \n",
       "717  ASUS ROG Zephyrus G15 Ryzen 9 Octa Core 6900HS...  194990   \n",
       "718  ASUS Zenbook Flip 14 OLED (2022) Touch Panel C...  125990   \n",
       "719  Lenovo Ideapad Slim 3i Core i5 10th Gen - (8 G...   50990   \n",
       "\n",
       "                                               Feature Company  \n",
       "0    Intel Core i3 Processor (11th Gen)8 GB DDR4 RA...  Lenovo  \n",
       "1    Intel Core i3 Processor (11th Gen)8 GB DDR4 RA...  Lenovo  \n",
       "2    Intel Core i3 Processor (10th Gen)8 GB DDR4 RA...    ASUS  \n",
       "3    AMD Ryzen 5 Hexa Core Processor8 GB DDR4 RAM64...      HP  \n",
       "4    Intel Core i5 Processor (10th Gen)8 GB DDR4 RA...    ASUS  \n",
       "..                                                 ...     ...  \n",
       "715  Intel Celeron Dual Core Processor4 GB LPDDR4 R...    ASUS  \n",
       "716  AMD Ryzen 7 Octa Core Processor8 GB DDR4 RAM64...  Lenovo  \n",
       "717  AMD Ryzen 9 Octa Core Processor16 GB DDR5 RAM6...    ASUS  \n",
       "718  Intel Core i7 Processor (12th Gen)16 GB LPDDR5...    ASUS  \n",
       "719  Intel Core i5 Processor (10th Gen)8 GB DDR4 RA...  Lenovo  \n",
       "\n",
       "[720 rows x 4 columns]"
      ]
     },
     "execution_count": 174,
     "metadata": {},
     "output_type": "execute_result"
    }
   ],
   "source": [
    "df"
   ]
  },
  {
   "cell_type": "code",
   "execution_count": 175,
   "id": "547a0237",
   "metadata": {},
   "outputs": [
    {
     "data": {
      "text/plain": [
       "0           Core i3\n",
       "1           Core i3\n",
       "2           Core i3\n",
       "3           Ryzen 5\n",
       "4           Core i5\n",
       "           ...     \n",
       "715    Celeron Dual\n",
       "716         Ryzen 7\n",
       "717         Ryzen 9\n",
       "718         Core i7\n",
       "719         Core i5\n",
       "Name: Processor, Length: 720, dtype: object"
      ]
     },
     "execution_count": 175,
     "metadata": {},
     "output_type": "execute_result"
    }
   ],
   "source": [
    "df['Processor']=df['Feature'].str.split(\" \")\n",
    "df['CPU']=df['Processor'].apply(lambda x:x[0])\n",
    "df['Processor']=df['Processor'].apply(lambda x:x[1]+' '+x[2])\n",
    "df['Processor']"
   ]
  },
  {
   "cell_type": "code",
   "execution_count": 176,
   "id": "4904f5d1",
   "metadata": {},
   "outputs": [
    {
     "data": {
      "text/plain": [
       "<AxesSubplot:>"
      ]
     },
     "execution_count": 176,
     "metadata": {},
     "output_type": "execute_result"
    },
    {
     "data": {
      "image/png": "[encoded data removed]",
      "text/plain": [
       "<Figure size 720x720 with 1 Axes>"
      ]
     },
     "metadata": {
      "needs_background": "light"
     },
     "output_type": "display_data"
    }
   ],
   "source": [
    "df= df[df['Processor'].str.contains('Core i|Pentium|Celeron|Ryzen|Athlon|Snapdragon')]\n",
    "df['Processor'].value_counts().plot(kind='barh',figsize=(10,10))\n"
   ]
  },
  {
   "cell_type": "code",
   "execution_count": 177,
   "id": "709f3a93",
   "metadata": {},
   "outputs": [
    {
     "data": {
      "text/plain": [
       "<AxesSubplot:>"
      ]
     },
     "execution_count": 177,
     "metadata": {},
     "output_type": "execute_result"
    },
    {
     "data": {
      "image/png": "[encoded data removed]",
      "text/plain": [
       "<Figure size 432x288 with 1 Axes>"
      ]
     },
     "metadata": {
      "needs_background": "light"
     },
     "output_type": "display_data"
    }
   ],
   "source": [
    "df['CPU'].value_counts().plot(kind='bar')\n"
   ]
  },
  {
   "cell_type": "code",
   "execution_count": 178,
   "id": "1a403b1c",
   "metadata": {},
   "outputs": [
    {
     "data": {
      "text/plain": [
       "<AxesSubplot:>"
      ]
     },
     "execution_count": 178,
     "metadata": {},
     "output_type": "execute_result"
    },
    {
     "data": {
      "image/png": "[encoded data removed]",
      "text/plain": [
       "<Figure size 432x288 with 1 Axes>"
      ]
     },
     "metadata": {
      "needs_background": "light"
     },
     "output_type": "display_data"
    }
   ],
   "source": [
    "df['Processor'].value_counts().plot(kind='bar')"
   ]
  },
  {
   "cell_type": "markdown",
   "id": "36da7363",
   "metadata": {},
   "source": [
    "# 1.\tBuild an interface (using streamlit) for Elon Musk where he can enter the laptop features like RAM Size, RAM Type, HDD, OS, etc. and get the price prediction"
   ]
  },
  {
   "cell_type": "code",
   "execution_count": 179,
   "id": "8efa0c0d",
   "metadata": {},
   "outputs": [
    {
     "data": {
      "text/html": [
       "<div>\n",
       "<style scoped>\n",
       "    .dataframe tbody tr th:only-of-type {\n",
       "        vertical-align: middle;\n",
       "    }\n",
       "\n",
       "    .dataframe tbody tr th {\n",
       "        vertical-align: top;\n",
       "    }\n",
       "\n",
       "    .dataframe thead th {\n",
       "        text-align: right;\n",
       "    }\n",
       "</style>\n",
       "<table border=\"1\" class=\"dataframe\">\n",
       "  <thead>\n",
       "    <tr style=\"text-align: right;\">\n",
       "      <th></th>\n",
       "      <th>Product</th>\n",
       "      <th>MRP</th>\n",
       "      <th>Feature</th>\n",
       "      <th>Company</th>\n",
       "      <th>Processor</th>\n",
       "      <th>CPU</th>\n",
       "    </tr>\n",
       "  </thead>\n",
       "  <tbody>\n",
       "    <tr>\n",
       "      <th>0</th>\n",
       "      <td>Lenovo IdeaPad 3 Core i3 11th Gen - (8 GB/256 ...</td>\n",
       "      <td>36990</td>\n",
       "      <td>Intel Core i3 Processor (11th Gen)8 GB DDR4 RA...</td>\n",
       "      <td>Lenovo</td>\n",
       "      <td>Core i3</td>\n",
       "      <td>Intel</td>\n",
       "    </tr>\n",
       "    <tr>\n",
       "      <th>1</th>\n",
       "      <td>Lenovo IdeaPad 3 Core i3 11th Gen - (8 GB/512 ...</td>\n",
       "      <td>39990</td>\n",
       "      <td>Intel Core i3 Processor (11th Gen)8 GB DDR4 RA...</td>\n",
       "      <td>Lenovo</td>\n",
       "      <td>Core i3</td>\n",
       "      <td>Intel</td>\n",
       "    </tr>\n",
       "    <tr>\n",
       "      <th>2</th>\n",
       "      <td>ASUS VivoBook 15 (2022) Core i3 10th Gen - (8 ...</td>\n",
       "      <td>32990</td>\n",
       "      <td>Intel Core i3 Processor (10th Gen)8 GB DDR4 RA...</td>\n",
       "      <td>ASUS</td>\n",
       "      <td>Core i3</td>\n",
       "      <td>Intel</td>\n",
       "    </tr>\n",
       "    <tr>\n",
       "      <th>3</th>\n",
       "      <td>HP Pavilion Ryzen 5 Hexa Core AMD R5-5600H - (...</td>\n",
       "      <td>49990</td>\n",
       "      <td>AMD Ryzen 5 Hexa Core Processor8 GB DDR4 RAM64...</td>\n",
       "      <td>HP</td>\n",
       "      <td>Ryzen 5</td>\n",
       "      <td>AMD</td>\n",
       "    </tr>\n",
       "    <tr>\n",
       "      <th>4</th>\n",
       "      <td>ASUS TUF Gaming F15 Core i5 10th Gen - (8 GB/5...</td>\n",
       "      <td>49990</td>\n",
       "      <td>Intel Core i5 Processor (10th Gen)8 GB DDR4 RA...</td>\n",
       "      <td>ASUS</td>\n",
       "      <td>Core i5</td>\n",
       "      <td>Intel</td>\n",
       "    </tr>\n",
       "    <tr>\n",
       "      <th>...</th>\n",
       "      <td>...</td>\n",
       "      <td>...</td>\n",
       "      <td>...</td>\n",
       "      <td>...</td>\n",
       "      <td>...</td>\n",
       "      <td>...</td>\n",
       "    </tr>\n",
       "    <tr>\n",
       "      <th>715</th>\n",
       "      <td>ASUS Chromebook Flip Touch Celeron Dual Core -...</td>\n",
       "      <td>23490</td>\n",
       "      <td>Intel Celeron Dual Core Processor4 GB LPDDR4 R...</td>\n",
       "      <td>ASUS</td>\n",
       "      <td>Celeron Dual</td>\n",
       "      <td>Intel</td>\n",
       "    </tr>\n",
       "    <tr>\n",
       "      <th>716</th>\n",
       "      <td>Lenovo IdeaPad Gaming 3 Ryzen 7 Octa Core AMD ...</td>\n",
       "      <td>73490</td>\n",
       "      <td>AMD Ryzen 7 Octa Core Processor8 GB DDR4 RAM64...</td>\n",
       "      <td>Lenovo</td>\n",
       "      <td>Ryzen 7</td>\n",
       "      <td>AMD</td>\n",
       "    </tr>\n",
       "    <tr>\n",
       "      <th>717</th>\n",
       "      <td>ASUS ROG Zephyrus G15 Ryzen 9 Octa Core 6900HS...</td>\n",
       "      <td>194990</td>\n",
       "      <td>AMD Ryzen 9 Octa Core Processor16 GB DDR5 RAM6...</td>\n",
       "      <td>ASUS</td>\n",
       "      <td>Ryzen 9</td>\n",
       "      <td>AMD</td>\n",
       "    </tr>\n",
       "    <tr>\n",
       "      <th>718</th>\n",
       "      <td>ASUS Zenbook Flip 14 OLED (2022) Touch Panel C...</td>\n",
       "      <td>125990</td>\n",
       "      <td>Intel Core i7 Processor (12th Gen)16 GB LPDDR5...</td>\n",
       "      <td>ASUS</td>\n",
       "      <td>Core i7</td>\n",
       "      <td>Intel</td>\n",
       "    </tr>\n",
       "    <tr>\n",
       "      <th>719</th>\n",
       "      <td>Lenovo Ideapad Slim 3i Core i5 10th Gen - (8 G...</td>\n",
       "      <td>50990</td>\n",
       "      <td>Intel Core i5 Processor (10th Gen)8 GB DDR4 RA...</td>\n",
       "      <td>Lenovo</td>\n",
       "      <td>Core i5</td>\n",
       "      <td>Intel</td>\n",
       "    </tr>\n",
       "  </tbody>\n",
       "</table>\n",
       "<p>672 rows × 6 columns</p>\n",
       "</div>"
      ],
      "text/plain": [
       "                                               Product     MRP  \\\n",
       "0    Lenovo IdeaPad 3 Core i3 11th Gen - (8 GB/256 ...   36990   \n",
       "1    Lenovo IdeaPad 3 Core i3 11th Gen - (8 GB/512 ...   39990   \n",
       "2    ASUS VivoBook 15 (2022) Core i3 10th Gen - (8 ...   32990   \n",
       "3    HP Pavilion Ryzen 5 Hexa Core AMD R5-5600H - (...   49990   \n",
       "4    ASUS TUF Gaming F15 Core i5 10th Gen - (8 GB/5...   49990   \n",
       "..                                                 ...     ...   \n",
       "715  ASUS Chromebook Flip Touch Celeron Dual Core -...   23490   \n",
       "716  Lenovo IdeaPad Gaming 3 Ryzen 7 Octa Core AMD ...   73490   \n",
       "717  ASUS ROG Zephyrus G15 Ryzen 9 Octa Core 6900HS...  194990   \n",
       "718  ASUS Zenbook Flip 14 OLED (2022) Touch Panel C...  125990   \n",
       "719  Lenovo Ideapad Slim 3i Core i5 10th Gen - (8 G...   50990   \n",
       "\n",
       "                                               Feature Company     Processor  \\\n",
       "0    Intel Core i3 Processor (11th Gen)8 GB DDR4 RA...  Lenovo       Core i3   \n",
       "1    Intel Core i3 Processor (11th Gen)8 GB DDR4 RA...  Lenovo       Core i3   \n",
       "2    Intel Core i3 Processor (10th Gen)8 GB DDR4 RA...    ASUS       Core i3   \n",
       "3    AMD Ryzen 5 Hexa Core Processor8 GB DDR4 RAM64...      HP       Ryzen 5   \n",
       "4    Intel Core i5 Processor (10th Gen)8 GB DDR4 RA...    ASUS       Core i5   \n",
       "..                                                 ...     ...           ...   \n",
       "715  Intel Celeron Dual Core Processor4 GB LPDDR4 R...    ASUS  Celeron Dual   \n",
       "716  AMD Ryzen 7 Octa Core Processor8 GB DDR4 RAM64...  Lenovo       Ryzen 7   \n",
       "717  AMD Ryzen 9 Octa Core Processor16 GB DDR5 RAM6...    ASUS       Ryzen 9   \n",
       "718  Intel Core i7 Processor (12th Gen)16 GB LPDDR5...    ASUS       Core i7   \n",
       "719  Intel Core i5 Processor (10th Gen)8 GB DDR4 RA...  Lenovo       Core i5   \n",
       "\n",
       "       CPU  \n",
       "0    Intel  \n",
       "1    Intel  \n",
       "2    Intel  \n",
       "3      AMD  \n",
       "4    Intel  \n",
       "..     ...  \n",
       "715  Intel  \n",
       "716    AMD  \n",
       "717    AMD  \n",
       "718  Intel  \n",
       "719  Intel  \n",
       "\n",
       "[672 rows x 6 columns]"
      ]
     },
     "execution_count": 179,
     "metadata": {},
     "output_type": "execute_result"
    }
   ],
   "source": [
    "df"
   ]
  },
  {
   "cell_type": "code",
   "execution_count": 180,
   "id": "ef4b48be",
   "metadata": {},
   "outputs": [
    {
     "name": "stderr",
     "output_type": "stream",
     "text": [
      "<ipython-input-180-c7f411777e9f>:1: SettingWithCopyWarning: \n",
      "A value is trying to be set on a copy of a slice from a DataFrame.\n",
      "Try using .loc[row_indexer,col_indexer] = value instead\n",
      "\n",
      "See the caveats in the documentation: https://pandas.pydata.org/pandas-docs/stable/user_guide/indexing.html#returning-a-view-versus-a-copy\n",
      "  df['OS']=df['Feature'].str.index('Operating System')\n"
     ]
    }
   ],
   "source": [
    "df['OS']=df['Feature'].str.index('Operating System')\n"
   ]
  },
  {
   "cell_type": "code",
   "execution_count": 181,
   "id": "b9bfd0f1",
   "metadata": {},
   "outputs": [
    {
     "name": "stderr",
     "output_type": "stream",
     "text": [
      "<ipython-input-181-d3741771012e>:1: SettingWithCopyWarning: \n",
      "A value is trying to be set on a copy of a slice from a DataFrame.\n",
      "Try using .loc[row_indexer,col_indexer] = value instead\n",
      "\n",
      "See the caveats in the documentation: https://pandas.pydata.org/pandas-docs/stable/user_guide/indexing.html#returning-a-view-versus-a-copy\n",
      "  df['OS']=df['Feature'].apply(lambda x: x[:x.index('Operating System')])\n",
      "<ipython-input-181-d3741771012e>:2: SettingWithCopyWarning: \n",
      "A value is trying to be set on a copy of a slice from a DataFrame.\n",
      "Try using .loc[row_indexer,col_indexer] = value instead\n",
      "\n",
      "See the caveats in the documentation: https://pandas.pydata.org/pandas-docs/stable/user_guide/indexing.html#returning-a-view-versus-a-copy\n",
      "  df['OS']=df['OS'].str.split(' ')\n",
      "<ipython-input-181-d3741771012e>:3: SettingWithCopyWarning: \n",
      "A value is trying to be set on a copy of a slice from a DataFrame.\n",
      "Try using .loc[row_indexer,col_indexer] = value instead\n",
      "\n",
      "See the caveats in the documentation: https://pandas.pydata.org/pandas-docs/stable/user_guide/indexing.html#returning-a-view-versus-a-copy\n",
      "  df['OS']=df['OS'].apply(lambda x: x[-3]+' '+x[-2])\n"
     ]
    }
   ],
   "source": [
    "df['OS']=df['Feature'].apply(lambda x: x[:x.index('Operating System')])\n",
    "df['OS']=df['OS'].str.split(' ')\n",
    "df['OS']=df['OS'].apply(lambda x: x[-3]+' '+x[-2])\n"
   ]
  },
  {
   "cell_type": "code",
   "execution_count": 182,
   "id": "5ed8ac6a",
   "metadata": {},
   "outputs": [
    {
     "data": {
      "text/plain": [
       "Windows 11          397\n",
       "RAMWindows 11       155\n",
       "Windows 10           97\n",
       "RAMWindows 10        12\n",
       "LPDDR4 RAMChrome      4\n",
       "bit DOS               2\n",
       "DDR4 RAMChrome        2\n",
       "LPDDR4 RAMDOS         2\n",
       "bit Chrome            1\n",
       "Name: OS, dtype: int64"
      ]
     },
     "execution_count": 182,
     "metadata": {},
     "output_type": "execute_result"
    }
   ],
   "source": [
    "df['OS'].value_counts()"
   ]
  },
  {
   "cell_type": "code",
   "execution_count": 183,
   "id": "7cf83470",
   "metadata": {},
   "outputs": [
    {
     "name": "stderr",
     "output_type": "stream",
     "text": [
      "<ipython-input-183-0fcfd8f09a39>:1: SettingWithCopyWarning: \n",
      "A value is trying to be set on a copy of a slice from a DataFrame.\n",
      "Try using .loc[row_indexer,col_indexer] = value instead\n",
      "\n",
      "See the caveats in the documentation: https://pandas.pydata.org/pandas-docs/stable/user_guide/indexing.html#returning-a-view-versus-a-copy\n",
      "  df['OS']=df['OS'].str.replace('RAMWindows 11','Windows 11')\n",
      "<ipython-input-183-0fcfd8f09a39>:2: SettingWithCopyWarning: \n",
      "A value is trying to be set on a copy of a slice from a DataFrame.\n",
      "Try using .loc[row_indexer,col_indexer] = value instead\n",
      "\n",
      "See the caveats in the documentation: https://pandas.pydata.org/pandas-docs/stable/user_guide/indexing.html#returning-a-view-versus-a-copy\n",
      "  df['OS']=df['OS'].str.replace('RAMMac OS','Mac OS')\n",
      "<ipython-input-183-0fcfd8f09a39>:3: SettingWithCopyWarning: \n",
      "A value is trying to be set on a copy of a slice from a DataFrame.\n",
      "Try using .loc[row_indexer,col_indexer] = value instead\n",
      "\n",
      "See the caveats in the documentation: https://pandas.pydata.org/pandas-docs/stable/user_guide/indexing.html#returning-a-view-versus-a-copy\n",
      "  df['OS']=df['OS'].str.replace('RAMWindows 10','Windows 10')\n",
      "<ipython-input-183-0fcfd8f09a39>:4: SettingWithCopyWarning: \n",
      "A value is trying to be set on a copy of a slice from a DataFrame.\n",
      "Try using .loc[row_indexer,col_indexer] = value instead\n",
      "\n",
      "See the caveats in the documentation: https://pandas.pydata.org/pandas-docs/stable/user_guide/indexing.html#returning-a-view-versus-a-copy\n",
      "  df['OS']=df['OS'].str.replace('LPDDR4 RAMChrome','Chrome')\n",
      "<ipython-input-183-0fcfd8f09a39>:5: SettingWithCopyWarning: \n",
      "A value is trying to be set on a copy of a slice from a DataFrame.\n",
      "Try using .loc[row_indexer,col_indexer] = value instead\n",
      "\n",
      "See the caveats in the documentation: https://pandas.pydata.org/pandas-docs/stable/user_guide/indexing.html#returning-a-view-versus-a-copy\n",
      "  df['OS']=df['OS'].str.replace('DDR4 RAMChrome','Chrome')\n",
      "<ipython-input-183-0fcfd8f09a39>:6: SettingWithCopyWarning: \n",
      "A value is trying to be set on a copy of a slice from a DataFrame.\n",
      "Try using .loc[row_indexer,col_indexer] = value instead\n",
      "\n",
      "See the caveats in the documentation: https://pandas.pydata.org/pandas-docs/stable/user_guide/indexing.html#returning-a-view-versus-a-copy\n",
      "  df['OS']=df['OS'].str.replace('bit Chrome','Chrome')\n",
      "<ipython-input-183-0fcfd8f09a39>:7: SettingWithCopyWarning: \n",
      "A value is trying to be set on a copy of a slice from a DataFrame.\n",
      "Try using .loc[row_indexer,col_indexer] = value instead\n",
      "\n",
      "See the caveats in the documentation: https://pandas.pydata.org/pandas-docs/stable/user_guide/indexing.html#returning-a-view-versus-a-copy\n",
      "  df['OS']=df['OS'].str.replace('LPDDR4 RAMDOS','DOS')\n",
      "<ipython-input-183-0fcfd8f09a39>:8: SettingWithCopyWarning: \n",
      "A value is trying to be set on a copy of a slice from a DataFrame.\n",
      "Try using .loc[row_indexer,col_indexer] = value instead\n",
      "\n",
      "See the caveats in the documentation: https://pandas.pydata.org/pandas-docs/stable/user_guide/indexing.html#returning-a-view-versus-a-copy\n",
      "  df['OS']=df['OS'].str.replace('bit DOS','DOS')\n"
     ]
    },
    {
     "data": {
      "text/plain": [
       "Windows 11    552\n",
       "Windows 10    109\n",
       "Chrome          7\n",
       "DOS             4\n",
       "Name: OS, dtype: int64"
      ]
     },
     "execution_count": 183,
     "metadata": {},
     "output_type": "execute_result"
    }
   ],
   "source": [
    "df['OS']=df['OS'].str.replace('RAMWindows 11','Windows 11')\n",
    "df['OS']=df['OS'].str.replace('RAMMac OS','Mac OS')\n",
    "df['OS']=df['OS'].str.replace('RAMWindows 10','Windows 10')\n",
    "df['OS']=df['OS'].str.replace('LPDDR4 RAMChrome','Chrome')\n",
    "df['OS']=df['OS'].str.replace('DDR4 RAMChrome','Chrome')\n",
    "df['OS']=df['OS'].str.replace('bit Chrome','Chrome')\n",
    "df['OS']=df['OS'].str.replace('LPDDR4 RAMDOS','DOS')\n",
    "df['OS']=df['OS'].str.replace('bit DOS','DOS')\n",
    "df['OS'].value_counts()"
   ]
  },
  {
   "cell_type": "code",
   "execution_count": 184,
   "id": "6f4dfa0b",
   "metadata": {},
   "outputs": [
    {
     "data": {
      "text/plain": [
       "Windows 11    552\n",
       "Windows 10    109\n",
       "Chrome          7\n",
       "DOS             4\n",
       "Name: OS, dtype: int64"
      ]
     },
     "execution_count": 184,
     "metadata": {},
     "output_type": "execute_result"
    }
   ],
   "source": [
    "df['OS'].value_counts()"
   ]
  },
  {
   "cell_type": "code",
   "execution_count": 185,
   "id": "4fb68e2c",
   "metadata": {},
   "outputs": [
    {
     "name": "stderr",
     "output_type": "stream",
     "text": [
      "<ipython-input-185-c278cb8bebd2>:1: SettingWithCopyWarning: \n",
      "A value is trying to be set on a copy of a slice from a DataFrame.\n",
      "Try using .loc[row_indexer,col_indexer] = value instead\n",
      "\n",
      "See the caveats in the documentation: https://pandas.pydata.org/pandas-docs/stable/user_guide/indexing.html#returning-a-view-versus-a-copy\n",
      "  df['RAM']=df['Feature'].apply(lambda x: x[:x.index('RAM')])\n",
      "<ipython-input-185-c278cb8bebd2>:2: SettingWithCopyWarning: \n",
      "A value is trying to be set on a copy of a slice from a DataFrame.\n",
      "Try using .loc[row_indexer,col_indexer] = value instead\n",
      "\n",
      "See the caveats in the documentation: https://pandas.pydata.org/pandas-docs/stable/user_guide/indexing.html#returning-a-view-versus-a-copy\n",
      "  df['RAM']=df['RAM'].str.split(' ')\n",
      "<ipython-input-185-c278cb8bebd2>:3: SettingWithCopyWarning: \n",
      "A value is trying to be set on a copy of a slice from a DataFrame.\n",
      "Try using .loc[row_indexer,col_indexer] = value instead\n",
      "\n",
      "See the caveats in the documentation: https://pandas.pydata.org/pandas-docs/stable/user_guide/indexing.html#returning-a-view-versus-a-copy\n",
      "  df['RAM_size']=df['RAM'].apply(lambda x: x[-4][-1])\n",
      "<ipython-input-185-c278cb8bebd2>:4: SettingWithCopyWarning: \n",
      "A value is trying to be set on a copy of a slice from a DataFrame.\n",
      "Try using .loc[row_indexer,col_indexer] = value instead\n",
      "\n",
      "See the caveats in the documentation: https://pandas.pydata.org/pandas-docs/stable/user_guide/indexing.html#returning-a-view-versus-a-copy\n",
      "  df['RAM_type']=df['RAM'].apply(lambda x: x[-2])\n"
     ]
    }
   ],
   "source": [
    "df['RAM']=df['Feature'].apply(lambda x: x[:x.index('RAM')])\n",
    "df['RAM']=df['RAM'].str.split(' ')\n",
    "df['RAM_size']=df['RAM'].apply(lambda x: x[-4][-1])\n",
    "df['RAM_type']=df['RAM'].apply(lambda x: x[-2])\n"
   ]
  },
  {
   "cell_type": "code",
   "execution_count": 186,
   "id": "8ca9f7cf",
   "metadata": {},
   "outputs": [
    {
     "data": {
      "text/plain": [
       "DDR4       522\n",
       "DDR5        92\n",
       "LPDDR4X     37\n",
       "LPDDR5       9\n",
       "LPDDR4       8\n",
       "3.50         2\n",
       "LPDDR3       1\n",
       "16MB         1\n",
       "Name: RAM_type, dtype: int64"
      ]
     },
     "execution_count": 186,
     "metadata": {},
     "output_type": "execute_result"
    }
   ],
   "source": [
    "df['RAM_type'].value_counts()"
   ]
  },
  {
   "cell_type": "code",
   "execution_count": 187,
   "id": "f91088b1",
   "metadata": {},
   "outputs": [
    {
     "data": {
      "text/plain": [
       "DDR4       522\n",
       "DDR5        92\n",
       "LPDDR4X     37\n",
       "LPDDR5       9\n",
       "LPDDR4       8\n",
       "LPDDR3       1\n",
       "Name: RAM_type, dtype: int64"
      ]
     },
     "execution_count": 187,
     "metadata": {},
     "output_type": "execute_result"
    }
   ],
   "source": [
    "df= df[df['RAM_type'].str.contains('DDR4|DDR5|LPDDR4X|LPDDR5|LPDDR4|LPDDR3')]\n",
    "df['RAM_type'].value_counts()"
   ]
  },
  {
   "cell_type": "code",
   "execution_count": 188,
   "id": "8188830a",
   "metadata": {},
   "outputs": [
    {
     "name": "stderr",
     "output_type": "stream",
     "text": [
      "<ipython-input-188-a7d0df648054>:1: SettingWithCopyWarning: \n",
      "A value is trying to be set on a copy of a slice from a DataFrame.\n",
      "Try using .loc[row_indexer,col_indexer] = value instead\n",
      "\n",
      "See the caveats in the documentation: https://pandas.pydata.org/pandas-docs/stable/user_guide/indexing.html#returning-a-view-versus-a-copy\n",
      "  df['RAM_size']=df['RAM_size'].str.replace('6 ','16')\n",
      "<ipython-input-188-a7d0df648054>:2: SettingWithCopyWarning: \n",
      "A value is trying to be set on a copy of a slice from a DataFrame.\n",
      "Try using .loc[row_indexer,col_indexer] = value instead\n",
      "\n",
      "See the caveats in the documentation: https://pandas.pydata.org/pandas-docs/stable/user_guide/indexing.html#returning-a-view-versus-a-copy\n",
      "  df['RAM_size']=df['RAM_size'].str.replace('2','32')\n"
     ]
    }
   ],
   "source": [
    "\n",
    "df['RAM_size']=df['RAM_size'].str.replace('6 ','16')\n",
    "df['RAM_size']=df['RAM_size'].str.replace('2','32')\n",
    "\n"
   ]
  },
  {
   "cell_type": "code",
   "execution_count": 189,
   "id": "15de3268",
   "metadata": {},
   "outputs": [
    {
     "data": {
      "text/plain": [
       "8     371\n",
       "6     247\n",
       "4      36\n",
       "32     15\n",
       "Name: RAM_size, dtype: int64"
      ]
     },
     "execution_count": 189,
     "metadata": {},
     "output_type": "execute_result"
    }
   ],
   "source": [
    "df['RAM_size'].value_counts()\n"
   ]
  },
  {
   "cell_type": "code",
   "execution_count": 190,
   "id": "913dc1b0",
   "metadata": {},
   "outputs": [
    {
     "name": "stderr",
     "output_type": "stream",
     "text": [
      "<ipython-input-190-49a309324edd>:1: SettingWithCopyWarning: \n",
      "A value is trying to be set on a copy of a slice from a DataFrame.\n",
      "Try using .loc[row_indexer,col_indexer] = value instead\n",
      "\n",
      "See the caveats in the documentation: https://pandas.pydata.org/pandas-docs/stable/user_guide/indexing.html#returning-a-view-versus-a-copy\n",
      "  df['RAM_size']=df['RAM_size'].astype('int')\n"
     ]
    }
   ],
   "source": [
    "df['RAM_size']=df['RAM_size'].astype('int')"
   ]
  },
  {
   "cell_type": "code",
   "execution_count": 191,
   "id": "dc1d02b3",
   "metadata": {},
   "outputs": [
    {
     "data": {
      "text/html": [
       "<div>\n",
       "<style scoped>\n",
       "    .dataframe tbody tr th:only-of-type {\n",
       "        vertical-align: middle;\n",
       "    }\n",
       "\n",
       "    .dataframe tbody tr th {\n",
       "        vertical-align: top;\n",
       "    }\n",
       "\n",
       "    .dataframe thead th {\n",
       "        text-align: right;\n",
       "    }\n",
       "</style>\n",
       "<table border=\"1\" class=\"dataframe\">\n",
       "  <thead>\n",
       "    <tr style=\"text-align: right;\">\n",
       "      <th></th>\n",
       "      <th>Product</th>\n",
       "      <th>MRP</th>\n",
       "      <th>Feature</th>\n",
       "      <th>Company</th>\n",
       "      <th>Processor</th>\n",
       "      <th>CPU</th>\n",
       "      <th>OS</th>\n",
       "      <th>RAM_size</th>\n",
       "      <th>RAM_type</th>\n",
       "    </tr>\n",
       "  </thead>\n",
       "  <tbody>\n",
       "    <tr>\n",
       "      <th>0</th>\n",
       "      <td>Lenovo IdeaPad 3 Core i3 11th Gen - (8 GB/256 ...</td>\n",
       "      <td>36990</td>\n",
       "      <td>Intel Core i3 Processor (11th Gen)8 GB DDR4 RA...</td>\n",
       "      <td>Lenovo</td>\n",
       "      <td>Core i3</td>\n",
       "      <td>Intel</td>\n",
       "      <td>Windows 11</td>\n",
       "      <td>8</td>\n",
       "      <td>DDR4</td>\n",
       "    </tr>\n",
       "    <tr>\n",
       "      <th>1</th>\n",
       "      <td>Lenovo IdeaPad 3 Core i3 11th Gen - (8 GB/512 ...</td>\n",
       "      <td>39990</td>\n",
       "      <td>Intel Core i3 Processor (11th Gen)8 GB DDR4 RA...</td>\n",
       "      <td>Lenovo</td>\n",
       "      <td>Core i3</td>\n",
       "      <td>Intel</td>\n",
       "      <td>Windows 11</td>\n",
       "      <td>8</td>\n",
       "      <td>DDR4</td>\n",
       "    </tr>\n",
       "    <tr>\n",
       "      <th>2</th>\n",
       "      <td>ASUS VivoBook 15 (2022) Core i3 10th Gen - (8 ...</td>\n",
       "      <td>32990</td>\n",
       "      <td>Intel Core i3 Processor (10th Gen)8 GB DDR4 RA...</td>\n",
       "      <td>ASUS</td>\n",
       "      <td>Core i3</td>\n",
       "      <td>Intel</td>\n",
       "      <td>Windows 11</td>\n",
       "      <td>8</td>\n",
       "      <td>DDR4</td>\n",
       "    </tr>\n",
       "    <tr>\n",
       "      <th>3</th>\n",
       "      <td>HP Pavilion Ryzen 5 Hexa Core AMD R5-5600H - (...</td>\n",
       "      <td>49990</td>\n",
       "      <td>AMD Ryzen 5 Hexa Core Processor8 GB DDR4 RAM64...</td>\n",
       "      <td>HP</td>\n",
       "      <td>Ryzen 5</td>\n",
       "      <td>AMD</td>\n",
       "      <td>Windows 10</td>\n",
       "      <td>8</td>\n",
       "      <td>DDR4</td>\n",
       "    </tr>\n",
       "    <tr>\n",
       "      <th>4</th>\n",
       "      <td>ASUS TUF Gaming F15 Core i5 10th Gen - (8 GB/5...</td>\n",
       "      <td>49990</td>\n",
       "      <td>Intel Core i5 Processor (10th Gen)8 GB DDR4 RA...</td>\n",
       "      <td>ASUS</td>\n",
       "      <td>Core i5</td>\n",
       "      <td>Intel</td>\n",
       "      <td>Windows 11</td>\n",
       "      <td>8</td>\n",
       "      <td>DDR4</td>\n",
       "    </tr>\n",
       "    <tr>\n",
       "      <th>...</th>\n",
       "      <td>...</td>\n",
       "      <td>...</td>\n",
       "      <td>...</td>\n",
       "      <td>...</td>\n",
       "      <td>...</td>\n",
       "      <td>...</td>\n",
       "      <td>...</td>\n",
       "      <td>...</td>\n",
       "      <td>...</td>\n",
       "    </tr>\n",
       "    <tr>\n",
       "      <th>715</th>\n",
       "      <td>ASUS Chromebook Flip Touch Celeron Dual Core -...</td>\n",
       "      <td>23490</td>\n",
       "      <td>Intel Celeron Dual Core Processor4 GB LPDDR4 R...</td>\n",
       "      <td>ASUS</td>\n",
       "      <td>Celeron Dual</td>\n",
       "      <td>Intel</td>\n",
       "      <td>Chrome</td>\n",
       "      <td>4</td>\n",
       "      <td>LPDDR4</td>\n",
       "    </tr>\n",
       "    <tr>\n",
       "      <th>716</th>\n",
       "      <td>Lenovo IdeaPad Gaming 3 Ryzen 7 Octa Core AMD ...</td>\n",
       "      <td>73490</td>\n",
       "      <td>AMD Ryzen 7 Octa Core Processor8 GB DDR4 RAM64...</td>\n",
       "      <td>Lenovo</td>\n",
       "      <td>Ryzen 7</td>\n",
       "      <td>AMD</td>\n",
       "      <td>Windows 11</td>\n",
       "      <td>8</td>\n",
       "      <td>DDR4</td>\n",
       "    </tr>\n",
       "    <tr>\n",
       "      <th>717</th>\n",
       "      <td>ASUS ROG Zephyrus G15 Ryzen 9 Octa Core 6900HS...</td>\n",
       "      <td>194990</td>\n",
       "      <td>AMD Ryzen 9 Octa Core Processor16 GB DDR5 RAM6...</td>\n",
       "      <td>ASUS</td>\n",
       "      <td>Ryzen 9</td>\n",
       "      <td>AMD</td>\n",
       "      <td>Windows 11</td>\n",
       "      <td>6</td>\n",
       "      <td>DDR5</td>\n",
       "    </tr>\n",
       "    <tr>\n",
       "      <th>718</th>\n",
       "      <td>ASUS Zenbook Flip 14 OLED (2022) Touch Panel C...</td>\n",
       "      <td>125990</td>\n",
       "      <td>Intel Core i7 Processor (12th Gen)16 GB LPDDR5...</td>\n",
       "      <td>ASUS</td>\n",
       "      <td>Core i7</td>\n",
       "      <td>Intel</td>\n",
       "      <td>Windows 11</td>\n",
       "      <td>6</td>\n",
       "      <td>LPDDR5</td>\n",
       "    </tr>\n",
       "    <tr>\n",
       "      <th>719</th>\n",
       "      <td>Lenovo Ideapad Slim 3i Core i5 10th Gen - (8 G...</td>\n",
       "      <td>50990</td>\n",
       "      <td>Intel Core i5 Processor (10th Gen)8 GB DDR4 RA...</td>\n",
       "      <td>Lenovo</td>\n",
       "      <td>Core i5</td>\n",
       "      <td>Intel</td>\n",
       "      <td>Windows 10</td>\n",
       "      <td>8</td>\n",
       "      <td>DDR4</td>\n",
       "    </tr>\n",
       "  </tbody>\n",
       "</table>\n",
       "<p>669 rows × 9 columns</p>\n",
       "</div>"
      ],
      "text/plain": [
       "                                               Product     MRP  \\\n",
       "0    Lenovo IdeaPad 3 Core i3 11th Gen - (8 GB/256 ...   36990   \n",
       "1    Lenovo IdeaPad 3 Core i3 11th Gen - (8 GB/512 ...   39990   \n",
       "2    ASUS VivoBook 15 (2022) Core i3 10th Gen - (8 ...   32990   \n",
       "3    HP Pavilion Ryzen 5 Hexa Core AMD R5-5600H - (...   49990   \n",
       "4    ASUS TUF Gaming F15 Core i5 10th Gen - (8 GB/5...   49990   \n",
       "..                                                 ...     ...   \n",
       "715  ASUS Chromebook Flip Touch Celeron Dual Core -...   23490   \n",
       "716  Lenovo IdeaPad Gaming 3 Ryzen 7 Octa Core AMD ...   73490   \n",
       "717  ASUS ROG Zephyrus G15 Ryzen 9 Octa Core 6900HS...  194990   \n",
       "718  ASUS Zenbook Flip 14 OLED (2022) Touch Panel C...  125990   \n",
       "719  Lenovo Ideapad Slim 3i Core i5 10th Gen - (8 G...   50990   \n",
       "\n",
       "                                               Feature Company     Processor  \\\n",
       "0    Intel Core i3 Processor (11th Gen)8 GB DDR4 RA...  Lenovo       Core i3   \n",
       "1    Intel Core i3 Processor (11th Gen)8 GB DDR4 RA...  Lenovo       Core i3   \n",
       "2    Intel Core i3 Processor (10th Gen)8 GB DDR4 RA...    ASUS       Core i3   \n",
       "3    AMD Ryzen 5 Hexa Core Processor8 GB DDR4 RAM64...      HP       Ryzen 5   \n",
       "4    Intel Core i5 Processor (10th Gen)8 GB DDR4 RA...    ASUS       Core i5   \n",
       "..                                                 ...     ...           ...   \n",
       "715  Intel Celeron Dual Core Processor4 GB LPDDR4 R...    ASUS  Celeron Dual   \n",
       "716  AMD Ryzen 7 Octa Core Processor8 GB DDR4 RAM64...  Lenovo       Ryzen 7   \n",
       "717  AMD Ryzen 9 Octa Core Processor16 GB DDR5 RAM6...    ASUS       Ryzen 9   \n",
       "718  Intel Core i7 Processor (12th Gen)16 GB LPDDR5...    ASUS       Core i7   \n",
       "719  Intel Core i5 Processor (10th Gen)8 GB DDR4 RA...  Lenovo       Core i5   \n",
       "\n",
       "       CPU          OS  RAM_size RAM_type  \n",
       "0    Intel  Windows 11         8     DDR4  \n",
       "1    Intel  Windows 11         8     DDR4  \n",
       "2    Intel  Windows 11         8     DDR4  \n",
       "3      AMD  Windows 10         8     DDR4  \n",
       "4    Intel  Windows 11         8     DDR4  \n",
       "..     ...         ...       ...      ...  \n",
       "715  Intel      Chrome         4   LPDDR4  \n",
       "716    AMD  Windows 11         8     DDR4  \n",
       "717    AMD  Windows 11         6     DDR5  \n",
       "718  Intel  Windows 11         6   LPDDR5  \n",
       "719  Intel  Windows 10         8     DDR4  \n",
       "\n",
       "[669 rows x 9 columns]"
      ]
     },
     "execution_count": 191,
     "metadata": {},
     "output_type": "execute_result"
    }
   ],
   "source": [
    "df=df.drop('RAM',axis=1)\n",
    "df"
   ]
  },
  {
   "cell_type": "code",
   "execution_count": 192,
   "id": "b1e545ca",
   "metadata": {},
   "outputs": [],
   "source": [
    "df['Memory']=df['Feature'].str.index('Operating System')\n"
   ]
  },
  {
   "cell_type": "code",
   "execution_count": 193,
   "id": "19c13b84",
   "metadata": {},
   "outputs": [],
   "source": [
    "df['Memory']=df['Feature'].apply(lambda x:x[x.index('Operating System'):])\n",
    "df['Memory']=df['Memory'].str.split(' ')\n",
    "df['Memory_chips']=df['Memory'].apply(lambda x:x[3][:3])\n",
    "df = df[df['Memory_chips'].str.contains('SSD|HDD')]"
   ]
  },
  {
   "cell_type": "code",
   "execution_count": 194,
   "id": "3bbe8032",
   "metadata": {},
   "outputs": [
    {
     "name": "stderr",
     "output_type": "stream",
     "text": [
      "<ipython-input-194-83036a4d622e>:1: SettingWithCopyWarning: \n",
      "A value is trying to be set on a copy of a slice from a DataFrame.\n",
      "Try using .loc[row_indexer,col_indexer] = value instead\n",
      "\n",
      "See the caveats in the documentation: https://pandas.pydata.org/pandas-docs/stable/user_guide/indexing.html#returning-a-view-versus-a-copy\n",
      "  df['Memory']=df['Memory'].apply(lambda x:x[1][-3:]+x[2])\n"
     ]
    }
   ],
   "source": [
    "df['Memory']=df['Memory'].apply(lambda x:x[1][-3:]+x[2])\n"
   ]
  },
  {
   "cell_type": "code",
   "execution_count": 195,
   "id": "9135353a",
   "metadata": {},
   "outputs": [
    {
     "data": {
      "text/plain": [
       "512GB    351\n",
       "em1TB    204\n",
       "256GB     91\n",
       "em2TB      7\n",
       "128GB      6\n",
       "Name: Memory, dtype: int64"
      ]
     },
     "execution_count": 195,
     "metadata": {},
     "output_type": "execute_result"
    }
   ],
   "source": [
    "df['Memory'].value_counts()"
   ]
  },
  {
   "cell_type": "code",
   "execution_count": 196,
   "id": "e57b5dea",
   "metadata": {},
   "outputs": [
    {
     "name": "stderr",
     "output_type": "stream",
     "text": [
      "<ipython-input-196-b1193cf813a7>:1: SettingWithCopyWarning: \n",
      "A value is trying to be set on a copy of a slice from a DataFrame.\n",
      "Try using .loc[row_indexer,col_indexer] = value instead\n",
      "\n",
      "See the caveats in the documentation: https://pandas.pydata.org/pandas-docs/stable/user_guide/indexing.html#returning-a-view-versus-a-copy\n",
      "  df['Memory']=df['Memory'].str.replace('512GB','512')\n",
      "<ipython-input-196-b1193cf813a7>:2: SettingWithCopyWarning: \n",
      "A value is trying to be set on a copy of a slice from a DataFrame.\n",
      "Try using .loc[row_indexer,col_indexer] = value instead\n",
      "\n",
      "See the caveats in the documentation: https://pandas.pydata.org/pandas-docs/stable/user_guide/indexing.html#returning-a-view-versus-a-copy\n",
      "  df['Memory']=df['Memory'].str.replace('em1TB','1024')\n",
      "<ipython-input-196-b1193cf813a7>:3: SettingWithCopyWarning: \n",
      "A value is trying to be set on a copy of a slice from a DataFrame.\n",
      "Try using .loc[row_indexer,col_indexer] = value instead\n",
      "\n",
      "See the caveats in the documentation: https://pandas.pydata.org/pandas-docs/stable/user_guide/indexing.html#returning-a-view-versus-a-copy\n",
      "  df['Memory']=df['Memory'].str.replace('em2TB','2048')\n",
      "<ipython-input-196-b1193cf813a7>:4: SettingWithCopyWarning: \n",
      "A value is trying to be set on a copy of a slice from a DataFrame.\n",
      "Try using .loc[row_indexer,col_indexer] = value instead\n",
      "\n",
      "See the caveats in the documentation: https://pandas.pydata.org/pandas-docs/stable/user_guide/indexing.html#returning-a-view-versus-a-copy\n",
      "  df['Memory']=df['Memory'].str.replace('128GB','128')\n",
      "<ipython-input-196-b1193cf813a7>:5: SettingWithCopyWarning: \n",
      "A value is trying to be set on a copy of a slice from a DataFrame.\n",
      "Try using .loc[row_indexer,col_indexer] = value instead\n",
      "\n",
      "See the caveats in the documentation: https://pandas.pydata.org/pandas-docs/stable/user_guide/indexing.html#returning-a-view-versus-a-copy\n",
      "  df['Memory']=df['Memory'].str.replace('256GB','256')\n"
     ]
    }
   ],
   "source": [
    "df['Memory']=df['Memory'].str.replace('512GB','512')\n",
    "df['Memory']=df['Memory'].str.replace('em1TB','1024')\n",
    "df['Memory']=df['Memory'].str.replace('em2TB','2048')\n",
    "df['Memory']=df['Memory'].str.replace('128GB','128')\n",
    "df['Memory']=df['Memory'].str.replace('256GB','256')\n",
    "df = df[df['Memory'].str.contains('512|1024|256|2048|128')]"
   ]
  },
  {
   "cell_type": "code",
   "execution_count": 197,
   "id": "9177d2fc",
   "metadata": {},
   "outputs": [
    {
     "data": {
      "text/plain": [
       "512     351\n",
       "1024    204\n",
       "256      91\n",
       "2048      7\n",
       "128       6\n",
       "Name: Memory, dtype: int64"
      ]
     },
     "execution_count": 197,
     "metadata": {},
     "output_type": "execute_result"
    }
   ],
   "source": [
    "df['Memory'].value_counts()"
   ]
  },
  {
   "cell_type": "code",
   "execution_count": 198,
   "id": "8504e88a",
   "metadata": {},
   "outputs": [],
   "source": [
    "df['Memory']=df['Memory'].astype('int')"
   ]
  },
  {
   "cell_type": "code",
   "execution_count": 199,
   "id": "7bbb8637",
   "metadata": {},
   "outputs": [
    {
     "data": {
      "text/plain": [
       "SSD    621\n",
       "HDD     38\n",
       "Name: Memory_chips, dtype: int64"
      ]
     },
     "execution_count": 199,
     "metadata": {},
     "output_type": "execute_result"
    }
   ],
   "source": [
    "df['Memory_chips'].value_counts()"
   ]
  },
  {
   "cell_type": "code",
   "execution_count": 200,
   "id": "917f3659",
   "metadata": {},
   "outputs": [
    {
     "data": {
      "text/html": [
       "<div>\n",
       "<style scoped>\n",
       "    .dataframe tbody tr th:only-of-type {\n",
       "        vertical-align: middle;\n",
       "    }\n",
       "\n",
       "    .dataframe tbody tr th {\n",
       "        vertical-align: top;\n",
       "    }\n",
       "\n",
       "    .dataframe thead th {\n",
       "        text-align: right;\n",
       "    }\n",
       "</style>\n",
       "<table border=\"1\" class=\"dataframe\">\n",
       "  <thead>\n",
       "    <tr style=\"text-align: right;\">\n",
       "      <th></th>\n",
       "      <th>Product</th>\n",
       "      <th>MRP</th>\n",
       "      <th>Feature</th>\n",
       "      <th>Company</th>\n",
       "      <th>Processor</th>\n",
       "      <th>CPU</th>\n",
       "      <th>OS</th>\n",
       "      <th>RAM_size</th>\n",
       "      <th>RAM_type</th>\n",
       "      <th>Memory</th>\n",
       "      <th>Memory_chips</th>\n",
       "    </tr>\n",
       "  </thead>\n",
       "  <tbody>\n",
       "    <tr>\n",
       "      <th>0</th>\n",
       "      <td>Lenovo IdeaPad 3 Core i3 11th Gen - (8 GB/256 ...</td>\n",
       "      <td>36990</td>\n",
       "      <td>Intel Core i3 Processor (11th Gen)8 GB DDR4 RA...</td>\n",
       "      <td>Lenovo</td>\n",
       "      <td>Core i3</td>\n",
       "      <td>Intel</td>\n",
       "      <td>Windows 11</td>\n",
       "      <td>8</td>\n",
       "      <td>DDR4</td>\n",
       "      <td>256</td>\n",
       "      <td>SSD</td>\n",
       "    </tr>\n",
       "    <tr>\n",
       "      <th>1</th>\n",
       "      <td>Lenovo IdeaPad 3 Core i3 11th Gen - (8 GB/512 ...</td>\n",
       "      <td>39990</td>\n",
       "      <td>Intel Core i3 Processor (11th Gen)8 GB DDR4 RA...</td>\n",
       "      <td>Lenovo</td>\n",
       "      <td>Core i3</td>\n",
       "      <td>Intel</td>\n",
       "      <td>Windows 11</td>\n",
       "      <td>8</td>\n",
       "      <td>DDR4</td>\n",
       "      <td>512</td>\n",
       "      <td>SSD</td>\n",
       "    </tr>\n",
       "    <tr>\n",
       "      <th>2</th>\n",
       "      <td>ASUS VivoBook 15 (2022) Core i3 10th Gen - (8 ...</td>\n",
       "      <td>32990</td>\n",
       "      <td>Intel Core i3 Processor (10th Gen)8 GB DDR4 RA...</td>\n",
       "      <td>ASUS</td>\n",
       "      <td>Core i3</td>\n",
       "      <td>Intel</td>\n",
       "      <td>Windows 11</td>\n",
       "      <td>8</td>\n",
       "      <td>DDR4</td>\n",
       "      <td>512</td>\n",
       "      <td>SSD</td>\n",
       "    </tr>\n",
       "    <tr>\n",
       "      <th>3</th>\n",
       "      <td>HP Pavilion Ryzen 5 Hexa Core AMD R5-5600H - (...</td>\n",
       "      <td>49990</td>\n",
       "      <td>AMD Ryzen 5 Hexa Core Processor8 GB DDR4 RAM64...</td>\n",
       "      <td>HP</td>\n",
       "      <td>Ryzen 5</td>\n",
       "      <td>AMD</td>\n",
       "      <td>Windows 10</td>\n",
       "      <td>8</td>\n",
       "      <td>DDR4</td>\n",
       "      <td>512</td>\n",
       "      <td>SSD</td>\n",
       "    </tr>\n",
       "    <tr>\n",
       "      <th>4</th>\n",
       "      <td>ASUS TUF Gaming F15 Core i5 10th Gen - (8 GB/5...</td>\n",
       "      <td>49990</td>\n",
       "      <td>Intel Core i5 Processor (10th Gen)8 GB DDR4 RA...</td>\n",
       "      <td>ASUS</td>\n",
       "      <td>Core i5</td>\n",
       "      <td>Intel</td>\n",
       "      <td>Windows 11</td>\n",
       "      <td>8</td>\n",
       "      <td>DDR4</td>\n",
       "      <td>512</td>\n",
       "      <td>SSD</td>\n",
       "    </tr>\n",
       "    <tr>\n",
       "      <th>...</th>\n",
       "      <td>...</td>\n",
       "      <td>...</td>\n",
       "      <td>...</td>\n",
       "      <td>...</td>\n",
       "      <td>...</td>\n",
       "      <td>...</td>\n",
       "      <td>...</td>\n",
       "      <td>...</td>\n",
       "      <td>...</td>\n",
       "      <td>...</td>\n",
       "      <td>...</td>\n",
       "    </tr>\n",
       "    <tr>\n",
       "      <th>714</th>\n",
       "      <td>HP Pavilion Ryzen 7 Octa Core AMD R7-5800H - (...</td>\n",
       "      <td>90000</td>\n",
       "      <td>AMD Ryzen 7 Octa Core Processor16 GB DDR4 RAM6...</td>\n",
       "      <td>HP</td>\n",
       "      <td>Ryzen 7</td>\n",
       "      <td>AMD</td>\n",
       "      <td>Windows 10</td>\n",
       "      <td>6</td>\n",
       "      <td>DDR4</td>\n",
       "      <td>512</td>\n",
       "      <td>SSD</td>\n",
       "    </tr>\n",
       "    <tr>\n",
       "      <th>716</th>\n",
       "      <td>Lenovo IdeaPad Gaming 3 Ryzen 7 Octa Core AMD ...</td>\n",
       "      <td>73490</td>\n",
       "      <td>AMD Ryzen 7 Octa Core Processor8 GB DDR4 RAM64...</td>\n",
       "      <td>Lenovo</td>\n",
       "      <td>Ryzen 7</td>\n",
       "      <td>AMD</td>\n",
       "      <td>Windows 11</td>\n",
       "      <td>8</td>\n",
       "      <td>DDR4</td>\n",
       "      <td>512</td>\n",
       "      <td>SSD</td>\n",
       "    </tr>\n",
       "    <tr>\n",
       "      <th>717</th>\n",
       "      <td>ASUS ROG Zephyrus G15 Ryzen 9 Octa Core 6900HS...</td>\n",
       "      <td>194990</td>\n",
       "      <td>AMD Ryzen 9 Octa Core Processor16 GB DDR5 RAM6...</td>\n",
       "      <td>ASUS</td>\n",
       "      <td>Ryzen 9</td>\n",
       "      <td>AMD</td>\n",
       "      <td>Windows 11</td>\n",
       "      <td>6</td>\n",
       "      <td>DDR5</td>\n",
       "      <td>1024</td>\n",
       "      <td>SSD</td>\n",
       "    </tr>\n",
       "    <tr>\n",
       "      <th>718</th>\n",
       "      <td>ASUS Zenbook Flip 14 OLED (2022) Touch Panel C...</td>\n",
       "      <td>125990</td>\n",
       "      <td>Intel Core i7 Processor (12th Gen)16 GB LPDDR5...</td>\n",
       "      <td>ASUS</td>\n",
       "      <td>Core i7</td>\n",
       "      <td>Intel</td>\n",
       "      <td>Windows 11</td>\n",
       "      <td>6</td>\n",
       "      <td>LPDDR5</td>\n",
       "      <td>512</td>\n",
       "      <td>SSD</td>\n",
       "    </tr>\n",
       "    <tr>\n",
       "      <th>719</th>\n",
       "      <td>Lenovo Ideapad Slim 3i Core i5 10th Gen - (8 G...</td>\n",
       "      <td>50990</td>\n",
       "      <td>Intel Core i5 Processor (10th Gen)8 GB DDR4 RA...</td>\n",
       "      <td>Lenovo</td>\n",
       "      <td>Core i5</td>\n",
       "      <td>Intel</td>\n",
       "      <td>Windows 10</td>\n",
       "      <td>8</td>\n",
       "      <td>DDR4</td>\n",
       "      <td>1024</td>\n",
       "      <td>HDD</td>\n",
       "    </tr>\n",
       "  </tbody>\n",
       "</table>\n",
       "<p>659 rows × 11 columns</p>\n",
       "</div>"
      ],
      "text/plain": [
       "                                               Product     MRP  \\\n",
       "0    Lenovo IdeaPad 3 Core i3 11th Gen - (8 GB/256 ...   36990   \n",
       "1    Lenovo IdeaPad 3 Core i3 11th Gen - (8 GB/512 ...   39990   \n",
       "2    ASUS VivoBook 15 (2022) Core i3 10th Gen - (8 ...   32990   \n",
       "3    HP Pavilion Ryzen 5 Hexa Core AMD R5-5600H - (...   49990   \n",
       "4    ASUS TUF Gaming F15 Core i5 10th Gen - (8 GB/5...   49990   \n",
       "..                                                 ...     ...   \n",
       "714  HP Pavilion Ryzen 7 Octa Core AMD R7-5800H - (...   90000   \n",
       "716  Lenovo IdeaPad Gaming 3 Ryzen 7 Octa Core AMD ...   73490   \n",
       "717  ASUS ROG Zephyrus G15 Ryzen 9 Octa Core 6900HS...  194990   \n",
       "718  ASUS Zenbook Flip 14 OLED (2022) Touch Panel C...  125990   \n",
       "719  Lenovo Ideapad Slim 3i Core i5 10th Gen - (8 G...   50990   \n",
       "\n",
       "                                               Feature Company Processor  \\\n",
       "0    Intel Core i3 Processor (11th Gen)8 GB DDR4 RA...  Lenovo   Core i3   \n",
       "1    Intel Core i3 Processor (11th Gen)8 GB DDR4 RA...  Lenovo   Core i3   \n",
       "2    Intel Core i3 Processor (10th Gen)8 GB DDR4 RA...    ASUS   Core i3   \n",
       "3    AMD Ryzen 5 Hexa Core Processor8 GB DDR4 RAM64...      HP   Ryzen 5   \n",
       "4    Intel Core i5 Processor (10th Gen)8 GB DDR4 RA...    ASUS   Core i5   \n",
       "..                                                 ...     ...       ...   \n",
       "714  AMD Ryzen 7 Octa Core Processor16 GB DDR4 RAM6...      HP   Ryzen 7   \n",
       "716  AMD Ryzen 7 Octa Core Processor8 GB DDR4 RAM64...  Lenovo   Ryzen 7   \n",
       "717  AMD Ryzen 9 Octa Core Processor16 GB DDR5 RAM6...    ASUS   Ryzen 9   \n",
       "718  Intel Core i7 Processor (12th Gen)16 GB LPDDR5...    ASUS   Core i7   \n",
       "719  Intel Core i5 Processor (10th Gen)8 GB DDR4 RA...  Lenovo   Core i5   \n",
       "\n",
       "       CPU          OS  RAM_size RAM_type  Memory Memory_chips  \n",
       "0    Intel  Windows 11         8     DDR4     256          SSD  \n",
       "1    Intel  Windows 11         8     DDR4     512          SSD  \n",
       "2    Intel  Windows 11         8     DDR4     512          SSD  \n",
       "3      AMD  Windows 10         8     DDR4     512          SSD  \n",
       "4    Intel  Windows 11         8     DDR4     512          SSD  \n",
       "..     ...         ...       ...      ...     ...          ...  \n",
       "714    AMD  Windows 10         6     DDR4     512          SSD  \n",
       "716    AMD  Windows 11         8     DDR4     512          SSD  \n",
       "717    AMD  Windows 11         6     DDR5    1024          SSD  \n",
       "718  Intel  Windows 11         6   LPDDR5     512          SSD  \n",
       "719  Intel  Windows 10         8     DDR4    1024          HDD  \n",
       "\n",
       "[659 rows x 11 columns]"
      ]
     },
     "execution_count": 200,
     "metadata": {},
     "output_type": "execute_result"
    }
   ],
   "source": [
    "df\n"
   ]
  },
  {
   "cell_type": "code",
   "execution_count": 201,
   "id": "c82c8df9",
   "metadata": {},
   "outputs": [],
   "source": [
    "df=df.drop('Product',axis=1)\n",
    "df=df.drop('Feature',axis=1)"
   ]
  },
  {
   "cell_type": "markdown",
   "id": "dd1bd34c",
   "metadata": {},
   "source": [
    "# Cleaned data set"
   ]
  },
  {
   "cell_type": "code",
   "execution_count": 202,
   "id": "861d5660",
   "metadata": {},
   "outputs": [
    {
     "data": {
      "text/html": [
       "<div>\n",
       "<style scoped>\n",
       "    .dataframe tbody tr th:only-of-type {\n",
       "        vertical-align: middle;\n",
       "    }\n",
       "\n",
       "    .dataframe tbody tr th {\n",
       "        vertical-align: top;\n",
       "    }\n",
       "\n",
       "    .dataframe thead th {\n",
       "        text-align: right;\n",
       "    }\n",
       "</style>\n",
       "<table border=\"1\" class=\"dataframe\">\n",
       "  <thead>\n",
       "    <tr style=\"text-align: right;\">\n",
       "      <th></th>\n",
       "      <th>MRP</th>\n",
       "      <th>Company</th>\n",
       "      <th>Processor</th>\n",
       "      <th>CPU</th>\n",
       "      <th>OS</th>\n",
       "      <th>RAM_size</th>\n",
       "      <th>RAM_type</th>\n",
       "      <th>Memory</th>\n",
       "      <th>Memory_chips</th>\n",
       "    </tr>\n",
       "  </thead>\n",
       "  <tbody>\n",
       "    <tr>\n",
       "      <th>0</th>\n",
       "      <td>36990</td>\n",
       "      <td>Lenovo</td>\n",
       "      <td>Core i3</td>\n",
       "      <td>Intel</td>\n",
       "      <td>Windows 11</td>\n",
       "      <td>8</td>\n",
       "      <td>DDR4</td>\n",
       "      <td>256</td>\n",
       "      <td>SSD</td>\n",
       "    </tr>\n",
       "    <tr>\n",
       "      <th>1</th>\n",
       "      <td>39990</td>\n",
       "      <td>Lenovo</td>\n",
       "      <td>Core i3</td>\n",
       "      <td>Intel</td>\n",
       "      <td>Windows 11</td>\n",
       "      <td>8</td>\n",
       "      <td>DDR4</td>\n",
       "      <td>512</td>\n",
       "      <td>SSD</td>\n",
       "    </tr>\n",
       "    <tr>\n",
       "      <th>2</th>\n",
       "      <td>32990</td>\n",
       "      <td>ASUS</td>\n",
       "      <td>Core i3</td>\n",
       "      <td>Intel</td>\n",
       "      <td>Windows 11</td>\n",
       "      <td>8</td>\n",
       "      <td>DDR4</td>\n",
       "      <td>512</td>\n",
       "      <td>SSD</td>\n",
       "    </tr>\n",
       "    <tr>\n",
       "      <th>3</th>\n",
       "      <td>49990</td>\n",
       "      <td>HP</td>\n",
       "      <td>Ryzen 5</td>\n",
       "      <td>AMD</td>\n",
       "      <td>Windows 10</td>\n",
       "      <td>8</td>\n",
       "      <td>DDR4</td>\n",
       "      <td>512</td>\n",
       "      <td>SSD</td>\n",
       "    </tr>\n",
       "    <tr>\n",
       "      <th>4</th>\n",
       "      <td>49990</td>\n",
       "      <td>ASUS</td>\n",
       "      <td>Core i5</td>\n",
       "      <td>Intel</td>\n",
       "      <td>Windows 11</td>\n",
       "      <td>8</td>\n",
       "      <td>DDR4</td>\n",
       "      <td>512</td>\n",
       "      <td>SSD</td>\n",
       "    </tr>\n",
       "    <tr>\n",
       "      <th>...</th>\n",
       "      <td>...</td>\n",
       "      <td>...</td>\n",
       "      <td>...</td>\n",
       "      <td>...</td>\n",
       "      <td>...</td>\n",
       "      <td>...</td>\n",
       "      <td>...</td>\n",
       "      <td>...</td>\n",
       "      <td>...</td>\n",
       "    </tr>\n",
       "    <tr>\n",
       "      <th>714</th>\n",
       "      <td>90000</td>\n",
       "      <td>HP</td>\n",
       "      <td>Ryzen 7</td>\n",
       "      <td>AMD</td>\n",
       "      <td>Windows 10</td>\n",
       "      <td>6</td>\n",
       "      <td>DDR4</td>\n",
       "      <td>512</td>\n",
       "      <td>SSD</td>\n",
       "    </tr>\n",
       "    <tr>\n",
       "      <th>716</th>\n",
       "      <td>73490</td>\n",
       "      <td>Lenovo</td>\n",
       "      <td>Ryzen 7</td>\n",
       "      <td>AMD</td>\n",
       "      <td>Windows 11</td>\n",
       "      <td>8</td>\n",
       "      <td>DDR4</td>\n",
       "      <td>512</td>\n",
       "      <td>SSD</td>\n",
       "    </tr>\n",
       "    <tr>\n",
       "      <th>717</th>\n",
       "      <td>194990</td>\n",
       "      <td>ASUS</td>\n",
       "      <td>Ryzen 9</td>\n",
       "      <td>AMD</td>\n",
       "      <td>Windows 11</td>\n",
       "      <td>6</td>\n",
       "      <td>DDR5</td>\n",
       "      <td>1024</td>\n",
       "      <td>SSD</td>\n",
       "    </tr>\n",
       "    <tr>\n",
       "      <th>718</th>\n",
       "      <td>125990</td>\n",
       "      <td>ASUS</td>\n",
       "      <td>Core i7</td>\n",
       "      <td>Intel</td>\n",
       "      <td>Windows 11</td>\n",
       "      <td>6</td>\n",
       "      <td>LPDDR5</td>\n",
       "      <td>512</td>\n",
       "      <td>SSD</td>\n",
       "    </tr>\n",
       "    <tr>\n",
       "      <th>719</th>\n",
       "      <td>50990</td>\n",
       "      <td>Lenovo</td>\n",
       "      <td>Core i5</td>\n",
       "      <td>Intel</td>\n",
       "      <td>Windows 10</td>\n",
       "      <td>8</td>\n",
       "      <td>DDR4</td>\n",
       "      <td>1024</td>\n",
       "      <td>HDD</td>\n",
       "    </tr>\n",
       "  </tbody>\n",
       "</table>\n",
       "<p>659 rows × 9 columns</p>\n",
       "</div>"
      ],
      "text/plain": [
       "        MRP Company Processor    CPU          OS  RAM_size RAM_type  Memory  \\\n",
       "0     36990  Lenovo   Core i3  Intel  Windows 11         8     DDR4     256   \n",
       "1     39990  Lenovo   Core i3  Intel  Windows 11         8     DDR4     512   \n",
       "2     32990    ASUS   Core i3  Intel  Windows 11         8     DDR4     512   \n",
       "3     49990      HP   Ryzen 5    AMD  Windows 10         8     DDR4     512   \n",
       "4     49990    ASUS   Core i5  Intel  Windows 11         8     DDR4     512   \n",
       "..      ...     ...       ...    ...         ...       ...      ...     ...   \n",
       "714   90000      HP   Ryzen 7    AMD  Windows 10         6     DDR4     512   \n",
       "716   73490  Lenovo   Ryzen 7    AMD  Windows 11         8     DDR4     512   \n",
       "717  194990    ASUS   Ryzen 9    AMD  Windows 11         6     DDR5    1024   \n",
       "718  125990    ASUS   Core i7  Intel  Windows 11         6   LPDDR5     512   \n",
       "719   50990  Lenovo   Core i5  Intel  Windows 10         8     DDR4    1024   \n",
       "\n",
       "    Memory_chips  \n",
       "0            SSD  \n",
       "1            SSD  \n",
       "2            SSD  \n",
       "3            SSD  \n",
       "4            SSD  \n",
       "..           ...  \n",
       "714          SSD  \n",
       "716          SSD  \n",
       "717          SSD  \n",
       "718          SSD  \n",
       "719          HDD  \n",
       "\n",
       "[659 rows x 9 columns]"
      ]
     },
     "execution_count": 202,
     "metadata": {},
     "output_type": "execute_result"
    }
   ],
   "source": [
    "df"
   ]
  },
  {
   "cell_type": "code",
   "execution_count": 203,
   "id": "4813508e",
   "metadata": {},
   "outputs": [
    {
     "name": "stdout",
     "output_type": "stream",
     "text": [
      "<class 'pandas.core.frame.DataFrame'>\n",
      "Int64Index: 659 entries, 0 to 719\n",
      "Data columns (total 9 columns):\n",
      " #   Column        Non-Null Count  Dtype \n",
      "---  ------        --------------  ----- \n",
      " 0   MRP           659 non-null    int32 \n",
      " 1   Company       659 non-null    object\n",
      " 2   Processor     659 non-null    object\n",
      " 3   CPU           659 non-null    object\n",
      " 4   OS            659 non-null    object\n",
      " 5   RAM_size      659 non-null    int32 \n",
      " 6   RAM_type      659 non-null    object\n",
      " 7   Memory        659 non-null    int32 \n",
      " 8   Memory_chips  659 non-null    object\n",
      "dtypes: int32(3), object(6)\n",
      "memory usage: 43.8+ KB\n"
     ]
    }
   ],
   "source": [
    "df.info()"
   ]
  },
  {
   "cell_type": "code",
   "execution_count": 204,
   "id": "8e743510",
   "metadata": {},
   "outputs": [
    {
     "data": {
      "text/plain": [
       "Core i5           150\n",
       "Core i3           129\n",
       "Ryzen 9            87\n",
       "Ryzen 5            86\n",
       "Ryzen 7            80\n",
       "Core i7            49\n",
       "Ryzen 3            47\n",
       "Celeron Dual       11\n",
       "Core i9            10\n",
       "Celeron Quad        3\n",
       "Pentium Quad        3\n",
       "Athlon Dual         2\n",
       "Pentium Silver      2\n",
       "Name: Processor, dtype: int64"
      ]
     },
     "execution_count": 204,
     "metadata": {},
     "output_type": "execute_result"
    }
   ],
   "source": [
    "df['Processor'].value_counts()"
   ]
  },
  {
   "cell_type": "code",
   "execution_count": 205,
   "id": "e6f87602",
   "metadata": {},
   "outputs": [
    {
     "data": {
      "text/plain": [
       "\"value_counts = df['Processor'].value_counts()\\n\\nthreshold = 5\\nvalue_counts_greater_than_threshold = value_counts[value_counts > threshold]\\nvalue_counts_greater_than_threshold\""
      ]
     },
     "execution_count": 205,
     "metadata": {},
     "output_type": "execute_result"
    }
   ],
   "source": [
    "\n",
    "'''value_counts = df['Processor'].value_counts()\n",
    "\n",
    "threshold = 5\n",
    "value_counts_greater_than_threshold = value_counts[value_counts > threshold]\n",
    "value_counts_greater_than_threshold'''\n",
    "#df = df[df['Processor'].str.contains('Core i|Pentium|Celeron|Ryzen|Athlon|Snapdragon')]"
   ]
  },
  {
   "cell_type": "code",
   "execution_count": 206,
   "id": "57e31f77",
   "metadata": {},
   "outputs": [
    {
     "data": {
      "text/html": [
       "<div>\n",
       "<style scoped>\n",
       "    .dataframe tbody tr th:only-of-type {\n",
       "        vertical-align: middle;\n",
       "    }\n",
       "\n",
       "    .dataframe tbody tr th {\n",
       "        vertical-align: top;\n",
       "    }\n",
       "\n",
       "    .dataframe thead th {\n",
       "        text-align: right;\n",
       "    }\n",
       "</style>\n",
       "<table border=\"1\" class=\"dataframe\">\n",
       "  <thead>\n",
       "    <tr style=\"text-align: right;\">\n",
       "      <th></th>\n",
       "      <th>MRP</th>\n",
       "      <th>Company</th>\n",
       "      <th>Processor</th>\n",
       "      <th>CPU</th>\n",
       "      <th>OS</th>\n",
       "      <th>RAM_size</th>\n",
       "      <th>RAM_type</th>\n",
       "      <th>Memory</th>\n",
       "      <th>Memory_chips</th>\n",
       "    </tr>\n",
       "  </thead>\n",
       "  <tbody>\n",
       "    <tr>\n",
       "      <th>0</th>\n",
       "      <td>36990</td>\n",
       "      <td>Lenovo</td>\n",
       "      <td>Core i3</td>\n",
       "      <td>Intel</td>\n",
       "      <td>Windows 11</td>\n",
       "      <td>8</td>\n",
       "      <td>DDR4</td>\n",
       "      <td>256</td>\n",
       "      <td>SSD</td>\n",
       "    </tr>\n",
       "    <tr>\n",
       "      <th>1</th>\n",
       "      <td>39990</td>\n",
       "      <td>Lenovo</td>\n",
       "      <td>Core i3</td>\n",
       "      <td>Intel</td>\n",
       "      <td>Windows 11</td>\n",
       "      <td>8</td>\n",
       "      <td>DDR4</td>\n",
       "      <td>512</td>\n",
       "      <td>SSD</td>\n",
       "    </tr>\n",
       "    <tr>\n",
       "      <th>2</th>\n",
       "      <td>32990</td>\n",
       "      <td>ASUS</td>\n",
       "      <td>Core i3</td>\n",
       "      <td>Intel</td>\n",
       "      <td>Windows 11</td>\n",
       "      <td>8</td>\n",
       "      <td>DDR4</td>\n",
       "      <td>512</td>\n",
       "      <td>SSD</td>\n",
       "    </tr>\n",
       "    <tr>\n",
       "      <th>3</th>\n",
       "      <td>49990</td>\n",
       "      <td>HP</td>\n",
       "      <td>Ryzen 5</td>\n",
       "      <td>AMD</td>\n",
       "      <td>Windows 10</td>\n",
       "      <td>8</td>\n",
       "      <td>DDR4</td>\n",
       "      <td>512</td>\n",
       "      <td>SSD</td>\n",
       "    </tr>\n",
       "    <tr>\n",
       "      <th>4</th>\n",
       "      <td>49990</td>\n",
       "      <td>ASUS</td>\n",
       "      <td>Core i5</td>\n",
       "      <td>Intel</td>\n",
       "      <td>Windows 11</td>\n",
       "      <td>8</td>\n",
       "      <td>DDR4</td>\n",
       "      <td>512</td>\n",
       "      <td>SSD</td>\n",
       "    </tr>\n",
       "    <tr>\n",
       "      <th>...</th>\n",
       "      <td>...</td>\n",
       "      <td>...</td>\n",
       "      <td>...</td>\n",
       "      <td>...</td>\n",
       "      <td>...</td>\n",
       "      <td>...</td>\n",
       "      <td>...</td>\n",
       "      <td>...</td>\n",
       "      <td>...</td>\n",
       "    </tr>\n",
       "    <tr>\n",
       "      <th>714</th>\n",
       "      <td>90000</td>\n",
       "      <td>HP</td>\n",
       "      <td>Ryzen 7</td>\n",
       "      <td>AMD</td>\n",
       "      <td>Windows 10</td>\n",
       "      <td>6</td>\n",
       "      <td>DDR4</td>\n",
       "      <td>512</td>\n",
       "      <td>SSD</td>\n",
       "    </tr>\n",
       "    <tr>\n",
       "      <th>716</th>\n",
       "      <td>73490</td>\n",
       "      <td>Lenovo</td>\n",
       "      <td>Ryzen 7</td>\n",
       "      <td>AMD</td>\n",
       "      <td>Windows 11</td>\n",
       "      <td>8</td>\n",
       "      <td>DDR4</td>\n",
       "      <td>512</td>\n",
       "      <td>SSD</td>\n",
       "    </tr>\n",
       "    <tr>\n",
       "      <th>717</th>\n",
       "      <td>194990</td>\n",
       "      <td>ASUS</td>\n",
       "      <td>Ryzen 9</td>\n",
       "      <td>AMD</td>\n",
       "      <td>Windows 11</td>\n",
       "      <td>6</td>\n",
       "      <td>DDR5</td>\n",
       "      <td>1024</td>\n",
       "      <td>SSD</td>\n",
       "    </tr>\n",
       "    <tr>\n",
       "      <th>718</th>\n",
       "      <td>125990</td>\n",
       "      <td>ASUS</td>\n",
       "      <td>Core i7</td>\n",
       "      <td>Intel</td>\n",
       "      <td>Windows 11</td>\n",
       "      <td>6</td>\n",
       "      <td>LPDDR5</td>\n",
       "      <td>512</td>\n",
       "      <td>SSD</td>\n",
       "    </tr>\n",
       "    <tr>\n",
       "      <th>719</th>\n",
       "      <td>50990</td>\n",
       "      <td>Lenovo</td>\n",
       "      <td>Core i5</td>\n",
       "      <td>Intel</td>\n",
       "      <td>Windows 10</td>\n",
       "      <td>8</td>\n",
       "      <td>DDR4</td>\n",
       "      <td>1024</td>\n",
       "      <td>HDD</td>\n",
       "    </tr>\n",
       "  </tbody>\n",
       "</table>\n",
       "<p>659 rows × 9 columns</p>\n",
       "</div>"
      ],
      "text/plain": [
       "        MRP Company Processor    CPU          OS  RAM_size RAM_type  Memory  \\\n",
       "0     36990  Lenovo   Core i3  Intel  Windows 11         8     DDR4     256   \n",
       "1     39990  Lenovo   Core i3  Intel  Windows 11         8     DDR4     512   \n",
       "2     32990    ASUS   Core i3  Intel  Windows 11         8     DDR4     512   \n",
       "3     49990      HP   Ryzen 5    AMD  Windows 10         8     DDR4     512   \n",
       "4     49990    ASUS   Core i5  Intel  Windows 11         8     DDR4     512   \n",
       "..      ...     ...       ...    ...         ...       ...      ...     ...   \n",
       "714   90000      HP   Ryzen 7    AMD  Windows 10         6     DDR4     512   \n",
       "716   73490  Lenovo   Ryzen 7    AMD  Windows 11         8     DDR4     512   \n",
       "717  194990    ASUS   Ryzen 9    AMD  Windows 11         6     DDR5    1024   \n",
       "718  125990    ASUS   Core i7  Intel  Windows 11         6   LPDDR5     512   \n",
       "719   50990  Lenovo   Core i5  Intel  Windows 10         8     DDR4    1024   \n",
       "\n",
       "    Memory_chips  \n",
       "0            SSD  \n",
       "1            SSD  \n",
       "2            SSD  \n",
       "3            SSD  \n",
       "4            SSD  \n",
       "..           ...  \n",
       "714          SSD  \n",
       "716          SSD  \n",
       "717          SSD  \n",
       "718          SSD  \n",
       "719          HDD  \n",
       "\n",
       "[659 rows x 9 columns]"
      ]
     },
     "execution_count": 206,
     "metadata": {},
     "output_type": "execute_result"
    }
   ],
   "source": [
    "df"
   ]
  },
  {
   "cell_type": "code",
   "execution_count": 207,
   "id": "0500a42b",
   "metadata": {},
   "outputs": [
    {
     "data": {
      "text/plain": [
       "Core i5           150\n",
       "Core i3           129\n",
       "Ryzen 9            87\n",
       "Ryzen 5            86\n",
       "Ryzen 7            80\n",
       "Core i7            49\n",
       "Ryzen 3            47\n",
       "Celeron Dual       11\n",
       "Core i9            10\n",
       "Celeron Quad        3\n",
       "Pentium Quad        3\n",
       "Athlon Dual         2\n",
       "Pentium Silver      2\n",
       "Name: Processor, dtype: int64"
      ]
     },
     "execution_count": 207,
     "metadata": {},
     "output_type": "execute_result"
    }
   ],
   "source": [
    "df['Processor'].value_counts()"
   ]
  },
  {
   "cell_type": "code",
   "execution_count": 208,
   "id": "43d7c7fa",
   "metadata": {},
   "outputs": [
    {
     "data": {
      "text/plain": [
       "<AxesSubplot:title={'center':'MRP'}, xlabel='Company'>"
      ]
     },
     "execution_count": 208,
     "metadata": {},
     "output_type": "execute_result"
    },
    {
     "data": {
      "image/png": "[encoded data removed]",
      "text/plain": [
       "<Figure size 1080x576 with 1 Axes>"
      ]
     },
     "metadata": {
      "needs_background": "light"
     },
     "output_type": "display_data"
    }
   ],
   "source": [
    "df.boxplot(by='Company',column='MRP',figsize=(15,8))"
   ]
  },
  {
   "cell_type": "code",
   "execution_count": 209,
   "id": "1e740fac",
   "metadata": {},
   "outputs": [
    {
     "data": {
      "text/plain": [
       "<AxesSubplot:title={'center':'MRP'}, xlabel='Processor'>"
      ]
     },
     "execution_count": 209,
     "metadata": {},
     "output_type": "execute_result"
    },
    {
     "data": {
      "image/png": "[encoded data removed]",
      "text/plain": [
       "<Figure size 1080x576 with 1 Axes>"
      ]
     },
     "metadata": {
      "needs_background": "light"
     },
     "output_type": "display_data"
    }
   ],
   "source": [
    "\n",
    "df.boxplot(by='Processor',column='MRP',figsize=(15,8))"
   ]
  },
  {
   "cell_type": "code",
   "execution_count": 210,
   "id": "6fc3a4ad",
   "metadata": {},
   "outputs": [
    {
     "data": {
      "text/plain": [
       "<AxesSubplot:title={'center':'MRP'}, xlabel='Memory_chips'>"
      ]
     },
     "execution_count": 210,
     "metadata": {},
     "output_type": "execute_result"
    },
    {
     "data": {
      "image/png": "[encoded data removed]",
      "text/plain": [
       "<Figure size 432x288 with 1 Axes>"
      ]
     },
     "metadata": {
      "needs_background": "light"
     },
     "output_type": "display_data"
    }
   ],
   "source": [
    "\n",
    "df.boxplot(by='Memory_chips',column='MRP')"
   ]
  },
  {
   "cell_type": "code",
   "execution_count": 211,
   "id": "e074d68a",
   "metadata": {},
   "outputs": [
    {
     "data": {
      "text/plain": [
       "<AxesSubplot:title={'center':'MRP'}, xlabel='Memory'>"
      ]
     },
     "execution_count": 211,
     "metadata": {},
     "output_type": "execute_result"
    },
    {
     "data": {
      "image/png": "[encoded data removed]",
      "text/plain": [
       "<Figure size 1080x576 with 1 Axes>"
      ]
     },
     "metadata": {
      "needs_background": "light"
     },
     "output_type": "display_data"
    }
   ],
   "source": [
    "df.boxplot(by='Memory',column='MRP',figsize=(15,8))"
   ]
  },
  {
   "cell_type": "code",
   "execution_count": 212,
   "id": "8a5617a9",
   "metadata": {},
   "outputs": [
    {
     "data": {
      "text/plain": [
       "<AxesSubplot:title={'center':'MRP'}, xlabel='RAM_type'>"
      ]
     },
     "execution_count": 212,
     "metadata": {},
     "output_type": "execute_result"
    },
    {
     "data": {
      "image/png": "[encoded data removed]",
      "text/plain": [
       "<Figure size 1080x576 with 1 Axes>"
      ]
     },
     "metadata": {
      "needs_background": "light"
     },
     "output_type": "display_data"
    }
   ],
   "source": [
    "      \n",
    "df.boxplot(by='RAM_type',column='MRP',figsize=(15,8))"
   ]
  },
  {
   "cell_type": "code",
   "execution_count": 213,
   "id": "40c2811e",
   "metadata": {},
   "outputs": [
    {
     "data": {
      "text/html": [
       "<div>\n",
       "<style scoped>\n",
       "    .dataframe tbody tr th:only-of-type {\n",
       "        vertical-align: middle;\n",
       "    }\n",
       "\n",
       "    .dataframe tbody tr th {\n",
       "        vertical-align: top;\n",
       "    }\n",
       "\n",
       "    .dataframe thead th {\n",
       "        text-align: right;\n",
       "    }\n",
       "</style>\n",
       "<table border=\"1\" class=\"dataframe\">\n",
       "  <thead>\n",
       "    <tr style=\"text-align: right;\">\n",
       "      <th></th>\n",
       "      <th>MRP</th>\n",
       "      <th>Company</th>\n",
       "      <th>Processor</th>\n",
       "      <th>CPU</th>\n",
       "      <th>OS</th>\n",
       "      <th>RAM_size</th>\n",
       "      <th>RAM_type</th>\n",
       "      <th>Memory</th>\n",
       "      <th>Memory_chips</th>\n",
       "    </tr>\n",
       "  </thead>\n",
       "  <tbody>\n",
       "    <tr>\n",
       "      <th>0</th>\n",
       "      <td>36990</td>\n",
       "      <td>Lenovo</td>\n",
       "      <td>Core i3</td>\n",
       "      <td>Intel</td>\n",
       "      <td>Windows 11</td>\n",
       "      <td>8</td>\n",
       "      <td>DDR4</td>\n",
       "      <td>256</td>\n",
       "      <td>SSD</td>\n",
       "    </tr>\n",
       "    <tr>\n",
       "      <th>1</th>\n",
       "      <td>39990</td>\n",
       "      <td>Lenovo</td>\n",
       "      <td>Core i3</td>\n",
       "      <td>Intel</td>\n",
       "      <td>Windows 11</td>\n",
       "      <td>8</td>\n",
       "      <td>DDR4</td>\n",
       "      <td>512</td>\n",
       "      <td>SSD</td>\n",
       "    </tr>\n",
       "    <tr>\n",
       "      <th>2</th>\n",
       "      <td>32990</td>\n",
       "      <td>ASUS</td>\n",
       "      <td>Core i3</td>\n",
       "      <td>Intel</td>\n",
       "      <td>Windows 11</td>\n",
       "      <td>8</td>\n",
       "      <td>DDR4</td>\n",
       "      <td>512</td>\n",
       "      <td>SSD</td>\n",
       "    </tr>\n",
       "    <tr>\n",
       "      <th>3</th>\n",
       "      <td>49990</td>\n",
       "      <td>HP</td>\n",
       "      <td>Ryzen 5</td>\n",
       "      <td>AMD</td>\n",
       "      <td>Windows 10</td>\n",
       "      <td>8</td>\n",
       "      <td>DDR4</td>\n",
       "      <td>512</td>\n",
       "      <td>SSD</td>\n",
       "    </tr>\n",
       "    <tr>\n",
       "      <th>4</th>\n",
       "      <td>49990</td>\n",
       "      <td>ASUS</td>\n",
       "      <td>Core i5</td>\n",
       "      <td>Intel</td>\n",
       "      <td>Windows 11</td>\n",
       "      <td>8</td>\n",
       "      <td>DDR4</td>\n",
       "      <td>512</td>\n",
       "      <td>SSD</td>\n",
       "    </tr>\n",
       "  </tbody>\n",
       "</table>\n",
       "</div>"
      ],
      "text/plain": [
       "     MRP Company Processor    CPU          OS  RAM_size RAM_type  Memory  \\\n",
       "0  36990  Lenovo   Core i3  Intel  Windows 11         8     DDR4     256   \n",
       "1  39990  Lenovo   Core i3  Intel  Windows 11         8     DDR4     512   \n",
       "2  32990    ASUS   Core i3  Intel  Windows 11         8     DDR4     512   \n",
       "3  49990      HP   Ryzen 5    AMD  Windows 10         8     DDR4     512   \n",
       "4  49990    ASUS   Core i5  Intel  Windows 11         8     DDR4     512   \n",
       "\n",
       "  Memory_chips  \n",
       "0          SSD  \n",
       "1          SSD  \n",
       "2          SSD  \n",
       "3          SSD  \n",
       "4          SSD  "
      ]
     },
     "execution_count": 213,
     "metadata": {},
     "output_type": "execute_result"
    }
   ],
   "source": [
    "df.head()"
   ]
  },
  {
   "cell_type": "code",
   "execution_count": 214,
   "id": "8f40c9e5",
   "metadata": {},
   "outputs": [
    {
     "name": "stdout",
     "output_type": "stream",
     "text": [
      "<class 'pandas.core.frame.DataFrame'>\n",
      "Int64Index: 659 entries, 0 to 719\n",
      "Data columns (total 9 columns):\n",
      " #   Column        Non-Null Count  Dtype \n",
      "---  ------        --------------  ----- \n",
      " 0   MRP           659 non-null    int32 \n",
      " 1   Company       659 non-null    object\n",
      " 2   Processor     659 non-null    object\n",
      " 3   CPU           659 non-null    object\n",
      " 4   OS            659 non-null    object\n",
      " 5   RAM_size      659 non-null    int32 \n",
      " 6   RAM_type      659 non-null    object\n",
      " 7   Memory        659 non-null    int32 \n",
      " 8   Memory_chips  659 non-null    object\n",
      "dtypes: int32(3), object(6)\n",
      "memory usage: 43.8+ KB\n"
     ]
    }
   ],
   "source": [
    "df.info()\n"
   ]
  },
  {
   "cell_type": "code",
   "execution_count": 215,
   "id": "ff899d35",
   "metadata": {},
   "outputs": [
    {
     "data": {
      "text/plain": [
       "80082.11229135052"
      ]
     },
     "execution_count": 215,
     "metadata": {},
     "output_type": "execute_result"
    }
   ],
   "source": [
    "df['MRP'].mean()"
   ]
  },
  {
   "cell_type": "code",
   "execution_count": 216,
   "id": "5bb0f5f6",
   "metadata": {},
   "outputs": [
    {
     "data": {
      "text/plain": [
       "58000.0"
      ]
     },
     "execution_count": 216,
     "metadata": {},
     "output_type": "execute_result"
    }
   ],
   "source": [
    "df['MRP'].median()"
   ]
  },
  {
   "cell_type": "code",
   "execution_count": 217,
   "id": "3726def3",
   "metadata": {},
   "outputs": [
    {
     "data": {
      "text/plain": [
       "59910.408338038695"
      ]
     },
     "execution_count": 217,
     "metadata": {},
     "output_type": "execute_result"
    }
   ],
   "source": [
    "df['MRP'].std()"
   ]
  },
  {
   "cell_type": "code",
   "execution_count": 218,
   "id": "977c6622",
   "metadata": {},
   "outputs": [
    {
     "data": {
      "text/plain": [
       "<AxesSubplot:>"
      ]
     },
     "execution_count": 218,
     "metadata": {},
     "output_type": "execute_result"
    },
    {
     "data": {
      "image/png": "[encoded data removed]",
      "text/plain": [
       "<Figure size 432x288 with 1 Axes>"
      ]
     },
     "metadata": {
      "needs_background": "light"
     },
     "output_type": "display_data"
    }
   ],
   "source": [
    "df['MRP'].plot(kind='box')"
   ]
  },
  {
   "cell_type": "code",
   "execution_count": 219,
   "id": "8e2b8cd5",
   "metadata": {},
   "outputs": [],
   "source": [
    "new_df=df[df['MRP']<300000]"
   ]
  },
  {
   "cell_type": "code",
   "execution_count": 220,
   "id": "5847b2c3",
   "metadata": {},
   "outputs": [
    {
     "data": {
      "text/plain": [
       "<AxesSubplot:>"
      ]
     },
     "execution_count": 220,
     "metadata": {},
     "output_type": "execute_result"
    },
    {
     "data": {
      "image/png": "[encoded data removed]",
      "text/plain": [
       "<Figure size 432x288 with 1 Axes>"
      ]
     },
     "metadata": {
      "needs_background": "light"
     },
     "output_type": "display_data"
    }
   ],
   "source": [
    "new_df['MRP'].plot(kind='box')"
   ]
  },
  {
   "cell_type": "code",
   "execution_count": 221,
   "id": "b9e738f0",
   "metadata": {},
   "outputs": [
    {
     "data": {
      "text/plain": [
       "<AxesSubplot:ylabel='Density'>"
      ]
     },
     "execution_count": 221,
     "metadata": {},
     "output_type": "execute_result"
    },
    {
     "data": {
      "image/png": "[encoded data removed]",
      "text/plain": [
       "<Figure size 432x288 with 1 Axes>"
      ]
     },
     "metadata": {
      "needs_background": "light"
     },
     "output_type": "display_data"
    }
   ],
   "source": [
    "new_df['MRP'].plot(kind='kde')"
   ]
  },
  {
   "cell_type": "code",
   "execution_count": 222,
   "id": "48392cce",
   "metadata": {},
   "outputs": [],
   "source": [
    "t_df=df['MRP'].apply(lambda x:np.log(x))"
   ]
  },
  {
   "cell_type": "code",
   "execution_count": 223,
   "id": "be8c172c",
   "metadata": {},
   "outputs": [
    {
     "data": {
      "text/plain": [
       "<AxesSubplot:ylabel='Density'>"
      ]
     },
     "execution_count": 223,
     "metadata": {},
     "output_type": "execute_result"
    },
    {
     "data": {
      "image/png": "[encoded data removed]",
      "text/plain": [
       "<Figure size 432x288 with 1 Axes>"
      ]
     },
     "metadata": {
      "needs_background": "light"
     },
     "output_type": "display_data"
    }
   ],
   "source": [
    "t_df.plot(kind='kde')#no changes , I have no idea in transforming it!!"
   ]
  },
  {
   "cell_type": "code",
   "execution_count": 224,
   "id": "f2d4d728",
   "metadata": {},
   "outputs": [
    {
     "name": "stdout",
     "output_type": "stream",
     "text": [
      "<class 'pandas.core.frame.DataFrame'>\n",
      "Int64Index: 659 entries, 0 to 719\n",
      "Data columns (total 9 columns):\n",
      " #   Column        Non-Null Count  Dtype \n",
      "---  ------        --------------  ----- \n",
      " 0   MRP           659 non-null    int32 \n",
      " 1   Company       659 non-null    object\n",
      " 2   Processor     659 non-null    object\n",
      " 3   CPU           659 non-null    object\n",
      " 4   OS            659 non-null    object\n",
      " 5   RAM_size      659 non-null    int32 \n",
      " 6   RAM_type      659 non-null    object\n",
      " 7   Memory        659 non-null    int32 \n",
      " 8   Memory_chips  659 non-null    object\n",
      "dtypes: int32(3), object(6)\n",
      "memory usage: 43.8+ KB\n"
     ]
    }
   ],
   "source": [
    "df.info()"
   ]
  },
  {
   "cell_type": "code",
   "execution_count": 225,
   "id": "5b986ffe",
   "metadata": {},
   "outputs": [
    {
     "data": {
      "text/html": [
       "<div>\n",
       "<style scoped>\n",
       "    .dataframe tbody tr th:only-of-type {\n",
       "        vertical-align: middle;\n",
       "    }\n",
       "\n",
       "    .dataframe tbody tr th {\n",
       "        vertical-align: top;\n",
       "    }\n",
       "\n",
       "    .dataframe thead th {\n",
       "        text-align: right;\n",
       "    }\n",
       "</style>\n",
       "<table border=\"1\" class=\"dataframe\">\n",
       "  <thead>\n",
       "    <tr style=\"text-align: right;\">\n",
       "      <th></th>\n",
       "      <th>MRP</th>\n",
       "      <th>Company</th>\n",
       "      <th>Processor</th>\n",
       "      <th>CPU</th>\n",
       "      <th>OS</th>\n",
       "      <th>RAM_size</th>\n",
       "      <th>RAM_type</th>\n",
       "      <th>Memory</th>\n",
       "      <th>Memory_chips</th>\n",
       "    </tr>\n",
       "  </thead>\n",
       "  <tbody>\n",
       "    <tr>\n",
       "      <th>0</th>\n",
       "      <td>36990</td>\n",
       "      <td>Lenovo</td>\n",
       "      <td>Core i3</td>\n",
       "      <td>Intel</td>\n",
       "      <td>Windows 11</td>\n",
       "      <td>8</td>\n",
       "      <td>DDR4</td>\n",
       "      <td>256</td>\n",
       "      <td>SSD</td>\n",
       "    </tr>\n",
       "    <tr>\n",
       "      <th>1</th>\n",
       "      <td>39990</td>\n",
       "      <td>Lenovo</td>\n",
       "      <td>Core i3</td>\n",
       "      <td>Intel</td>\n",
       "      <td>Windows 11</td>\n",
       "      <td>8</td>\n",
       "      <td>DDR4</td>\n",
       "      <td>512</td>\n",
       "      <td>SSD</td>\n",
       "    </tr>\n",
       "    <tr>\n",
       "      <th>2</th>\n",
       "      <td>32990</td>\n",
       "      <td>ASUS</td>\n",
       "      <td>Core i3</td>\n",
       "      <td>Intel</td>\n",
       "      <td>Windows 11</td>\n",
       "      <td>8</td>\n",
       "      <td>DDR4</td>\n",
       "      <td>512</td>\n",
       "      <td>SSD</td>\n",
       "    </tr>\n",
       "    <tr>\n",
       "      <th>3</th>\n",
       "      <td>49990</td>\n",
       "      <td>HP</td>\n",
       "      <td>Ryzen 5</td>\n",
       "      <td>AMD</td>\n",
       "      <td>Windows 10</td>\n",
       "      <td>8</td>\n",
       "      <td>DDR4</td>\n",
       "      <td>512</td>\n",
       "      <td>SSD</td>\n",
       "    </tr>\n",
       "    <tr>\n",
       "      <th>4</th>\n",
       "      <td>49990</td>\n",
       "      <td>ASUS</td>\n",
       "      <td>Core i5</td>\n",
       "      <td>Intel</td>\n",
       "      <td>Windows 11</td>\n",
       "      <td>8</td>\n",
       "      <td>DDR4</td>\n",
       "      <td>512</td>\n",
       "      <td>SSD</td>\n",
       "    </tr>\n",
       "  </tbody>\n",
       "</table>\n",
       "</div>"
      ],
      "text/plain": [
       "     MRP Company Processor    CPU          OS  RAM_size RAM_type  Memory  \\\n",
       "0  36990  Lenovo   Core i3  Intel  Windows 11         8     DDR4     256   \n",
       "1  39990  Lenovo   Core i3  Intel  Windows 11         8     DDR4     512   \n",
       "2  32990    ASUS   Core i3  Intel  Windows 11         8     DDR4     512   \n",
       "3  49990      HP   Ryzen 5    AMD  Windows 10         8     DDR4     512   \n",
       "4  49990    ASUS   Core i5  Intel  Windows 11         8     DDR4     512   \n",
       "\n",
       "  Memory_chips  \n",
       "0          SSD  \n",
       "1          SSD  \n",
       "2          SSD  \n",
       "3          SSD  \n",
       "4          SSD  "
      ]
     },
     "execution_count": 225,
     "metadata": {},
     "output_type": "execute_result"
    }
   ],
   "source": [
    "df.head()\n"
   ]
  },
  {
   "cell_type": "code",
   "execution_count": 226,
   "id": "6d28dc14",
   "metadata": {},
   "outputs": [
    {
     "data": {
      "text/plain": [
       "0      8\n",
       "1      8\n",
       "2      8\n",
       "3      8\n",
       "4      8\n",
       "      ..\n",
       "714    6\n",
       "716    8\n",
       "717    6\n",
       "718    6\n",
       "719    8\n",
       "Name: RAM_size, Length: 659, dtype: int32"
      ]
     },
     "execution_count": 226,
     "metadata": {},
     "output_type": "execute_result"
    }
   ],
   "source": [
    "df['RAM_size'].astype('int')"
   ]
  },
  {
   "cell_type": "code",
   "execution_count": 227,
   "id": "c4dbd0ec",
   "metadata": {},
   "outputs": [
    {
     "data": {
      "text/plain": [
       "MRP         1.000000\n",
       "RAM_size    0.370886\n",
       "Memory      0.763491\n",
       "Name: MRP, dtype: float64"
      ]
     },
     "execution_count": 227,
     "metadata": {},
     "output_type": "execute_result"
    }
   ],
   "source": [
    "df.corr()['MRP']"
   ]
  },
  {
   "cell_type": "markdown",
   "id": "d561937a",
   "metadata": {},
   "source": [
    "# ML Model"
   ]
  },
  {
   "cell_type": "code",
   "execution_count": 228,
   "id": "f9c2bdeb",
   "metadata": {},
   "outputs": [],
   "source": [
    "x=df.drop('MRP',axis=1)\n",
    "y=df['MRP']\n"
   ]
  },
  {
   "cell_type": "code",
   "execution_count": 229,
   "id": "a7068d84",
   "metadata": {},
   "outputs": [
    {
     "name": "stdout",
     "output_type": "stream",
     "text": [
      "0.24.1\n"
     ]
    }
   ],
   "source": [
    "import sklearn\n",
    "print(sklearn.__version__)"
   ]
  },
  {
   "cell_type": "code",
   "execution_count": null,
   "id": "eced3553",
   "metadata": {},
   "outputs": [],
   "source": [
    "'''conda install scikit-learn'''"
   ]
  },
  {
   "cell_type": "code",
   "execution_count": null,
   "id": "c4e04b0d",
   "metadata": {},
   "outputs": [],
   "source": [
    "import sklearn\n",
    "print(sklearn.__version__)"
   ]
  },
  {
   "cell_type": "code",
   "execution_count": null,
   "id": "83f9c872",
   "metadata": {},
   "outputs": [],
   "source": [
    "from sklearn.model_selection import train_test_split as tt\n",
    "x_train,x_test,y_train,y_test=tt(x,y,test_size=0.3,random_state=4)"
   ]
  },
  {
   "cell_type": "code",
   "execution_count": null,
   "id": "b129d056",
   "metadata": {
    "scrolled": true
   },
   "outputs": [],
   "source": [
    "x_train"
   ]
  },
  {
   "cell_type": "code",
   "execution_count": null,
   "id": "63b6e3fd",
   "metadata": {},
   "outputs": [],
   "source": [
    "from sklearn.compose import ColumnTransformer\n",
    "from sklearn.pipeline import Pipeline\n",
    "from sklearn.preprocessing import OneHotEncoder\n",
    "from sklearn.metrics import r2_score,mean_absolute_error"
   ]
  },
  {
   "cell_type": "code",
   "execution_count": null,
   "id": "2070a43e",
   "metadata": {},
   "outputs": [],
   "source": [
    "from sklearn.linear_model import LinearRegression,Ridge,Lasso\n",
    "from sklearn.neighbors import KNeighborsRegressor\n",
    "from sklearn.tree import DecisionTreeRegressor\n",
    "from sklearn.ensemble import RandomForestRegressor,GradientBoostingRegressor,AdaBoostRegressor,ExtraTreesRegressor\n",
    "from sklearn.svm import SVR\n",
    "\n",
    "\n",
    "\n"
   ]
  },
  {
   "cell_type": "markdown",
   "id": "db727a46",
   "metadata": {},
   "source": [
    "Linear regression\n"
   ]
  },
  {
   "cell_type": "code",
   "execution_count": null,
   "id": "187aa929",
   "metadata": {},
   "outputs": [],
   "source": [
    "step1=ColumnTransformer(transformers=[\n",
    "    ('col_tnf',OneHotEncoder(sparse=False,drop='first'),[0,1,2,3,5,7])\n",
    "                                     ],\n",
    "                        remainder='passthrough')\n",
    "\n",
    "\n",
    "step2=LinearRegression()\n",
    "\n",
    "\n",
    "pipe=Pipeline([('step1',step1),('step2',step2)])\n",
    "\n",
    "pipe.fit(x_train,y_train)\n",
    "\n",
    "y_pred=pipe.predict(x_test)\n",
    "\n",
    "print('r2_score',r2_score(y_test,y_pred))\n",
    "print('mean_absolute_error',mean_absolute_error(y_test,y_pred))\n"
   ]
  },
  {
   "cell_type": "markdown",
   "id": "8401a12b",
   "metadata": {},
   "source": [
    "Rigde Regression"
   ]
  },
  {
   "cell_type": "code",
   "execution_count": null,
   "id": "664ab936",
   "metadata": {},
   "outputs": [],
   "source": [
    "step1=ColumnTransformer(transformers=[\n",
    "    ('col_tnf',OneHotEncoder(sparse=False,drop='first'),[0,1,2,3,5,7])\n",
    "                                     ],\n",
    "                        remainder='passthrough')\n",
    "step2=Ridge(alpha=10)\n",
    "\n",
    "pipe=Pipeline([('step1',step1),('step2',step2)])\n",
    "\n",
    "pipe.fit(x_train,y_train)\n",
    "\n",
    "y_pred=pipe.predict(x_test)\n",
    "\n",
    "print('r2_score',r2_score(y_test,y_pred))\n",
    "print('mean_absolute_error',mean_absolute_error(y_test,y_pred))"
   ]
  },
  {
   "cell_type": "markdown",
   "id": "a6a5405c",
   "metadata": {},
   "source": [
    "Lasso Regression"
   ]
  },
  {
   "cell_type": "code",
   "execution_count": null,
   "id": "8b82c40d",
   "metadata": {},
   "outputs": [],
   "source": [
    "step1=ColumnTransformer(transformers=[\n",
    "    ('col_tnf',OneHotEncoder(sparse=False,drop='first'),[0,1,2,3,5,7])\n",
    "                                     ],\n",
    "                        remainder='passthrough')\n",
    "step2=Lasso(alpha=0.001)\n",
    "\n",
    "pipe=Pipeline([('step1',step1),('step2',step2)])\n",
    "\n",
    "pipe.fit(x_train,y_train)\n",
    "\n",
    "y_pred=pipe.predict(x_test)\n",
    "\n",
    "print('r2_score',r2_score(y_test,y_pred))\n",
    "print('mean_absolute_error',mean_absolute_error(y_test,y_pred))"
   ]
  },
  {
   "cell_type": "markdown",
   "id": "5287ed80",
   "metadata": {},
   "source": [
    "KNN"
   ]
  },
  {
   "cell_type": "code",
   "execution_count": null,
   "id": "cecd7e1b",
   "metadata": {},
   "outputs": [],
   "source": [
    "step1=ColumnTransformer(transformers=[\n",
    "    ('col_tnf',OneHotEncoder(sparse=False,drop='first'),[0,1,2,3,5,7])\n",
    "                                     ],\n",
    "                        remainder='passthrough')\n",
    "step2=KNeighborsRegressor(n_neighbors=3)\n",
    "\n",
    "pipe=Pipeline([('step1',step1),('step2',step2)])\n",
    "\n",
    "pipe.fit(x_train,y_train)\n",
    "\n",
    "y_pred=pipe.predict(x_test)\n",
    "\n",
    "print('r2_score',r2_score(y_test,y_pred))\n",
    "print('mean_absolute_error',mean_absolute_error(y_test,y_pred))"
   ]
  },
  {
   "cell_type": "markdown",
   "id": "bc1c5e3b",
   "metadata": {},
   "source": [
    "Decision Tree"
   ]
  },
  {
   "cell_type": "code",
   "execution_count": null,
   "id": "95340265",
   "metadata": {},
   "outputs": [],
   "source": [
    "step1=ColumnTransformer(transformers=[\n",
    "    ('col_tnf',OneHotEncoder(sparse=False,drop='first'),[0,1,2,3,5,7])\n",
    "                                     ],\n",
    "                        remainder='passthrough')\n",
    "step2=DecisionTreeRegressor(max_depth=8)\n",
    "\n",
    "pipe=Pipeline([('step1',step1),('step2',step2)])\n",
    "\n",
    "pipe.fit(x_train,y_train)\n",
    "\n",
    "y_pred=pipe.predict(x_test)\n",
    "\n",
    "print('r2_score',r2_score(y_test,y_pred))\n",
    "print('mean_absolute_error',mean_absolute_error(y_test,y_pred))"
   ]
  },
  {
   "cell_type": "markdown",
   "id": "60862406",
   "metadata": {},
   "source": [
    "SVM"
   ]
  },
  {
   "cell_type": "code",
   "execution_count": null,
   "id": "89db0543",
   "metadata": {},
   "outputs": [],
   "source": [
    "step1=ColumnTransformer(transformers=[\n",
    "    ('col_tnf',OneHotEncoder(sparse=False,drop='first'),[0,1,2,3,5,7])\n",
    "                                     ],\n",
    "                        remainder='passthrough')\n",
    "step2=SVR(kernel='rbf',C=10000,epsilon=0.1)\n",
    "\n",
    "pipe=Pipeline([('step1',step1),('step2',step2)])\n",
    "\n",
    "pipe.fit(x_train,y_train)\n",
    "\n",
    "y_pred=pipe.predict(x_test)\n",
    "\n",
    "print('r2_score',r2_score(y_test,y_pred))\n",
    "print('mean_absolute_error',mean_absolute_error(y_test,y_pred))"
   ]
  },
  {
   "cell_type": "markdown",
   "id": "5dbba443",
   "metadata": {},
   "source": [
    "Random Forest"
   ]
  },
  {
   "cell_type": "code",
   "execution_count": null,
   "id": "94ff45d4",
   "metadata": {},
   "outputs": [],
   "source": [
    "step1=ColumnTransformer(transformers=[\n",
    "    ('col_tnf',OneHotEncoder(sparse=False,drop='first'),[0,1,2,3,5,7])\n",
    "                                     ],\n",
    "                        remainder='passthrough')\n",
    "step2=RandomForestRegressor(n_estimators=100,random_state=3,max_samples=0.5,max_features=0.75,max_depth=15)\n",
    "\n",
    "pipe=Pipeline([('step1',step1),('step2',step2)])\n",
    "\n",
    "pipe.fit(x_train,y_train)\n",
    "\n",
    "y_pred=pipe.predict(x_test)\n",
    "\n",
    "print('r2_score',r2_score(y_test,y_pred))\n",
    "print('mean_absolute_error',mean_absolute_error(y_test,y_pred)) "
   ]
  },
  {
   "cell_type": "markdown",
   "id": "e2648230",
   "metadata": {},
   "source": [
    "Extra Trees Regressor"
   ]
  },
  {
   "cell_type": "code",
   "execution_count": null,
   "id": "ad3e7132",
   "metadata": {},
   "outputs": [],
   "source": [
    "step1=ColumnTransformer(transformers=[\n",
    "    ('col_tnf',OneHotEncoder(sparse=False,drop='first'),[0,1,2,3,5,7])\n",
    "                                     ],\n",
    "                        remainder='passthrough')\n",
    "step2=ExtraTreesRegressor(n_estimators=100,random_state=3,max_samples=0.5,max_features=0.75,max_depth=15)\n",
    "\n",
    "pipe=Pipeline([('step1',step1),('step2',step2)])\n",
    "\n",
    "pipe.fit(x_train,y_train)\n",
    "\n",
    "y_pred=pipe.predict(x_test)\n",
    "\n",
    "print('r2_score',r2_score(y_test,y_pred))\n",
    "print('mean_absolute_error',mean_absolute_error(y_test,y_pred)) "
   ]
  },
  {
   "cell_type": "code",
   "execution_count": null,
   "id": "96a5ba7c",
   "metadata": {},
   "outputs": [],
   "source": [
    "Ada Boost Regressor"
   ]
  },
  {
   "cell_type": "code",
   "execution_count": null,
   "id": "2ae6b3fc",
   "metadata": {},
   "outputs": [],
   "source": [
    "step1=ColumnTransformer(transformers=[\n",
    "    ('col_tnf',OneHotEncoder(sparse=False,drop='first'),[0,1,2,3,5,7])\n",
    "                                     ],\n",
    "                        remainder='passthrough')\n",
    "step2=AdaBoostRegressor(n_estimators=100,learning_rate=1.0)\n",
    "\n",
    "pipe=Pipeline([('step1',step1),('step2',step2)])\n",
    "\n",
    "pipe.fit(x_train,y_train)\n",
    "\n",
    "y_pred=pipe.predict(x_test)\n",
    "\n",
    "print('r2_score',r2_score(y_test,y_pred))\n",
    "print('mean_absolute_error',mean_absolute_error(y_test,y_pred)) "
   ]
  },
  {
   "cell_type": "markdown",
   "id": "ca75e60d",
   "metadata": {},
   "source": [
    "Gradient Boosting Regressor"
   ]
  },
  {
   "cell_type": "code",
   "execution_count": null,
   "id": "ac4e4121",
   "metadata": {},
   "outputs": [],
   "source": [
    "step1=ColumnTransformer(transformers=[\n",
    "    ('col_tnf',OneHotEncoder(sparse=False,drop='first'),[0,1,2,3,5,7])\n",
    "                                     ],\n",
    "                        remainder='passthrough')\n",
    "step2=GradientBoostingRegressor(n_estimators=500)\n",
    "\n",
    "pipe=Pipeline([('step1',step1),('step2',step2)])\n",
    "\n",
    "pipe.fit(x_train,y_train)\n",
    "\n",
    "y_pred=pipe.predict(x_test)\n",
    "\n",
    "print('r2_score',r2_score(y_test,y_pred))\n",
    "print('mean_absolute_error',mean_absolute_error(y_test,y_pred)) "
   ]
  },
  {
   "cell_type": "code",
   "execution_count": null,
   "id": "09a33f39",
   "metadata": {},
   "outputs": [],
   "source": [
    "from sklearn.ensemble import VotingRegressor,StackingRegressor\n",
    "\n",
    "step1=ColumnTransformer(transformers=[\n",
    "    ('col_tnf',OneHotEncoder(sparse=False,drop='first'),[0,1,2,3,5,7])\n",
    "                                     ],\n",
    "                        remainder='passthrough')\n",
    "rf=RandomForestRegressor(n_estimators=100,random_state=3,max_samples=0.5,max_features=0.75,max_depth=15)\n",
    "gbr=GradientBoostingRegressor(n_estimators=500)\n",
    "et=ExtraTreesRegressor(n_estimators=100,random_state=3,max_samples=0.5,max_features=0.75,max_depth=15)\n",
    "\n",
    "\n",
    "step2=VotingRegressor([('rf',rf),('gbr',gbr),('et',et)],weights=[5,1,1])\n",
    "\n",
    "pipe=Pipeline([('step1',step1),('step2',step2)])\n",
    "\n",
    "pipe.fit(x_train,y_train)\n",
    "\n",
    "y_pred=pipe.predict(x_test)\n",
    "\n",
    "print('r2_score',r2_score(y_test,y_pred))\n",
    "print('mean_absolute_error',mean_absolute_error(y_test,y_pred)) "
   ]
  },
  {
   "cell_type": "code",
   "execution_count": null,
   "id": "348c32d6",
   "metadata": {},
   "outputs": [],
   "source": [
    "step1=ColumnTransformer(transformers=[\n",
    "    ('col_tnf',OneHotEncoder(sparse=False,drop='first'),[0,1,2,3,5,7])\n",
    "                                     ],\n",
    "                        remainder='passthrough')\n",
    "estimators=[\n",
    "    ('rf',RandomForestRegressor(n_estimators=350,random_state=3,max_samples=0.5,max_features=0.75,max_depth=15)),\n",
    "    ('gbr',GradientBoostingRegressor(n_estimators=100,max_features=0.5))\n",
    "]\n",
    "\n",
    "step2=StackingRegressor(estimators=estimators,final_estimator=Ridge(alpha=100))\n",
    "\n",
    "pipe=Pipeline([('step1',step1),('step2',step2)])\n",
    "\n",
    "pipe.fit(x_train,y_train)\n",
    "\n",
    "y_pred=pipe.predict(x_test)\n",
    "\n",
    "print('r2_score',r2_score(y_test,y_pred))\n",
    "print('mean_absolute_error',mean_absolute_error(y_test,y_pred)) \n"
   ]
  },
  {
   "cell_type": "code",
   "execution_count": null,
   "id": "0dbd5da9",
   "metadata": {},
   "outputs": [],
   "source": [
    "import pickle\n",
    "pickle.dump(df,open('df.pkl','wb'))\n",
    "pickle.dump(pipe,open('pipe.pkl','wb'))\n"
   ]
  },
  {
   "cell_type": "code",
   "execution_count": null,
   "id": "68dc0c6c",
   "metadata": {},
   "outputs": [],
   "source": [
    "x_train"
   ]
  },
  {
   "cell_type": "code",
   "execution_count": null,
   "id": "1de0a0dc",
   "metadata": {},
   "outputs": [],
   "source": []
  },
  {
   "cell_type": "code",
   "execution_count": null,
   "id": "a93e6114",
   "metadata": {},
   "outputs": [],
   "source": []
  },
  {
   "cell_type": "code",
   "execution_count": null,
   "id": "7604fcd9",
   "metadata": {},
   "outputs": [],
   "source": []
  },
  {
   "cell_type": "code",
   "execution_count": null,
   "id": "9d86d644",
   "metadata": {},
   "outputs": [],
   "source": []
  }
 ],
 "metadata": {
  "kernelspec": {
   "display_name": "Python 3",
   "language": "python",
   "name": "python3"
  },
  "language_info": {
   "codemirror_mode": {
    "name": "ipython",
    "version": 3
   },
   "file_extension": ".py",
   "mimetype": "text/x-python",
   "name": "python",
   "nbconvert_exporter": "python",
   "pygments_lexer": "ipython3",
   "version": "3.8.8"
  }
 },
 "nbformat": 4,
 "nbformat_minor": 5
}
