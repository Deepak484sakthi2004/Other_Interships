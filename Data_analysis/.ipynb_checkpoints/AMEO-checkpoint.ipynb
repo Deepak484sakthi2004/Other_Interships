{
 "cells": [
  {
   "cell_type": "code",
   "execution_count": 547,
   "id": "7c0ce5cd",
   "metadata": {},
   "outputs": [
    {
     "data": {
      "text/html": [
       "<div>\n",
       "<style scoped>\n",
       "    .dataframe tbody tr th:only-of-type {\n",
       "        vertical-align: middle;\n",
       "    }\n",
       "\n",
       "    .dataframe tbody tr th {\n",
       "        vertical-align: top;\n",
       "    }\n",
       "\n",
       "    .dataframe thead th {\n",
       "        text-align: right;\n",
       "    }\n",
       "</style>\n",
       "<table border=\"1\" class=\"dataframe\">\n",
       "  <thead>\n",
       "    <tr style=\"text-align: right;\">\n",
       "      <th></th>\n",
       "      <th>Unnamed: 0</th>\n",
       "      <th>ID</th>\n",
       "      <th>Salary</th>\n",
       "      <th>DOJ</th>\n",
       "      <th>DOL</th>\n",
       "      <th>Designation</th>\n",
       "      <th>JobCity</th>\n",
       "      <th>Gender</th>\n",
       "      <th>DOB</th>\n",
       "      <th>10percentage</th>\n",
       "      <th>...</th>\n",
       "      <th>ComputerScience</th>\n",
       "      <th>MechanicalEngg</th>\n",
       "      <th>ElectricalEngg</th>\n",
       "      <th>TelecomEngg</th>\n",
       "      <th>CivilEngg</th>\n",
       "      <th>conscientiousness</th>\n",
       "      <th>agreeableness</th>\n",
       "      <th>extraversion</th>\n",
       "      <th>nueroticism</th>\n",
       "      <th>openess_to_experience</th>\n",
       "    </tr>\n",
       "  </thead>\n",
       "  <tbody>\n",
       "    <tr>\n",
       "      <th>0</th>\n",
       "      <td>train</td>\n",
       "      <td>203097</td>\n",
       "      <td>420000</td>\n",
       "      <td>2012-06-01</td>\n",
       "      <td>present</td>\n",
       "      <td>senior quality engineer</td>\n",
       "      <td>Bangalore</td>\n",
       "      <td>f</td>\n",
       "      <td>1990-02-19</td>\n",
       "      <td>84.3</td>\n",
       "      <td>...</td>\n",
       "      <td>-1</td>\n",
       "      <td>-1</td>\n",
       "      <td>-1</td>\n",
       "      <td>-1</td>\n",
       "      <td>-1</td>\n",
       "      <td>0.9737</td>\n",
       "      <td>0.8128</td>\n",
       "      <td>0.5269</td>\n",
       "      <td>1.35490</td>\n",
       "      <td>-0.4455</td>\n",
       "    </tr>\n",
       "    <tr>\n",
       "      <th>1</th>\n",
       "      <td>train</td>\n",
       "      <td>579905</td>\n",
       "      <td>500000</td>\n",
       "      <td>2013-09-01</td>\n",
       "      <td>present</td>\n",
       "      <td>assistant manager</td>\n",
       "      <td>Indore</td>\n",
       "      <td>m</td>\n",
       "      <td>1989-10-04</td>\n",
       "      <td>85.4</td>\n",
       "      <td>...</td>\n",
       "      <td>-1</td>\n",
       "      <td>-1</td>\n",
       "      <td>-1</td>\n",
       "      <td>-1</td>\n",
       "      <td>-1</td>\n",
       "      <td>-0.7335</td>\n",
       "      <td>0.3789</td>\n",
       "      <td>1.2396</td>\n",
       "      <td>-0.10760</td>\n",
       "      <td>0.8637</td>\n",
       "    </tr>\n",
       "    <tr>\n",
       "      <th>2</th>\n",
       "      <td>train</td>\n",
       "      <td>810601</td>\n",
       "      <td>325000</td>\n",
       "      <td>2014-06-01</td>\n",
       "      <td>present</td>\n",
       "      <td>systems engineer</td>\n",
       "      <td>Chennai</td>\n",
       "      <td>f</td>\n",
       "      <td>1992-08-03</td>\n",
       "      <td>85.0</td>\n",
       "      <td>...</td>\n",
       "      <td>-1</td>\n",
       "      <td>-1</td>\n",
       "      <td>-1</td>\n",
       "      <td>-1</td>\n",
       "      <td>-1</td>\n",
       "      <td>0.2718</td>\n",
       "      <td>1.7109</td>\n",
       "      <td>0.1637</td>\n",
       "      <td>-0.86820</td>\n",
       "      <td>0.6721</td>\n",
       "    </tr>\n",
       "    <tr>\n",
       "      <th>3</th>\n",
       "      <td>train</td>\n",
       "      <td>267447</td>\n",
       "      <td>1100000</td>\n",
       "      <td>2011-07-01</td>\n",
       "      <td>present</td>\n",
       "      <td>senior software engineer</td>\n",
       "      <td>Gurgaon</td>\n",
       "      <td>m</td>\n",
       "      <td>1989-12-05</td>\n",
       "      <td>85.6</td>\n",
       "      <td>...</td>\n",
       "      <td>-1</td>\n",
       "      <td>-1</td>\n",
       "      <td>-1</td>\n",
       "      <td>-1</td>\n",
       "      <td>-1</td>\n",
       "      <td>0.0464</td>\n",
       "      <td>0.3448</td>\n",
       "      <td>-0.3440</td>\n",
       "      <td>-0.40780</td>\n",
       "      <td>-0.9194</td>\n",
       "    </tr>\n",
       "    <tr>\n",
       "      <th>4</th>\n",
       "      <td>train</td>\n",
       "      <td>343523</td>\n",
       "      <td>200000</td>\n",
       "      <td>2014-03-01</td>\n",
       "      <td>2015-03-01 00:00:00</td>\n",
       "      <td>get</td>\n",
       "      <td>Manesar</td>\n",
       "      <td>m</td>\n",
       "      <td>1991-02-27</td>\n",
       "      <td>78.0</td>\n",
       "      <td>...</td>\n",
       "      <td>-1</td>\n",
       "      <td>-1</td>\n",
       "      <td>-1</td>\n",
       "      <td>-1</td>\n",
       "      <td>-1</td>\n",
       "      <td>-0.8810</td>\n",
       "      <td>-0.2793</td>\n",
       "      <td>-1.0697</td>\n",
       "      <td>0.09163</td>\n",
       "      <td>-0.1295</td>\n",
       "    </tr>\n",
       "  </tbody>\n",
       "</table>\n",
       "<p>5 rows × 39 columns</p>\n",
       "</div>"
      ],
      "text/plain": [
       "  Unnamed: 0      ID   Salary        DOJ                  DOL  \\\n",
       "0      train  203097   420000 2012-06-01              present   \n",
       "1      train  579905   500000 2013-09-01              present   \n",
       "2      train  810601   325000 2014-06-01              present   \n",
       "3      train  267447  1100000 2011-07-01              present   \n",
       "4      train  343523   200000 2014-03-01  2015-03-01 00:00:00   \n",
       "\n",
       "                Designation    JobCity Gender        DOB  10percentage  ...  \\\n",
       "0   senior quality engineer  Bangalore      f 1990-02-19          84.3  ...   \n",
       "1         assistant manager     Indore      m 1989-10-04          85.4  ...   \n",
       "2          systems engineer    Chennai      f 1992-08-03          85.0  ...   \n",
       "3  senior software engineer    Gurgaon      m 1989-12-05          85.6  ...   \n",
       "4                       get    Manesar      m 1991-02-27          78.0  ...   \n",
       "\n",
       "  ComputerScience  MechanicalEngg  ElectricalEngg TelecomEngg  CivilEngg  \\\n",
       "0              -1              -1              -1          -1         -1   \n",
       "1              -1              -1              -1          -1         -1   \n",
       "2              -1              -1              -1          -1         -1   \n",
       "3              -1              -1              -1          -1         -1   \n",
       "4              -1              -1              -1          -1         -1   \n",
       "\n",
       "   conscientiousness agreeableness extraversion  nueroticism  \\\n",
       "0             0.9737        0.8128       0.5269      1.35490   \n",
       "1            -0.7335        0.3789       1.2396     -0.10760   \n",
       "2             0.2718        1.7109       0.1637     -0.86820   \n",
       "3             0.0464        0.3448      -0.3440     -0.40780   \n",
       "4            -0.8810       -0.2793      -1.0697      0.09163   \n",
       "\n",
       "   openess_to_experience  \n",
       "0                -0.4455  \n",
       "1                 0.8637  \n",
       "2                 0.6721  \n",
       "3                -0.9194  \n",
       "4                -0.1295  \n",
       "\n",
       "[5 rows x 39 columns]"
      ]
     },
     "execution_count": 547,
     "metadata": {},
     "output_type": "execute_result"
    }
   ],
   "source": [
    "import pandas as pd\n",
    "import numpy as np\n",
    "df=pd.read_excel('aspiring_minds.xlsx')\n",
    "df.head()"
   ]
  },
  {
   "cell_type": "code",
   "execution_count": 548,
   "id": "7a65ac0b",
   "metadata": {},
   "outputs": [
    {
     "data": {
      "text/plain": [
       "Index(['Unnamed: 0', 'ID', 'Salary', 'DOJ', 'DOL', 'Designation', 'JobCity',\n",
       "       'Gender', 'DOB', '10percentage', '10board', '12graduation',\n",
       "       '12percentage', '12board', 'CollegeID', 'CollegeTier', 'Degree',\n",
       "       'Specialization', 'collegeGPA', 'CollegeCityID', 'CollegeCityTier',\n",
       "       'CollegeState', 'GraduationYear', 'English', 'Logical', 'Quant',\n",
       "       'Domain', 'ComputerProgramming', 'ElectronicsAndSemicon',\n",
       "       'ComputerScience', 'MechanicalEngg', 'ElectricalEngg', 'TelecomEngg',\n",
       "       'CivilEngg', 'conscientiousness', 'agreeableness', 'extraversion',\n",
       "       'nueroticism', 'openess_to_experience'],\n",
       "      dtype='object')"
      ]
     },
     "execution_count": 548,
     "metadata": {},
     "output_type": "execute_result"
    }
   ],
   "source": [
    "df.columns\n"
   ]
  },
  {
   "cell_type": "code",
   "execution_count": 549,
   "id": "1e230cd6",
   "metadata": {},
   "outputs": [
    {
     "data": {
      "text/html": [
       "<div>\n",
       "<style scoped>\n",
       "    .dataframe tbody tr th:only-of-type {\n",
       "        vertical-align: middle;\n",
       "    }\n",
       "\n",
       "    .dataframe tbody tr th {\n",
       "        vertical-align: top;\n",
       "    }\n",
       "\n",
       "    .dataframe thead th {\n",
       "        text-align: right;\n",
       "    }\n",
       "</style>\n",
       "<table border=\"1\" class=\"dataframe\">\n",
       "  <thead>\n",
       "    <tr style=\"text-align: right;\">\n",
       "      <th></th>\n",
       "      <th>Unnamed: 0</th>\n",
       "      <th>ID</th>\n",
       "      <th>Salary</th>\n",
       "      <th>DOJ</th>\n",
       "      <th>DOL</th>\n",
       "      <th>Designation</th>\n",
       "      <th>JobCity</th>\n",
       "      <th>Gender</th>\n",
       "      <th>DOB</th>\n",
       "      <th>10percentage</th>\n",
       "      <th>...</th>\n",
       "      <th>ComputerScience</th>\n",
       "      <th>MechanicalEngg</th>\n",
       "      <th>ElectricalEngg</th>\n",
       "      <th>TelecomEngg</th>\n",
       "      <th>CivilEngg</th>\n",
       "      <th>conscientiousness</th>\n",
       "      <th>agreeableness</th>\n",
       "      <th>extraversion</th>\n",
       "      <th>nueroticism</th>\n",
       "      <th>openess_to_experience</th>\n",
       "    </tr>\n",
       "  </thead>\n",
       "  <tbody>\n",
       "    <tr>\n",
       "      <th>0</th>\n",
       "      <td>train</td>\n",
       "      <td>203097</td>\n",
       "      <td>420000</td>\n",
       "      <td>2012-06-01</td>\n",
       "      <td>present</td>\n",
       "      <td>senior quality engineer</td>\n",
       "      <td>Bangalore</td>\n",
       "      <td>f</td>\n",
       "      <td>1990-02-19</td>\n",
       "      <td>84.30</td>\n",
       "      <td>...</td>\n",
       "      <td>-1</td>\n",
       "      <td>-1</td>\n",
       "      <td>-1</td>\n",
       "      <td>-1</td>\n",
       "      <td>-1</td>\n",
       "      <td>0.9737</td>\n",
       "      <td>0.8128</td>\n",
       "      <td>0.5269</td>\n",
       "      <td>1.35490</td>\n",
       "      <td>-0.4455</td>\n",
       "    </tr>\n",
       "    <tr>\n",
       "      <th>1</th>\n",
       "      <td>train</td>\n",
       "      <td>579905</td>\n",
       "      <td>500000</td>\n",
       "      <td>2013-09-01</td>\n",
       "      <td>present</td>\n",
       "      <td>assistant manager</td>\n",
       "      <td>Indore</td>\n",
       "      <td>m</td>\n",
       "      <td>1989-10-04</td>\n",
       "      <td>85.40</td>\n",
       "      <td>...</td>\n",
       "      <td>-1</td>\n",
       "      <td>-1</td>\n",
       "      <td>-1</td>\n",
       "      <td>-1</td>\n",
       "      <td>-1</td>\n",
       "      <td>-0.7335</td>\n",
       "      <td>0.3789</td>\n",
       "      <td>1.2396</td>\n",
       "      <td>-0.10760</td>\n",
       "      <td>0.8637</td>\n",
       "    </tr>\n",
       "    <tr>\n",
       "      <th>2</th>\n",
       "      <td>train</td>\n",
       "      <td>810601</td>\n",
       "      <td>325000</td>\n",
       "      <td>2014-06-01</td>\n",
       "      <td>present</td>\n",
       "      <td>systems engineer</td>\n",
       "      <td>Chennai</td>\n",
       "      <td>f</td>\n",
       "      <td>1992-08-03</td>\n",
       "      <td>85.00</td>\n",
       "      <td>...</td>\n",
       "      <td>-1</td>\n",
       "      <td>-1</td>\n",
       "      <td>-1</td>\n",
       "      <td>-1</td>\n",
       "      <td>-1</td>\n",
       "      <td>0.2718</td>\n",
       "      <td>1.7109</td>\n",
       "      <td>0.1637</td>\n",
       "      <td>-0.86820</td>\n",
       "      <td>0.6721</td>\n",
       "    </tr>\n",
       "    <tr>\n",
       "      <th>3</th>\n",
       "      <td>train</td>\n",
       "      <td>267447</td>\n",
       "      <td>1100000</td>\n",
       "      <td>2011-07-01</td>\n",
       "      <td>present</td>\n",
       "      <td>senior software engineer</td>\n",
       "      <td>Gurgaon</td>\n",
       "      <td>m</td>\n",
       "      <td>1989-12-05</td>\n",
       "      <td>85.60</td>\n",
       "      <td>...</td>\n",
       "      <td>-1</td>\n",
       "      <td>-1</td>\n",
       "      <td>-1</td>\n",
       "      <td>-1</td>\n",
       "      <td>-1</td>\n",
       "      <td>0.0464</td>\n",
       "      <td>0.3448</td>\n",
       "      <td>-0.3440</td>\n",
       "      <td>-0.40780</td>\n",
       "      <td>-0.9194</td>\n",
       "    </tr>\n",
       "    <tr>\n",
       "      <th>4</th>\n",
       "      <td>train</td>\n",
       "      <td>343523</td>\n",
       "      <td>200000</td>\n",
       "      <td>2014-03-01</td>\n",
       "      <td>2015-03-01 00:00:00</td>\n",
       "      <td>get</td>\n",
       "      <td>Manesar</td>\n",
       "      <td>m</td>\n",
       "      <td>1991-02-27</td>\n",
       "      <td>78.00</td>\n",
       "      <td>...</td>\n",
       "      <td>-1</td>\n",
       "      <td>-1</td>\n",
       "      <td>-1</td>\n",
       "      <td>-1</td>\n",
       "      <td>-1</td>\n",
       "      <td>-0.8810</td>\n",
       "      <td>-0.2793</td>\n",
       "      <td>-1.0697</td>\n",
       "      <td>0.09163</td>\n",
       "      <td>-0.1295</td>\n",
       "    </tr>\n",
       "    <tr>\n",
       "      <th>...</th>\n",
       "      <td>...</td>\n",
       "      <td>...</td>\n",
       "      <td>...</td>\n",
       "      <td>...</td>\n",
       "      <td>...</td>\n",
       "      <td>...</td>\n",
       "      <td>...</td>\n",
       "      <td>...</td>\n",
       "      <td>...</td>\n",
       "      <td>...</td>\n",
       "      <td>...</td>\n",
       "      <td>...</td>\n",
       "      <td>...</td>\n",
       "      <td>...</td>\n",
       "      <td>...</td>\n",
       "      <td>...</td>\n",
       "      <td>...</td>\n",
       "      <td>...</td>\n",
       "      <td>...</td>\n",
       "      <td>...</td>\n",
       "      <td>...</td>\n",
       "    </tr>\n",
       "    <tr>\n",
       "      <th>3993</th>\n",
       "      <td>train</td>\n",
       "      <td>47916</td>\n",
       "      <td>280000</td>\n",
       "      <td>2011-10-01</td>\n",
       "      <td>2012-10-01 00:00:00</td>\n",
       "      <td>software engineer</td>\n",
       "      <td>New Delhi</td>\n",
       "      <td>m</td>\n",
       "      <td>1987-04-15</td>\n",
       "      <td>52.09</td>\n",
       "      <td>...</td>\n",
       "      <td>-1</td>\n",
       "      <td>-1</td>\n",
       "      <td>-1</td>\n",
       "      <td>-1</td>\n",
       "      <td>-1</td>\n",
       "      <td>-0.1082</td>\n",
       "      <td>0.3448</td>\n",
       "      <td>0.2366</td>\n",
       "      <td>0.64980</td>\n",
       "      <td>-0.9194</td>\n",
       "    </tr>\n",
       "    <tr>\n",
       "      <th>3994</th>\n",
       "      <td>train</td>\n",
       "      <td>752781</td>\n",
       "      <td>100000</td>\n",
       "      <td>2013-07-01</td>\n",
       "      <td>2013-07-01 00:00:00</td>\n",
       "      <td>technical writer</td>\n",
       "      <td>Hyderabad</td>\n",
       "      <td>f</td>\n",
       "      <td>1992-08-27</td>\n",
       "      <td>90.00</td>\n",
       "      <td>...</td>\n",
       "      <td>-1</td>\n",
       "      <td>-1</td>\n",
       "      <td>-1</td>\n",
       "      <td>-1</td>\n",
       "      <td>-1</td>\n",
       "      <td>-0.3027</td>\n",
       "      <td>0.8784</td>\n",
       "      <td>0.9322</td>\n",
       "      <td>0.77980</td>\n",
       "      <td>-0.0943</td>\n",
       "    </tr>\n",
       "    <tr>\n",
       "      <th>3995</th>\n",
       "      <td>train</td>\n",
       "      <td>355888</td>\n",
       "      <td>320000</td>\n",
       "      <td>2013-07-01</td>\n",
       "      <td>present</td>\n",
       "      <td>associate software engineer</td>\n",
       "      <td>Bangalore</td>\n",
       "      <td>m</td>\n",
       "      <td>1991-07-03</td>\n",
       "      <td>81.86</td>\n",
       "      <td>...</td>\n",
       "      <td>-1</td>\n",
       "      <td>-1</td>\n",
       "      <td>-1</td>\n",
       "      <td>-1</td>\n",
       "      <td>-1</td>\n",
       "      <td>-1.5765</td>\n",
       "      <td>-1.5273</td>\n",
       "      <td>-1.5051</td>\n",
       "      <td>-1.31840</td>\n",
       "      <td>-0.7615</td>\n",
       "    </tr>\n",
       "    <tr>\n",
       "      <th>3996</th>\n",
       "      <td>train</td>\n",
       "      <td>947111</td>\n",
       "      <td>200000</td>\n",
       "      <td>2014-07-01</td>\n",
       "      <td>2015-01-01 00:00:00</td>\n",
       "      <td>software developer</td>\n",
       "      <td>Asifabadbanglore</td>\n",
       "      <td>f</td>\n",
       "      <td>1992-03-20</td>\n",
       "      <td>78.72</td>\n",
       "      <td>...</td>\n",
       "      <td>438</td>\n",
       "      <td>-1</td>\n",
       "      <td>-1</td>\n",
       "      <td>-1</td>\n",
       "      <td>-1</td>\n",
       "      <td>-0.1590</td>\n",
       "      <td>0.0459</td>\n",
       "      <td>-0.4511</td>\n",
       "      <td>-0.36120</td>\n",
       "      <td>-0.0943</td>\n",
       "    </tr>\n",
       "    <tr>\n",
       "      <th>3997</th>\n",
       "      <td>train</td>\n",
       "      <td>324966</td>\n",
       "      <td>400000</td>\n",
       "      <td>2013-02-01</td>\n",
       "      <td>present</td>\n",
       "      <td>senior systems engineer</td>\n",
       "      <td>Chennai</td>\n",
       "      <td>f</td>\n",
       "      <td>1991-02-26</td>\n",
       "      <td>70.60</td>\n",
       "      <td>...</td>\n",
       "      <td>-1</td>\n",
       "      <td>-1</td>\n",
       "      <td>-1</td>\n",
       "      <td>-1</td>\n",
       "      <td>-1</td>\n",
       "      <td>-1.1128</td>\n",
       "      <td>-0.2793</td>\n",
       "      <td>-0.6343</td>\n",
       "      <td>1.32553</td>\n",
       "      <td>-0.6035</td>\n",
       "    </tr>\n",
       "  </tbody>\n",
       "</table>\n",
       "<p>3998 rows × 39 columns</p>\n",
       "</div>"
      ],
      "text/plain": [
       "     Unnamed: 0      ID   Salary        DOJ                  DOL  \\\n",
       "0         train  203097   420000 2012-06-01              present   \n",
       "1         train  579905   500000 2013-09-01              present   \n",
       "2         train  810601   325000 2014-06-01              present   \n",
       "3         train  267447  1100000 2011-07-01              present   \n",
       "4         train  343523   200000 2014-03-01  2015-03-01 00:00:00   \n",
       "...         ...     ...      ...        ...                  ...   \n",
       "3993      train   47916   280000 2011-10-01  2012-10-01 00:00:00   \n",
       "3994      train  752781   100000 2013-07-01  2013-07-01 00:00:00   \n",
       "3995      train  355888   320000 2013-07-01              present   \n",
       "3996      train  947111   200000 2014-07-01  2015-01-01 00:00:00   \n",
       "3997      train  324966   400000 2013-02-01              present   \n",
       "\n",
       "                      Designation           JobCity Gender        DOB  \\\n",
       "0         senior quality engineer         Bangalore      f 1990-02-19   \n",
       "1               assistant manager            Indore      m 1989-10-04   \n",
       "2                systems engineer           Chennai      f 1992-08-03   \n",
       "3        senior software engineer           Gurgaon      m 1989-12-05   \n",
       "4                             get           Manesar      m 1991-02-27   \n",
       "...                           ...               ...    ...        ...   \n",
       "3993            software engineer        New Delhi       m 1987-04-15   \n",
       "3994             technical writer         Hyderabad      f 1992-08-27   \n",
       "3995  associate software engineer         Bangalore      m 1991-07-03   \n",
       "3996           software developer  Asifabadbanglore      f 1992-03-20   \n",
       "3997      senior systems engineer           Chennai      f 1991-02-26   \n",
       "\n",
       "      10percentage  ... ComputerScience  MechanicalEngg  ElectricalEngg  \\\n",
       "0            84.30  ...              -1              -1              -1   \n",
       "1            85.40  ...              -1              -1              -1   \n",
       "2            85.00  ...              -1              -1              -1   \n",
       "3            85.60  ...              -1              -1              -1   \n",
       "4            78.00  ...              -1              -1              -1   \n",
       "...            ...  ...             ...             ...             ...   \n",
       "3993         52.09  ...              -1              -1              -1   \n",
       "3994         90.00  ...              -1              -1              -1   \n",
       "3995         81.86  ...              -1              -1              -1   \n",
       "3996         78.72  ...             438              -1              -1   \n",
       "3997         70.60  ...              -1              -1              -1   \n",
       "\n",
       "     TelecomEngg  CivilEngg  conscientiousness agreeableness extraversion  \\\n",
       "0             -1         -1             0.9737        0.8128       0.5269   \n",
       "1             -1         -1            -0.7335        0.3789       1.2396   \n",
       "2             -1         -1             0.2718        1.7109       0.1637   \n",
       "3             -1         -1             0.0464        0.3448      -0.3440   \n",
       "4             -1         -1            -0.8810       -0.2793      -1.0697   \n",
       "...          ...        ...                ...           ...          ...   \n",
       "3993          -1         -1            -0.1082        0.3448       0.2366   \n",
       "3994          -1         -1            -0.3027        0.8784       0.9322   \n",
       "3995          -1         -1            -1.5765       -1.5273      -1.5051   \n",
       "3996          -1         -1            -0.1590        0.0459      -0.4511   \n",
       "3997          -1         -1            -1.1128       -0.2793      -0.6343   \n",
       "\n",
       "      nueroticism  openess_to_experience  \n",
       "0         1.35490                -0.4455  \n",
       "1        -0.10760                 0.8637  \n",
       "2        -0.86820                 0.6721  \n",
       "3        -0.40780                -0.9194  \n",
       "4         0.09163                -0.1295  \n",
       "...           ...                    ...  \n",
       "3993      0.64980                -0.9194  \n",
       "3994      0.77980                -0.0943  \n",
       "3995     -1.31840                -0.7615  \n",
       "3996     -0.36120                -0.0943  \n",
       "3997      1.32553                -0.6035  \n",
       "\n",
       "[3998 rows x 39 columns]"
      ]
     },
     "execution_count": 549,
     "metadata": {},
     "output_type": "execute_result"
    }
   ],
   "source": [
    "df"
   ]
  },
  {
   "cell_type": "code",
   "execution_count": 550,
   "id": "2d7c1851",
   "metadata": {},
   "outputs": [
    {
     "name": "stdout",
     "output_type": "stream",
     "text": [
      "Unnamed: 0               0\n",
      "ID                       0\n",
      "Salary                   0\n",
      "DOJ                      0\n",
      "DOL                      0\n",
      "Designation              0\n",
      "JobCity                  0\n",
      "Gender                   0\n",
      "DOB                      0\n",
      "10percentage             0\n",
      "10board                  0\n",
      "12graduation             0\n",
      "12percentage             0\n",
      "12board                  0\n",
      "CollegeID                0\n",
      "CollegeTier              0\n",
      "Degree                   0\n",
      "Specialization           0\n",
      "collegeGPA               0\n",
      "CollegeCityID            0\n",
      "CollegeCityTier          0\n",
      "CollegeState             0\n",
      "GraduationYear           0\n",
      "English                  0\n",
      "Logical                  0\n",
      "Quant                    0\n",
      "Domain                   0\n",
      "ComputerProgramming      0\n",
      "ElectronicsAndSemicon    0\n",
      "ComputerScience          0\n",
      "MechanicalEngg           0\n",
      "ElectricalEngg           0\n",
      "TelecomEngg              0\n",
      "CivilEngg                0\n",
      "conscientiousness        0\n",
      "agreeableness            0\n",
      "extraversion             0\n",
      "nueroticism              0\n",
      "openess_to_experience    0\n",
      "dtype: int64\n"
     ]
    }
   ],
   "source": [
    "print(df.isnull().sum())\n"
   ]
  },
  {
   "cell_type": "code",
   "execution_count": 551,
   "id": "5da359ab",
   "metadata": {},
   "outputs": [
    {
     "data": {
      "text/plain": [
       "(3998, 39)"
      ]
     },
     "execution_count": 551,
     "metadata": {},
     "output_type": "execute_result"
    }
   ],
   "source": [
    "df.shape"
   ]
  },
  {
   "cell_type": "code",
   "execution_count": 552,
   "id": "ea32df18",
   "metadata": {},
   "outputs": [
    {
     "name": "stdout",
     "output_type": "stream",
     "text": [
      "<class 'pandas.core.frame.DataFrame'>\n",
      "RangeIndex: 3998 entries, 0 to 3997\n",
      "Data columns (total 39 columns):\n",
      " #   Column                 Non-Null Count  Dtype         \n",
      "---  ------                 --------------  -----         \n",
      " 0   Unnamed: 0             3998 non-null   object        \n",
      " 1   ID                     3998 non-null   int64         \n",
      " 2   Salary                 3998 non-null   int64         \n",
      " 3   DOJ                    3998 non-null   datetime64[ns]\n",
      " 4   DOL                    3998 non-null   object        \n",
      " 5   Designation            3998 non-null   object        \n",
      " 6   JobCity                3998 non-null   object        \n",
      " 7   Gender                 3998 non-null   object        \n",
      " 8   DOB                    3998 non-null   datetime64[ns]\n",
      " 9   10percentage           3998 non-null   float64       \n",
      " 10  10board                3998 non-null   object        \n",
      " 11  12graduation           3998 non-null   int64         \n",
      " 12  12percentage           3998 non-null   float64       \n",
      " 13  12board                3998 non-null   object        \n",
      " 14  CollegeID              3998 non-null   int64         \n",
      " 15  CollegeTier            3998 non-null   int64         \n",
      " 16  Degree                 3998 non-null   object        \n",
      " 17  Specialization         3998 non-null   object        \n",
      " 18  collegeGPA             3998 non-null   float64       \n",
      " 19  CollegeCityID          3998 non-null   int64         \n",
      " 20  CollegeCityTier        3998 non-null   int64         \n",
      " 21  CollegeState           3998 non-null   object        \n",
      " 22  GraduationYear         3998 non-null   int64         \n",
      " 23  English                3998 non-null   int64         \n",
      " 24  Logical                3998 non-null   int64         \n",
      " 25  Quant                  3998 non-null   int64         \n",
      " 26  Domain                 3998 non-null   float64       \n",
      " 27  ComputerProgramming    3998 non-null   int64         \n",
      " 28  ElectronicsAndSemicon  3998 non-null   int64         \n",
      " 29  ComputerScience        3998 non-null   int64         \n",
      " 30  MechanicalEngg         3998 non-null   int64         \n",
      " 31  ElectricalEngg         3998 non-null   int64         \n",
      " 32  TelecomEngg            3998 non-null   int64         \n",
      " 33  CivilEngg              3998 non-null   int64         \n",
      " 34  conscientiousness      3998 non-null   float64       \n",
      " 35  agreeableness          3998 non-null   float64       \n",
      " 36  extraversion           3998 non-null   float64       \n",
      " 37  nueroticism            3998 non-null   float64       \n",
      " 38  openess_to_experience  3998 non-null   float64       \n",
      "dtypes: datetime64[ns](2), float64(9), int64(18), object(10)\n",
      "memory usage: 1.2+ MB\n"
     ]
    }
   ],
   "source": [
    "df.info()"
   ]
  },
  {
   "cell_type": "code",
   "execution_count": 553,
   "id": "03d7546c",
   "metadata": {},
   "outputs": [],
   "source": [
    "df.drop(columns=[ 'Unnamed: 0','ID', 'CollegeID', 'CollegeCityID','CollegeTier','CollegeCityTier'], inplace=True)\n"
   ]
  },
  {
   "cell_type": "code",
   "execution_count": 554,
   "id": "6402ffef",
   "metadata": {
    "scrolled": true
   },
   "outputs": [
    {
     "name": "stdout",
     "output_type": "stream",
     "text": [
      "<class 'pandas.core.frame.DataFrame'>\n",
      "RangeIndex: 3998 entries, 0 to 3997\n",
      "Data columns (total 33 columns):\n",
      " #   Column                 Non-Null Count  Dtype         \n",
      "---  ------                 --------------  -----         \n",
      " 0   Salary                 3998 non-null   int64         \n",
      " 1   DOJ                    3998 non-null   datetime64[ns]\n",
      " 2   DOL                    3998 non-null   object        \n",
      " 3   Designation            3998 non-null   object        \n",
      " 4   JobCity                3998 non-null   object        \n",
      " 5   Gender                 3998 non-null   object        \n",
      " 6   DOB                    3998 non-null   datetime64[ns]\n",
      " 7   10percentage           3998 non-null   float64       \n",
      " 8   10board                3998 non-null   object        \n",
      " 9   12graduation           3998 non-null   int64         \n",
      " 10  12percentage           3998 non-null   float64       \n",
      " 11  12board                3998 non-null   object        \n",
      " 12  Degree                 3998 non-null   object        \n",
      " 13  Specialization         3998 non-null   object        \n",
      " 14  collegeGPA             3998 non-null   float64       \n",
      " 15  CollegeState           3998 non-null   object        \n",
      " 16  GraduationYear         3998 non-null   int64         \n",
      " 17  English                3998 non-null   int64         \n",
      " 18  Logical                3998 non-null   int64         \n",
      " 19  Quant                  3998 non-null   int64         \n",
      " 20  Domain                 3998 non-null   float64       \n",
      " 21  ComputerProgramming    3998 non-null   int64         \n",
      " 22  ElectronicsAndSemicon  3998 non-null   int64         \n",
      " 23  ComputerScience        3998 non-null   int64         \n",
      " 24  MechanicalEngg         3998 non-null   int64         \n",
      " 25  ElectricalEngg         3998 non-null   int64         \n",
      " 26  TelecomEngg            3998 non-null   int64         \n",
      " 27  CivilEngg              3998 non-null   int64         \n",
      " 28  conscientiousness      3998 non-null   float64       \n",
      " 29  agreeableness          3998 non-null   float64       \n",
      " 30  extraversion           3998 non-null   float64       \n",
      " 31  nueroticism            3998 non-null   float64       \n",
      " 32  openess_to_experience  3998 non-null   float64       \n",
      "dtypes: datetime64[ns](2), float64(9), int64(13), object(9)\n",
      "memory usage: 1.0+ MB\n"
     ]
    }
   ],
   "source": [
    "df.info()"
   ]
  },
  {
   "cell_type": "code",
   "execution_count": 555,
   "id": "2f567910",
   "metadata": {},
   "outputs": [],
   "source": [
    "df=df.rename(columns={'DOJ':'Year_of_join','DOL':'Year_of_leave','JobCity':'City','10percentage':'Tenth_grade','12percentage':'Tweveth_grade' })"
   ]
  },
  {
   "cell_type": "code",
   "execution_count": 556,
   "id": "11bfcef2",
   "metadata": {},
   "outputs": [
    {
     "name": "stdout",
     "output_type": "stream",
     "text": [
      "<class 'pandas.core.frame.DataFrame'>\n",
      "RangeIndex: 3998 entries, 0 to 3997\n",
      "Data columns (total 33 columns):\n",
      " #   Column                 Non-Null Count  Dtype         \n",
      "---  ------                 --------------  -----         \n",
      " 0   Salary                 3998 non-null   int64         \n",
      " 1   Year_of_join           3998 non-null   datetime64[ns]\n",
      " 2   Year_of_leave          3998 non-null   object        \n",
      " 3   Designation            3998 non-null   object        \n",
      " 4   City                   3998 non-null   object        \n",
      " 5   Gender                 3998 non-null   object        \n",
      " 6   DOB                    3998 non-null   datetime64[ns]\n",
      " 7   Tenth_grade            3998 non-null   float64       \n",
      " 8   10board                3998 non-null   object        \n",
      " 9   12graduation           3998 non-null   int64         \n",
      " 10  Tweveth_grade          3998 non-null   float64       \n",
      " 11  12board                3998 non-null   object        \n",
      " 12  Degree                 3998 non-null   object        \n",
      " 13  Specialization         3998 non-null   object        \n",
      " 14  collegeGPA             3998 non-null   float64       \n",
      " 15  CollegeState           3998 non-null   object        \n",
      " 16  GraduationYear         3998 non-null   int64         \n",
      " 17  English                3998 non-null   int64         \n",
      " 18  Logical                3998 non-null   int64         \n",
      " 19  Quant                  3998 non-null   int64         \n",
      " 20  Domain                 3998 non-null   float64       \n",
      " 21  ComputerProgramming    3998 non-null   int64         \n",
      " 22  ElectronicsAndSemicon  3998 non-null   int64         \n",
      " 23  ComputerScience        3998 non-null   int64         \n",
      " 24  MechanicalEngg         3998 non-null   int64         \n",
      " 25  ElectricalEngg         3998 non-null   int64         \n",
      " 26  TelecomEngg            3998 non-null   int64         \n",
      " 27  CivilEngg              3998 non-null   int64         \n",
      " 28  conscientiousness      3998 non-null   float64       \n",
      " 29  agreeableness          3998 non-null   float64       \n",
      " 30  extraversion           3998 non-null   float64       \n",
      " 31  nueroticism            3998 non-null   float64       \n",
      " 32  openess_to_experience  3998 non-null   float64       \n",
      "dtypes: datetime64[ns](2), float64(9), int64(13), object(9)\n",
      "memory usage: 1.0+ MB\n"
     ]
    }
   ],
   "source": [
    "df.info()"
   ]
  },
  {
   "cell_type": "code",
   "execution_count": 557,
   "id": "12468bb3",
   "metadata": {},
   "outputs": [
    {
     "data": {
      "text/plain": [
       "0                   present\n",
       "1                   present\n",
       "2                   present\n",
       "3                   present\n",
       "4       2015-03-01 00:00:00\n",
       "               ...         \n",
       "3993    2012-10-01 00:00:00\n",
       "3994    2013-07-01 00:00:00\n",
       "3995                present\n",
       "3996    2015-01-01 00:00:00\n",
       "3997                present\n",
       "Name: Year_of_leave, Length: 3998, dtype: object"
      ]
     },
     "execution_count": 557,
     "metadata": {},
     "output_type": "execute_result"
    }
   ],
   "source": [
    "df['Year_of_leave']"
   ]
  },
  {
   "cell_type": "code",
   "execution_count": 558,
   "id": "ba453f66",
   "metadata": {},
   "outputs": [
    {
     "data": {
      "text/plain": [
       "present                1875\n",
       "2015-04-01 00:00:00     573\n",
       "2015-03-01 00:00:00     124\n",
       "2015-05-01 00:00:00     112\n",
       "2015-01-01 00:00:00      99\n",
       "                       ... \n",
       "2015-10-01 00:00:00       1\n",
       "2008-03-01 00:00:00       1\n",
       "2009-06-01 00:00:00       1\n",
       "2011-02-01 00:00:00       1\n",
       "2005-03-01 00:00:00       1\n",
       "Name: Year_of_leave, Length: 67, dtype: int64"
      ]
     },
     "execution_count": 558,
     "metadata": {},
     "output_type": "execute_result"
    }
   ],
   "source": [
    "df['Year_of_leave'].value_counts()"
   ]
  },
  {
   "cell_type": "code",
   "execution_count": 559,
   "id": "8aeeb988",
   "metadata": {},
   "outputs": [],
   "source": [
    "df['Year_of_leave']=df['Year_of_leave'].str.replace('present','2015')"
   ]
  },
  {
   "cell_type": "code",
   "execution_count": 560,
   "id": "249fff76",
   "metadata": {},
   "outputs": [],
   "source": [
    "df['Year_of_leave']= pd.to_datetime(df['Year_of_leave'], errors='coerce')\n"
   ]
  },
  {
   "cell_type": "code",
   "execution_count": 561,
   "id": "958beff5",
   "metadata": {},
   "outputs": [
    {
     "data": {
      "text/plain": [
       "dtype('<M8[ns]')"
      ]
     },
     "execution_count": 561,
     "metadata": {},
     "output_type": "execute_result"
    }
   ],
   "source": [
    "df['Year_of_leave'].dtype"
   ]
  },
  {
   "cell_type": "code",
   "execution_count": 562,
   "id": "44486ee3",
   "metadata": {},
   "outputs": [],
   "source": [
    "df['Year_of_leave']=df['Year_of_leave'].dt.year\n"
   ]
  },
  {
   "cell_type": "code",
   "execution_count": 563,
   "id": "a4303863",
   "metadata": {},
   "outputs": [
    {
     "data": {
      "text/plain": [
       "2015.0    1875\n",
       "Name: Year_of_leave, dtype: int64"
      ]
     },
     "execution_count": 563,
     "metadata": {},
     "output_type": "execute_result"
    }
   ],
   "source": [
    "df['Year_of_leave'].value_counts()"
   ]
  },
  {
   "cell_type": "code",
   "execution_count": 564,
   "id": "aea62531",
   "metadata": {},
   "outputs": [
    {
     "name": "stdout",
     "output_type": "stream",
     "text": [
      "<class 'pandas.core.frame.DataFrame'>\n",
      "RangeIndex: 3998 entries, 0 to 3997\n",
      "Data columns (total 33 columns):\n",
      " #   Column                 Non-Null Count  Dtype         \n",
      "---  ------                 --------------  -----         \n",
      " 0   Salary                 3998 non-null   int64         \n",
      " 1   Year_of_join           3998 non-null   datetime64[ns]\n",
      " 2   Year_of_leave          1875 non-null   float64       \n",
      " 3   Designation            3998 non-null   object        \n",
      " 4   City                   3998 non-null   object        \n",
      " 5   Gender                 3998 non-null   object        \n",
      " 6   DOB                    3998 non-null   datetime64[ns]\n",
      " 7   Tenth_grade            3998 non-null   float64       \n",
      " 8   10board                3998 non-null   object        \n",
      " 9   12graduation           3998 non-null   int64         \n",
      " 10  Tweveth_grade          3998 non-null   float64       \n",
      " 11  12board                3998 non-null   object        \n",
      " 12  Degree                 3998 non-null   object        \n",
      " 13  Specialization         3998 non-null   object        \n",
      " 14  collegeGPA             3998 non-null   float64       \n",
      " 15  CollegeState           3998 non-null   object        \n",
      " 16  GraduationYear         3998 non-null   int64         \n",
      " 17  English                3998 non-null   int64         \n",
      " 18  Logical                3998 non-null   int64         \n",
      " 19  Quant                  3998 non-null   int64         \n",
      " 20  Domain                 3998 non-null   float64       \n",
      " 21  ComputerProgramming    3998 non-null   int64         \n",
      " 22  ElectronicsAndSemicon  3998 non-null   int64         \n",
      " 23  ComputerScience        3998 non-null   int64         \n",
      " 24  MechanicalEngg         3998 non-null   int64         \n",
      " 25  ElectricalEngg         3998 non-null   int64         \n",
      " 26  TelecomEngg            3998 non-null   int64         \n",
      " 27  CivilEngg              3998 non-null   int64         \n",
      " 28  conscientiousness      3998 non-null   float64       \n",
      " 29  agreeableness          3998 non-null   float64       \n",
      " 30  extraversion           3998 non-null   float64       \n",
      " 31  nueroticism            3998 non-null   float64       \n",
      " 32  openess_to_experience  3998 non-null   float64       \n",
      "dtypes: datetime64[ns](2), float64(10), int64(13), object(8)\n",
      "memory usage: 1.0+ MB\n"
     ]
    }
   ],
   "source": [
    "df.info()"
   ]
  },
  {
   "cell_type": "code",
   "execution_count": 565,
   "id": "c6c84c27",
   "metadata": {},
   "outputs": [],
   "source": [
    "df['Year_of_leave']=df['Year_of_leave'].fillna(2015)\n",
    "df['Year_of_leave']=df['Year_of_leave'].astype('int32')"
   ]
  },
  {
   "cell_type": "code",
   "execution_count": 566,
   "id": "a443c434",
   "metadata": {},
   "outputs": [
    {
     "data": {
      "text/plain": [
       "2015    3998\n",
       "Name: Year_of_leave, dtype: int64"
      ]
     },
     "execution_count": 566,
     "metadata": {},
     "output_type": "execute_result"
    }
   ],
   "source": [
    "df['Year_of_leave'].value_counts()"
   ]
  },
  {
   "cell_type": "code",
   "execution_count": 567,
   "id": "50ad431b",
   "metadata": {},
   "outputs": [],
   "source": [
    "df['Year_of_join']=df['Year_of_join'].dt.year"
   ]
  },
  {
   "cell_type": "code",
   "execution_count": null,
   "id": "158490cd",
   "metadata": {},
   "outputs": [],
   "source": []
  },
  {
   "cell_type": "code",
   "execution_count": 568,
   "id": "d851d8fd",
   "metadata": {},
   "outputs": [
    {
     "name": "stdout",
     "output_type": "stream",
     "text": [
      "<class 'pandas.core.frame.DataFrame'>\n",
      "RangeIndex: 3998 entries, 0 to 3997\n",
      "Data columns (total 33 columns):\n",
      " #   Column                 Non-Null Count  Dtype         \n",
      "---  ------                 --------------  -----         \n",
      " 0   Salary                 3998 non-null   int64         \n",
      " 1   Year_of_join           3998 non-null   int64         \n",
      " 2   Year_of_leave          3998 non-null   int32         \n",
      " 3   Designation            3998 non-null   object        \n",
      " 4   City                   3998 non-null   object        \n",
      " 5   Gender                 3998 non-null   object        \n",
      " 6   DOB                    3998 non-null   datetime64[ns]\n",
      " 7   Tenth_grade            3998 non-null   float64       \n",
      " 8   10board                3998 non-null   object        \n",
      " 9   12graduation           3998 non-null   int64         \n",
      " 10  Tweveth_grade          3998 non-null   float64       \n",
      " 11  12board                3998 non-null   object        \n",
      " 12  Degree                 3998 non-null   object        \n",
      " 13  Specialization         3998 non-null   object        \n",
      " 14  collegeGPA             3998 non-null   float64       \n",
      " 15  CollegeState           3998 non-null   object        \n",
      " 16  GraduationYear         3998 non-null   int64         \n",
      " 17  English                3998 non-null   int64         \n",
      " 18  Logical                3998 non-null   int64         \n",
      " 19  Quant                  3998 non-null   int64         \n",
      " 20  Domain                 3998 non-null   float64       \n",
      " 21  ComputerProgramming    3998 non-null   int64         \n",
      " 22  ElectronicsAndSemicon  3998 non-null   int64         \n",
      " 23  ComputerScience        3998 non-null   int64         \n",
      " 24  MechanicalEngg         3998 non-null   int64         \n",
      " 25  ElectricalEngg         3998 non-null   int64         \n",
      " 26  TelecomEngg            3998 non-null   int64         \n",
      " 27  CivilEngg              3998 non-null   int64         \n",
      " 28  conscientiousness      3998 non-null   float64       \n",
      " 29  agreeableness          3998 non-null   float64       \n",
      " 30  extraversion           3998 non-null   float64       \n",
      " 31  nueroticism            3998 non-null   float64       \n",
      " 32  openess_to_experience  3998 non-null   float64       \n",
      "dtypes: datetime64[ns](1), float64(9), int32(1), int64(14), object(8)\n",
      "memory usage: 1015.2+ KB\n"
     ]
    }
   ],
   "source": [
    "df.info()"
   ]
  },
  {
   "cell_type": "code",
   "execution_count": 569,
   "id": "1835fb19",
   "metadata": {},
   "outputs": [
    {
     "data": {
      "text/plain": [
       "software engineer       539\n",
       "software developer      265\n",
       "system engineer         205\n",
       "programmer analyst      139\n",
       "systems engineer        118\n",
       "                       ... \n",
       "graphic designer          1\n",
       "it developer              1\n",
       "web intern                1\n",
       "full stack developer      1\n",
       "junior recruiter          1\n",
       "Name: Designation, Length: 419, dtype: int64"
      ]
     },
     "execution_count": 569,
     "metadata": {},
     "output_type": "execute_result"
    }
   ],
   "source": [
    "df['Designation'].value_counts()"
   ]
  },
  {
   "cell_type": "code",
   "execution_count": 570,
   "id": "4e52ae04",
   "metadata": {},
   "outputs": [],
   "source": [
    "l=[]\n",
    "for i in df['Designation']:\n",
    "    if ('software engineer' in i or 'developer' in i):\n",
    "        l.append('Software Engineer')\n",
    "    elif ('software'not in i and 'engineer' in i and 'system' in i and 'associate' not in i):\n",
    "        l.append('Hardware Engineer')\n",
    "    elif ('associate' in i and 'manager' not in i )or( 'engineer' in i ):\n",
    "        l.append('Associate Engineer')\n",
    "    elif ('analyst' in i):\n",
    "        l.append('Programming Analyst')\n",
    "    elif ('design' in i):\n",
    "        l.append('Designer')\n",
    "    elif ('manager' in i):\n",
    "        l.append('Manager')\n",
    "    else:\n",
    "        l.append('Others')\n",
    "        "
   ]
  },
  {
   "cell_type": "code",
   "execution_count": 571,
   "id": "358dd7be",
   "metadata": {},
   "outputs": [],
   "source": [
    "df['Designation']=l"
   ]
  },
  {
   "cell_type": "code",
   "execution_count": 572,
   "id": "b7484d19",
   "metadata": {},
   "outputs": [
    {
     "data": {
      "text/plain": [
       "Software Engineer      1526\n",
       "Associate Engineer      993\n",
       "Others                  533\n",
       "Programming Analyst     411\n",
       "Hardware Engineer       388\n",
       "Manager                 124\n",
       "Designer                 23\n",
       "Name: Designation, dtype: int64"
      ]
     },
     "execution_count": 572,
     "metadata": {},
     "output_type": "execute_result"
    }
   ],
   "source": [
    "df['Designation'].value_counts()"
   ]
  },
  {
   "cell_type": "code",
   "execution_count": 573,
   "id": "63ef76a1",
   "metadata": {},
   "outputs": [
    {
     "data": {
      "text/plain": [
       "<AxesSubplot:>"
      ]
     },
     "execution_count": 573,
     "metadata": {},
     "output_type": "execute_result"
    },
    {
     "data": {
      "image/png": "[encoded data removed]",
      "text/plain": [
       "<Figure size 432x288 with 1 Axes>"
      ]
     },
     "metadata": {
      "needs_background": "light"
     },
     "output_type": "display_data"
    }
   ],
   "source": [
    "df['Designation'].value_counts().plot(kind='bar')"
   ]
  },
  {
   "cell_type": "code",
   "execution_count": 574,
   "id": "80e5631b",
   "metadata": {},
   "outputs": [
    {
     "name": "stdout",
     "output_type": "stream",
     "text": [
      "<class 'pandas.core.frame.DataFrame'>\n",
      "RangeIndex: 3998 entries, 0 to 3997\n",
      "Data columns (total 33 columns):\n",
      " #   Column                 Non-Null Count  Dtype         \n",
      "---  ------                 --------------  -----         \n",
      " 0   Salary                 3998 non-null   int64         \n",
      " 1   Year_of_join           3998 non-null   int64         \n",
      " 2   Year_of_leave          3998 non-null   int32         \n",
      " 3   Designation            3998 non-null   object        \n",
      " 4   City                   3998 non-null   object        \n",
      " 5   Gender                 3998 non-null   object        \n",
      " 6   DOB                    3998 non-null   datetime64[ns]\n",
      " 7   Tenth_grade            3998 non-null   float64       \n",
      " 8   10board                3998 non-null   object        \n",
      " 9   12graduation           3998 non-null   int64         \n",
      " 10  Tweveth_grade          3998 non-null   float64       \n",
      " 11  12board                3998 non-null   object        \n",
      " 12  Degree                 3998 non-null   object        \n",
      " 13  Specialization         3998 non-null   object        \n",
      " 14  collegeGPA             3998 non-null   float64       \n",
      " 15  CollegeState           3998 non-null   object        \n",
      " 16  GraduationYear         3998 non-null   int64         \n",
      " 17  English                3998 non-null   int64         \n",
      " 18  Logical                3998 non-null   int64         \n",
      " 19  Quant                  3998 non-null   int64         \n",
      " 20  Domain                 3998 non-null   float64       \n",
      " 21  ComputerProgramming    3998 non-null   int64         \n",
      " 22  ElectronicsAndSemicon  3998 non-null   int64         \n",
      " 23  ComputerScience        3998 non-null   int64         \n",
      " 24  MechanicalEngg         3998 non-null   int64         \n",
      " 25  ElectricalEngg         3998 non-null   int64         \n",
      " 26  TelecomEngg            3998 non-null   int64         \n",
      " 27  CivilEngg              3998 non-null   int64         \n",
      " 28  conscientiousness      3998 non-null   float64       \n",
      " 29  agreeableness          3998 non-null   float64       \n",
      " 30  extraversion           3998 non-null   float64       \n",
      " 31  nueroticism            3998 non-null   float64       \n",
      " 32  openess_to_experience  3998 non-null   float64       \n",
      "dtypes: datetime64[ns](1), float64(9), int32(1), int64(14), object(8)\n",
      "memory usage: 1015.2+ KB\n"
     ]
    }
   ],
   "source": [
    "df.info()"
   ]
  },
  {
   "cell_type": "code",
   "execution_count": 575,
   "id": "1fe352e8",
   "metadata": {
    "scrolled": true
   },
   "outputs": [
    {
     "data": {
      "text/plain": [
       "0              Bangalore\n",
       "1                 Indore\n",
       "2                Chennai\n",
       "3                Gurgaon\n",
       "4                Manesar\n",
       "              ...       \n",
       "3993          New Delhi \n",
       "3994           Hyderabad\n",
       "3995           Bangalore\n",
       "3996    Asifabadbanglore\n",
       "3997             Chennai\n",
       "Name: City, Length: 3998, dtype: object"
      ]
     },
     "execution_count": 575,
     "metadata": {},
     "output_type": "execute_result"
    }
   ],
   "source": [
    "df['City']"
   ]
  },
  {
   "cell_type": "code",
   "execution_count": 576,
   "id": "e394f2d6",
   "metadata": {},
   "outputs": [],
   "source": [
    "c=[]\n",
    "\n",
    "for i in df['City']:\n",
    "    if str(i).lower()=='bangalore':\n",
    "        c.append('Bangalore')\n",
    "    elif 'noida' in  str(i).lower():\n",
    "        c.append('Noida')\n",
    "    elif str(i).lower()=='hyderabad':\n",
    "        c.append('Hyderabad')\n",
    "    elif 'pune' in str(i).lower():\n",
    "        c.append('Pune')\n",
    "    elif str(i).lower()=='chennai' or str(i).lower()=='Coimbatore':\n",
    "        c.append('Chennai')\n",
    "    elif str(i).lower()=='gurgaon':\n",
    "        c.append('Gurgaon')\n",
    "    elif 'delhi' in str(i).lower():\n",
    "        c.append('Delhi')\n",
    "    elif 'kolkata' in str(i).lower():\n",
    "        c.append('kolkata')   \n",
    "    elif 'mumbai' in str(i).lower():\n",
    "        c.append('Mumbai')\n",
    "    else:\n",
    "        c.append(str(i))\n",
    "    \n",
    "    "
   ]
  },
  {
   "cell_type": "code",
   "execution_count": 577,
   "id": "623118c8",
   "metadata": {},
   "outputs": [],
   "source": [
    "df['City']=c"
   ]
  },
  {
   "cell_type": "code",
   "execution_count": 578,
   "id": "2bf99358",
   "metadata": {},
   "outputs": [
    {
     "data": {
      "text/plain": [
       "Bangalore              647\n",
       "-1                     461\n",
       "Noida                  419\n",
       "Hyderabad              357\n",
       "Pune                   327\n",
       "                      ... \n",
       "haryana                  1\n",
       "thane                    1\n",
       "Vizag                    1\n",
       "kolhapur                 1\n",
       "Jeddah Saudi Arabia      1\n",
       "Name: City, Length: 291, dtype: int64"
      ]
     },
     "execution_count": 578,
     "metadata": {},
     "output_type": "execute_result"
    }
   ],
   "source": [
    "\n",
    "df['City'].value_counts()"
   ]
  },
  {
   "cell_type": "code",
   "execution_count": 579,
   "id": "3cdc62fe",
   "metadata": {},
   "outputs": [],
   "source": [
    "\n",
    "value_counts = df['City'].value_counts()\n",
    "\n",
    "\n",
    "other = value_counts[value_counts < 20].index.tolist()\n",
    "df['City'] = df['City'].apply(lambda x: 'Others' if x in other else x)"
   ]
  },
  {
   "cell_type": "code",
   "execution_count": 580,
   "id": "866a12e7",
   "metadata": {},
   "outputs": [
    {
     "data": {
      "text/plain": [
       "Bangalore      647\n",
       "Others         561\n",
       "-1             461\n",
       "Noida          419\n",
       "Hyderabad      357\n",
       "Pune           327\n",
       "Chennai        304\n",
       "Delhi          227\n",
       "Gurgaon        210\n",
       "Mumbai         155\n",
       "kolkata        120\n",
       "Jaipur          46\n",
       "Lucknow         36\n",
       "Mysore          36\n",
       "Chandigarh      26\n",
       "Indore          24\n",
       "Bhubaneswar     22\n",
       "Coimbatore      20\n",
       "Name: City, dtype: int64"
      ]
     },
     "execution_count": 580,
     "metadata": {},
     "output_type": "execute_result"
    }
   ],
   "source": [
    " df['City'].value_counts()\n"
   ]
  },
  {
   "cell_type": "code",
   "execution_count": 581,
   "id": "ba82e91a",
   "metadata": {},
   "outputs": [],
   "source": [
    "df = df[df['City'] != '-1']\n"
   ]
  },
  {
   "cell_type": "code",
   "execution_count": 582,
   "id": "fd5550ea",
   "metadata": {},
   "outputs": [
    {
     "data": {
      "text/plain": [
       "Bangalore      647\n",
       "Others         561\n",
       "Noida          419\n",
       "Hyderabad      357\n",
       "Pune           327\n",
       "Chennai        304\n",
       "Delhi          227\n",
       "Gurgaon        210\n",
       "Mumbai         155\n",
       "kolkata        120\n",
       "Jaipur          46\n",
       "Lucknow         36\n",
       "Mysore          36\n",
       "Chandigarh      26\n",
       "Indore          24\n",
       "Bhubaneswar     22\n",
       "Coimbatore      20\n",
       "Name: City, dtype: int64"
      ]
     },
     "execution_count": 582,
     "metadata": {},
     "output_type": "execute_result"
    }
   ],
   "source": [
    " df['City'].value_counts()\n",
    "\n"
   ]
  },
  {
   "cell_type": "code",
   "execution_count": 583,
   "id": "9c9c5663",
   "metadata": {},
   "outputs": [
    {
     "data": {
      "text/plain": [
       "<AxesSubplot:>"
      ]
     },
     "execution_count": 583,
     "metadata": {},
     "output_type": "execute_result"
    },
    {
     "data": {
      "image/png": "[encoded data removed]",
      "text/plain": [
       "<Figure size 432x288 with 1 Axes>"
      ]
     },
     "metadata": {
      "needs_background": "light"
     },
     "output_type": "display_data"
    }
   ],
   "source": [
    " df['City'].value_counts().plot(kind='bar')"
   ]
  },
  {
   "cell_type": "code",
   "execution_count": 584,
   "id": "ffdde773",
   "metadata": {},
   "outputs": [
    {
     "name": "stdout",
     "output_type": "stream",
     "text": [
      "<class 'pandas.core.frame.DataFrame'>\n",
      "Int64Index: 3537 entries, 0 to 3997\n",
      "Data columns (total 33 columns):\n",
      " #   Column                 Non-Null Count  Dtype         \n",
      "---  ------                 --------------  -----         \n",
      " 0   Salary                 3537 non-null   int64         \n",
      " 1   Year_of_join           3537 non-null   int64         \n",
      " 2   Year_of_leave          3537 non-null   int32         \n",
      " 3   Designation            3537 non-null   object        \n",
      " 4   City                   3537 non-null   object        \n",
      " 5   Gender                 3537 non-null   object        \n",
      " 6   DOB                    3537 non-null   datetime64[ns]\n",
      " 7   Tenth_grade            3537 non-null   float64       \n",
      " 8   10board                3537 non-null   object        \n",
      " 9   12graduation           3537 non-null   int64         \n",
      " 10  Tweveth_grade          3537 non-null   float64       \n",
      " 11  12board                3537 non-null   object        \n",
      " 12  Degree                 3537 non-null   object        \n",
      " 13  Specialization         3537 non-null   object        \n",
      " 14  collegeGPA             3537 non-null   float64       \n",
      " 15  CollegeState           3537 non-null   object        \n",
      " 16  GraduationYear         3537 non-null   int64         \n",
      " 17  English                3537 non-null   int64         \n",
      " 18  Logical                3537 non-null   int64         \n",
      " 19  Quant                  3537 non-null   int64         \n",
      " 20  Domain                 3537 non-null   float64       \n",
      " 21  ComputerProgramming    3537 non-null   int64         \n",
      " 22  ElectronicsAndSemicon  3537 non-null   int64         \n",
      " 23  ComputerScience        3537 non-null   int64         \n",
      " 24  MechanicalEngg         3537 non-null   int64         \n",
      " 25  ElectricalEngg         3537 non-null   int64         \n",
      " 26  TelecomEngg            3537 non-null   int64         \n",
      " 27  CivilEngg              3537 non-null   int64         \n",
      " 28  conscientiousness      3537 non-null   float64       \n",
      " 29  agreeableness          3537 non-null   float64       \n",
      " 30  extraversion           3537 non-null   float64       \n",
      " 31  nueroticism            3537 non-null   float64       \n",
      " 32  openess_to_experience  3537 non-null   float64       \n",
      "dtypes: datetime64[ns](1), float64(9), int32(1), int64(14), object(8)\n",
      "memory usage: 925.7+ KB\n"
     ]
    }
   ],
   "source": [
    "df.info()"
   ]
  },
  {
   "cell_type": "code",
   "execution_count": 585,
   "id": "d86030eb",
   "metadata": {},
   "outputs": [
    {
     "data": {
      "text/plain": [
       "<AxesSubplot:>"
      ]
     },
     "execution_count": 585,
     "metadata": {},
     "output_type": "execute_result"
    },
    {
     "data": {
      "image/png": "[encoded data removed]",
      "text/plain": [
       "<Figure size 432x288 with 1 Axes>"
      ]
     },
     "metadata": {
      "needs_background": "light"
     },
     "output_type": "display_data"
    }
   ],
   "source": [
    "df['Tenth_grade'].plot(kind='box')"
   ]
  },
  {
   "cell_type": "code",
   "execution_count": 586,
   "id": "665a38f9",
   "metadata": {},
   "outputs": [
    {
     "name": "stdout",
     "output_type": "stream",
     "text": [
      "The mean is : 77.94931863160869\n",
      "The median is: 79.2\n",
      "The range is: 9.875652287550947\n"
     ]
    }
   ],
   "source": [
    "print('The mean is :',df['Tenth_grade'].mean())\n",
    "print('The median is:',df['Tenth_grade'].median())\n",
    "print('The range is:',df['Tenth_grade'].std())\n"
   ]
  },
  {
   "cell_type": "code",
   "execution_count": 587,
   "id": "bc5c8339",
   "metadata": {},
   "outputs": [
    {
     "data": {
      "text/plain": [
       "<AxesSubplot:ylabel='Density'>"
      ]
     },
     "execution_count": 587,
     "metadata": {},
     "output_type": "execute_result"
    },
    {
     "data": {
      "image/png": "[encoded data removed]",
      "text/plain": [
       "<Figure size 432x288 with 1 Axes>"
      ]
     },
     "metadata": {
      "needs_background": "light"
     },
     "output_type": "display_data"
    }
   ],
   "source": [
    "df['Tenth_grade'].plot(kind='kde')"
   ]
  },
  {
   "cell_type": "code",
   "execution_count": 588,
   "id": "03d974cf",
   "metadata": {},
   "outputs": [
    {
     "name": "stdout",
     "output_type": "stream",
     "text": [
      "<class 'pandas.core.frame.DataFrame'>\n",
      "Int64Index: 3537 entries, 0 to 3997\n",
      "Data columns (total 33 columns):\n",
      " #   Column                 Non-Null Count  Dtype         \n",
      "---  ------                 --------------  -----         \n",
      " 0   Salary                 3537 non-null   int64         \n",
      " 1   Year_of_join           3537 non-null   int64         \n",
      " 2   Year_of_leave          3537 non-null   int32         \n",
      " 3   Designation            3537 non-null   object        \n",
      " 4   City                   3537 non-null   object        \n",
      " 5   Gender                 3537 non-null   object        \n",
      " 6   DOB                    3537 non-null   datetime64[ns]\n",
      " 7   Tenth_grade            3537 non-null   float64       \n",
      " 8   10board                3537 non-null   object        \n",
      " 9   12graduation           3537 non-null   int64         \n",
      " 10  Tweveth_grade          3537 non-null   float64       \n",
      " 11  12board                3537 non-null   object        \n",
      " 12  Degree                 3537 non-null   object        \n",
      " 13  Specialization         3537 non-null   object        \n",
      " 14  collegeGPA             3537 non-null   float64       \n",
      " 15  CollegeState           3537 non-null   object        \n",
      " 16  GraduationYear         3537 non-null   int64         \n",
      " 17  English                3537 non-null   int64         \n",
      " 18  Logical                3537 non-null   int64         \n",
      " 19  Quant                  3537 non-null   int64         \n",
      " 20  Domain                 3537 non-null   float64       \n",
      " 21  ComputerProgramming    3537 non-null   int64         \n",
      " 22  ElectronicsAndSemicon  3537 non-null   int64         \n",
      " 23  ComputerScience        3537 non-null   int64         \n",
      " 24  MechanicalEngg         3537 non-null   int64         \n",
      " 25  ElectricalEngg         3537 non-null   int64         \n",
      " 26  TelecomEngg            3537 non-null   int64         \n",
      " 27  CivilEngg              3537 non-null   int64         \n",
      " 28  conscientiousness      3537 non-null   float64       \n",
      " 29  agreeableness          3537 non-null   float64       \n",
      " 30  extraversion           3537 non-null   float64       \n",
      " 31  nueroticism            3537 non-null   float64       \n",
      " 32  openess_to_experience  3537 non-null   float64       \n",
      "dtypes: datetime64[ns](1), float64(9), int32(1), int64(14), object(8)\n",
      "memory usage: 925.7+ KB\n"
     ]
    }
   ],
   "source": [
    "df.info()"
   ]
  },
  {
   "cell_type": "code",
   "execution_count": 589,
   "id": "5daca2fa",
   "metadata": {},
   "outputs": [
    {
     "data": {
      "text/plain": [
       "<AxesSubplot:>"
      ]
     },
     "execution_count": 589,
     "metadata": {},
     "output_type": "execute_result"
    },
    {
     "data": {
      "image/png": "[encoded data removed]",
      "text/plain": [
       "<Figure size 432x288 with 1 Axes>"
      ]
     },
     "metadata": {
      "needs_background": "light"
     },
     "output_type": "display_data"
    }
   ],
   "source": [
    "df['Gender']=df['Gender'].str.replace('f','Female')\n",
    "df['Gender']=df['Gender'].str.replace('m','Male')\n",
    "\n",
    "df['Gender'].value_counts().plot(kind='bar')"
   ]
  },
  {
   "cell_type": "code",
   "execution_count": 590,
   "id": "e7cff4c6",
   "metadata": {},
   "outputs": [],
   "source": [
    "Age = df['DOB'].dt.year\n",
    "Age = abs(Age - 2015)"
   ]
  },
  {
   "cell_type": "code",
   "execution_count": 591,
   "id": "6537436c",
   "metadata": {},
   "outputs": [],
   "source": [
    "df['Age'] = Age\n",
    "df['Age'] = df['Age'].astype('int32')"
   ]
  },
  {
   "cell_type": "code",
   "execution_count": 592,
   "id": "fb26e1a1",
   "metadata": {},
   "outputs": [
    {
     "data": {
      "text/plain": [
       "<AxesSubplot:>"
      ]
     },
     "execution_count": 592,
     "metadata": {},
     "output_type": "execute_result"
    },
    {
     "data": {
      "image/png": "[encoded data removed]",
      "text/plain": [
       "<Figure size 432x288 with 1 Axes>"
      ]
     },
     "metadata": {
      "needs_background": "light"
     },
     "output_type": "display_data"
    }
   ],
   "source": [
    "df['Age'].value_counts().plot(kind='bar')"
   ]
  },
  {
   "cell_type": "code",
   "execution_count": 593,
   "id": "057eef07",
   "metadata": {},
   "outputs": [
    {
     "data": {
      "text/plain": [
       "<AxesSubplot:>"
      ]
     },
     "execution_count": 593,
     "metadata": {},
     "output_type": "execute_result"
    },
    {
     "data": {
      "image/png": "[encoded data removed]",
      "text/plain": [
       "<Figure size 576x432 with 1 Axes>"
      ]
     },
     "metadata": {
      "needs_background": "light"
     },
     "output_type": "display_data"
    }
   ],
   "source": [
    "df['Age'].plot(kind='box', figsize=(8,6))\n"
   ]
  },
  {
   "cell_type": "code",
   "execution_count": 594,
   "id": "c80b1e4e",
   "metadata": {},
   "outputs": [
    {
     "name": "stdout",
     "output_type": "stream",
     "text": [
      "<class 'pandas.core.frame.DataFrame'>\n",
      "Int64Index: 3537 entries, 0 to 3997\n",
      "Data columns (total 34 columns):\n",
      " #   Column                 Non-Null Count  Dtype         \n",
      "---  ------                 --------------  -----         \n",
      " 0   Salary                 3537 non-null   int64         \n",
      " 1   Year_of_join           3537 non-null   int64         \n",
      " 2   Year_of_leave          3537 non-null   int32         \n",
      " 3   Designation            3537 non-null   object        \n",
      " 4   City                   3537 non-null   object        \n",
      " 5   Gender                 3537 non-null   object        \n",
      " 6   DOB                    3537 non-null   datetime64[ns]\n",
      " 7   Tenth_grade            3537 non-null   float64       \n",
      " 8   10board                3537 non-null   object        \n",
      " 9   12graduation           3537 non-null   int64         \n",
      " 10  Tweveth_grade          3537 non-null   float64       \n",
      " 11  12board                3537 non-null   object        \n",
      " 12  Degree                 3537 non-null   object        \n",
      " 13  Specialization         3537 non-null   object        \n",
      " 14  collegeGPA             3537 non-null   float64       \n",
      " 15  CollegeState           3537 non-null   object        \n",
      " 16  GraduationYear         3537 non-null   int64         \n",
      " 17  English                3537 non-null   int64         \n",
      " 18  Logical                3537 non-null   int64         \n",
      " 19  Quant                  3537 non-null   int64         \n",
      " 20  Domain                 3537 non-null   float64       \n",
      " 21  ComputerProgramming    3537 non-null   int64         \n",
      " 22  ElectronicsAndSemicon  3537 non-null   int64         \n",
      " 23  ComputerScience        3537 non-null   int64         \n",
      " 24  MechanicalEngg         3537 non-null   int64         \n",
      " 25  ElectricalEngg         3537 non-null   int64         \n",
      " 26  TelecomEngg            3537 non-null   int64         \n",
      " 27  CivilEngg              3537 non-null   int64         \n",
      " 28  conscientiousness      3537 non-null   float64       \n",
      " 29  agreeableness          3537 non-null   float64       \n",
      " 30  extraversion           3537 non-null   float64       \n",
      " 31  nueroticism            3537 non-null   float64       \n",
      " 32  openess_to_experience  3537 non-null   float64       \n",
      " 33  Age                    3537 non-null   int32         \n",
      "dtypes: datetime64[ns](1), float64(9), int32(2), int64(14), object(8)\n",
      "memory usage: 939.5+ KB\n"
     ]
    }
   ],
   "source": [
    "df.info()"
   ]
  },
  {
   "cell_type": "code",
   "execution_count": 595,
   "id": "b305a155",
   "metadata": {},
   "outputs": [
    {
     "data": {
      "text/plain": [
       "cbse                                                   1213\n",
       "state board                                            1020\n",
       "0                                                       338\n",
       "icse                                                    243\n",
       "ssc                                                     114\n",
       "                                                       ... \n",
       "rajasthan board ajmer                                     1\n",
       "maharashtra sate board                                    1\n",
       "karantaka secondary education and examination borad       1\n",
       "state borad hp                                            1\n",
       "board of secondaray education                             1\n",
       "Name: 10board, Length: 253, dtype: int64"
      ]
     },
     "execution_count": 595,
     "metadata": {},
     "output_type": "execute_result"
    }
   ],
   "source": [
    "df['10board'].value_counts()"
   ]
  },
  {
   "cell_type": "code",
   "execution_count": 596,
   "id": "cf75558e",
   "metadata": {},
   "outputs": [],
   "source": [
    "brd=[]\n",
    "for i in df['10board']:\n",
    "    if 'cbse'in str(i).lower() :\n",
    "        brd.append('CBSE')\n",
    "    elif 'icse' in str(i).lower() :\n",
    "        brd.append('ICSE')\n",
    "    elif 'state' in str(i).lower() :\n",
    "        brd.append('STATE')\n",
    "    else:\n",
    "        brd.append('others')\n",
    "df['10board']=brd"
   ]
  },
  {
   "cell_type": "code",
   "execution_count": 597,
   "id": "2263e51c",
   "metadata": {},
   "outputs": [
    {
     "data": {
      "text/plain": [
       "CBSE      1217\n",
       "STATE     1090\n",
       "others     984\n",
       "ICSE       246\n",
       "Name: 10board, dtype: int64"
      ]
     },
     "execution_count": 597,
     "metadata": {},
     "output_type": "execute_result"
    }
   ],
   "source": [
    "df['10board'].value_counts()"
   ]
  },
  {
   "cell_type": "code",
   "execution_count": 598,
   "id": "b141ca02",
   "metadata": {},
   "outputs": [
    {
     "data": {
      "text/plain": [
       "<AxesSubplot:>"
      ]
     },
     "execution_count": 598,
     "metadata": {},
     "output_type": "execute_result"
    },
    {
     "data": {
      "image/png": "[encoded data removed]",
      "text/plain": [
       "<Figure size 432x288 with 1 Axes>"
      ]
     },
     "metadata": {
      "needs_background": "light"
     },
     "output_type": "display_data"
    }
   ],
   "source": [
    "df['10board'].value_counts().plot(kind='bar')"
   ]
  },
  {
   "cell_type": "code",
   "execution_count": 599,
   "id": "bbbca059",
   "metadata": {},
   "outputs": [
    {
     "data": {
      "text/plain": [
       "<AxesSubplot:>"
      ]
     },
     "execution_count": 599,
     "metadata": {},
     "output_type": "execute_result"
    },
    {
     "data": {
      "image/png": "[encoded data removed]",
      "text/plain": [
       "<Figure size 432x288 with 1 Axes>"
      ]
     },
     "metadata": {
      "needs_background": "light"
     },
     "output_type": "display_data"
    }
   ],
   "source": [
    "df['12graduation'].value_counts().plot(kind='bar')"
   ]
  },
  {
   "cell_type": "code",
   "execution_count": 600,
   "id": "48b315f1",
   "metadata": {},
   "outputs": [
    {
     "name": "stdout",
     "output_type": "stream",
     "text": [
      "<class 'pandas.core.frame.DataFrame'>\n",
      "Int64Index: 3537 entries, 0 to 3997\n",
      "Data columns (total 34 columns):\n",
      " #   Column                 Non-Null Count  Dtype         \n",
      "---  ------                 --------------  -----         \n",
      " 0   Salary                 3537 non-null   int64         \n",
      " 1   Year_of_join           3537 non-null   int64         \n",
      " 2   Year_of_leave          3537 non-null   int32         \n",
      " 3   Designation            3537 non-null   object        \n",
      " 4   City                   3537 non-null   object        \n",
      " 5   Gender                 3537 non-null   object        \n",
      " 6   DOB                    3537 non-null   datetime64[ns]\n",
      " 7   Tenth_grade            3537 non-null   float64       \n",
      " 8   10board                3537 non-null   object        \n",
      " 9   12graduation           3537 non-null   int64         \n",
      " 10  Tweveth_grade          3537 non-null   float64       \n",
      " 11  12board                3537 non-null   object        \n",
      " 12  Degree                 3537 non-null   object        \n",
      " 13  Specialization         3537 non-null   object        \n",
      " 14  collegeGPA             3537 non-null   float64       \n",
      " 15  CollegeState           3537 non-null   object        \n",
      " 16  GraduationYear         3537 non-null   int64         \n",
      " 17  English                3537 non-null   int64         \n",
      " 18  Logical                3537 non-null   int64         \n",
      " 19  Quant                  3537 non-null   int64         \n",
      " 20  Domain                 3537 non-null   float64       \n",
      " 21  ComputerProgramming    3537 non-null   int64         \n",
      " 22  ElectronicsAndSemicon  3537 non-null   int64         \n",
      " 23  ComputerScience        3537 non-null   int64         \n",
      " 24  MechanicalEngg         3537 non-null   int64         \n",
      " 25  ElectricalEngg         3537 non-null   int64         \n",
      " 26  TelecomEngg            3537 non-null   int64         \n",
      " 27  CivilEngg              3537 non-null   int64         \n",
      " 28  conscientiousness      3537 non-null   float64       \n",
      " 29  agreeableness          3537 non-null   float64       \n",
      " 30  extraversion           3537 non-null   float64       \n",
      " 31  nueroticism            3537 non-null   float64       \n",
      " 32  openess_to_experience  3537 non-null   float64       \n",
      " 33  Age                    3537 non-null   int32         \n",
      "dtypes: datetime64[ns](1), float64(9), int32(2), int64(14), object(8)\n",
      "memory usage: 939.5+ KB\n"
     ]
    }
   ],
   "source": [
    "df.info()"
   ]
  },
  {
   "cell_type": "code",
   "execution_count": 601,
   "id": "7aef72e0",
   "metadata": {},
   "outputs": [
    {
     "data": {
      "text/plain": [
       "<AxesSubplot:ylabel='Density'>"
      ]
     },
     "execution_count": 601,
     "metadata": {},
     "output_type": "execute_result"
    },
    {
     "data": {
      "image/png": "[encoded data removed]",
      "text/plain": [
       "<Figure size 432x288 with 1 Axes>"
      ]
     },
     "metadata": {
      "needs_background": "light"
     },
     "output_type": "display_data"
    }
   ],
   "source": [
    "df['Tweveth_grade'].plot(kind='kde')"
   ]
  },
  {
   "cell_type": "code",
   "execution_count": 602,
   "id": "33d2a34a",
   "metadata": {},
   "outputs": [
    {
     "data": {
      "text/plain": [
       "cbse                                     1214\n",
       "state board                              1100\n",
       "0                                         346\n",
       "icse                                      116\n",
       "up board                                   70\n",
       "                                         ... \n",
       "board fo intermediate education, ap         1\n",
       "borad of intermediate                       1\n",
       "mp board bhopal                             1\n",
       "rajasthan board ajmer                       1\n",
       "karnataka state pre- university board       1\n",
       "Name: 12board, Length: 314, dtype: int64"
      ]
     },
     "execution_count": 602,
     "metadata": {},
     "output_type": "execute_result"
    }
   ],
   "source": [
    "df['12board'].value_counts()"
   ]
  },
  {
   "cell_type": "code",
   "execution_count": 606,
   "id": "34a214c1",
   "metadata": {},
   "outputs": [],
   "source": [
    "list1 = []\n",
    "for i in df['12board']:\n",
    "    if isinstance(i, str):\n",
    "        if 'isc' in i.lower():\n",
    "            list1.append('ISC')\n",
    "        elif 'cbse' in i.lower():\n",
    "            list1.append('CBSE')\n",
    "        elif 'nios' in i.lower():\n",
    "            list1.append('National Board')\n",
    "        elif 'diploma' in i.lower():\n",
    "            list1.append('Diploma')\n",
    "        elif 'technical' in i.lower():\n",
    "            list1.append('Technical')\n",
    "        elif 'university' in i.lower():\n",
    "            list1.append('University')\n",
    "        else:\n",
    "            list1.append('State Board')\n",
    "    else:\n",
    "        list1.append('State Board')"
   ]
  },
  {
   "cell_type": "code",
   "execution_count": 607,
   "id": "1333e733",
   "metadata": {},
   "outputs": [],
   "source": [
    "df['12board']=list1"
   ]
  },
  {
   "cell_type": "code",
   "execution_count": 608,
   "id": "3ad93044",
   "metadata": {},
   "outputs": [
    {
     "data": {
      "text/plain": [
       "State Board       2230\n",
       "CBSE              1216\n",
       "ISC                 36\n",
       "University          29\n",
       "Technical           14\n",
       "Diploma              7\n",
       "National Board       5\n",
       "Name: 12board, dtype: int64"
      ]
     },
     "execution_count": 608,
     "metadata": {},
     "output_type": "execute_result"
    }
   ],
   "source": [
    "df['12board'].value_counts()"
   ]
  },
  {
   "cell_type": "code",
   "execution_count": 609,
   "id": "86ef47e2",
   "metadata": {},
   "outputs": [
    {
     "data": {
      "text/plain": [
       "<AxesSubplot:>"
      ]
     },
     "execution_count": 609,
     "metadata": {},
     "output_type": "execute_result"
    },
    {
     "data": {
      "image/png": "[encoded data removed]",
      "text/plain": [
       "<Figure size 432x288 with 1 Axes>"
      ]
     },
     "metadata": {
      "needs_background": "light"
     },
     "output_type": "display_data"
    }
   ],
   "source": [
    "df['12board'].value_counts().plot(kind='bar')"
   ]
  },
  {
   "cell_type": "code",
   "execution_count": 610,
   "id": "173eb780",
   "metadata": {},
   "outputs": [
    {
     "data": {
      "text/plain": [
       "B.Tech/B.E.      3271\n",
       "MCA               218\n",
       "M.Tech./M.E.       46\n",
       "M.Sc. (Tech.)       2\n",
       "Name: Degree, dtype: int64"
      ]
     },
     "execution_count": 610,
     "metadata": {},
     "output_type": "execute_result"
    }
   ],
   "source": [
    "df['Degree'].value_counts()"
   ]
  },
  {
   "cell_type": "code",
   "execution_count": 611,
   "id": "bee4bc8f",
   "metadata": {},
   "outputs": [
    {
     "data": {
      "text/plain": [
       "<AxesSubplot:>"
      ]
     },
     "execution_count": 611,
     "metadata": {},
     "output_type": "execute_result"
    },
    {
     "data": {
      "image/png": "[encoded data removed]",
      "text/plain": [
       "<Figure size 432x288 with 1 Axes>"
      ]
     },
     "metadata": {
      "needs_background": "light"
     },
     "output_type": "display_data"
    }
   ],
   "source": [
    "df['Degree'].value_counts().plot(kind='bar')"
   ]
  },
  {
   "cell_type": "code",
   "execution_count": 613,
   "id": "c99d569a",
   "metadata": {},
   "outputs": [
    {
     "name": "stdout",
     "output_type": "stream",
     "text": [
      "<class 'pandas.core.frame.DataFrame'>\n",
      "Int64Index: 3537 entries, 0 to 3997\n",
      "Data columns (total 34 columns):\n",
      " #   Column                 Non-Null Count  Dtype         \n",
      "---  ------                 --------------  -----         \n",
      " 0   Salary                 3537 non-null   int64         \n",
      " 1   Year_of_join           3537 non-null   int64         \n",
      " 2   Year_of_leave          3537 non-null   int32         \n",
      " 3   Designation            3537 non-null   object        \n",
      " 4   City                   3537 non-null   object        \n",
      " 5   Gender                 3537 non-null   object        \n",
      " 6   DOB                    3537 non-null   datetime64[ns]\n",
      " 7   Tenth_grade            3537 non-null   float64       \n",
      " 8   10board                3537 non-null   object        \n",
      " 9   12graduation           3537 non-null   int64         \n",
      " 10  Tweveth_grade          3537 non-null   float64       \n",
      " 11  12board                3537 non-null   object        \n",
      " 12  Degree                 3537 non-null   object        \n",
      " 13  Specialization         3537 non-null   object        \n",
      " 14  collegeGPA             3537 non-null   float64       \n",
      " 15  CollegeState           3537 non-null   object        \n",
      " 16  GraduationYear         3537 non-null   int64         \n",
      " 17  English                3537 non-null   int64         \n",
      " 18  Logical                3537 non-null   int64         \n",
      " 19  Quant                  3537 non-null   int64         \n",
      " 20  Domain                 3537 non-null   float64       \n",
      " 21  ComputerProgramming    3537 non-null   int64         \n",
      " 22  ElectronicsAndSemicon  3537 non-null   int64         \n",
      " 23  ComputerScience        3537 non-null   int64         \n",
      " 24  MechanicalEngg         3537 non-null   int64         \n",
      " 25  ElectricalEngg         3537 non-null   int64         \n",
      " 26  TelecomEngg            3537 non-null   int64         \n",
      " 27  CivilEngg              3537 non-null   int64         \n",
      " 28  conscientiousness      3537 non-null   float64       \n",
      " 29  agreeableness          3537 non-null   float64       \n",
      " 30  extraversion           3537 non-null   float64       \n",
      " 31  nueroticism            3537 non-null   float64       \n",
      " 32  openess_to_experience  3537 non-null   float64       \n",
      " 33  Age                    3537 non-null   int32         \n",
      "dtypes: datetime64[ns](1), float64(9), int32(2), int64(14), object(8)\n",
      "memory usage: 939.5+ KB\n"
     ]
    }
   ],
   "source": [
    "df.info()"
   ]
  },
  {
   "cell_type": "code",
   "execution_count": 614,
   "id": "43208b07",
   "metadata": {},
   "outputs": [],
   "source": [
    "l=[]\n",
    "for i in df['Specialization']:\n",
    "    if 'information'in str(i).lower():\n",
    "        l.append('IT')\n",
    "    elif 'computer' in str(i).lower():\n",
    "        l.append('CSE')\n",
    "    elif 'communication' in str(i).lower() or 'electronics' in str(i).lower():\n",
    "        l.append('ECE')\n",
    "    elif 'electrical' in str(i).lower():\n",
    "        l.append('EEE') \n",
    "    elif 'mechanical' in str(i).lower():\n",
    "        l.append('MECH')\n",
    "    elif 'instrumentation ' in str(i).lower():\n",
    "        l.append('Instrumentation Engineering')\n",
    "    else:\n",
    "        l.append('Others')"
   ]
  },
  {
   "cell_type": "code",
   "execution_count": 615,
   "id": "91648e36",
   "metadata": {},
   "outputs": [],
   "source": [
    " df['Specialization']=l\n",
    "    "
   ]
  },
  {
   "cell_type": "code",
   "execution_count": 617,
   "id": "262651e3",
   "metadata": {},
   "outputs": [
    {
     "data": {
      "text/plain": [
       "CSE                            1399\n",
       "ECE                            1154\n",
       "IT                              609\n",
       "MECH                            190\n",
       "Others                           88\n",
       "EEE                              73\n",
       "Instrumentation Engineering      24\n",
       "Name: Specialization, dtype: int64"
      ]
     },
     "execution_count": 617,
     "metadata": {},
     "output_type": "execute_result"
    }
   ],
   "source": [
    " df['Specialization'].value_counts()"
   ]
  },
  {
   "cell_type": "code",
   "execution_count": 618,
   "id": "f7fbf62a",
   "metadata": {},
   "outputs": [
    {
     "data": {
      "text/plain": [
       "<AxesSubplot:>"
      ]
     },
     "execution_count": 618,
     "metadata": {},
     "output_type": "execute_result"
    },
    {
     "data": {
      "image/png": "[encoded data removed]",
      "text/plain": [
       "<Figure size 432x288 with 1 Axes>"
      ]
     },
     "metadata": {
      "needs_background": "light"
     },
     "output_type": "display_data"
    }
   ],
   "source": [
    " df['Specialization'].value_counts().plot(kind='bar')"
   ]
  },
  {
   "cell_type": "code",
   "execution_count": 619,
   "id": "bbc6285a",
   "metadata": {},
   "outputs": [
    {
     "name": "stdout",
     "output_type": "stream",
     "text": [
      "<class 'pandas.core.frame.DataFrame'>\n",
      "Int64Index: 3537 entries, 0 to 3997\n",
      "Data columns (total 34 columns):\n",
      " #   Column                 Non-Null Count  Dtype         \n",
      "---  ------                 --------------  -----         \n",
      " 0   Salary                 3537 non-null   int64         \n",
      " 1   Year_of_join           3537 non-null   int64         \n",
      " 2   Year_of_leave          3537 non-null   int32         \n",
      " 3   Designation            3537 non-null   object        \n",
      " 4   City                   3537 non-null   object        \n",
      " 5   Gender                 3537 non-null   object        \n",
      " 6   DOB                    3537 non-null   datetime64[ns]\n",
      " 7   Tenth_grade            3537 non-null   float64       \n",
      " 8   10board                3537 non-null   object        \n",
      " 9   12graduation           3537 non-null   int64         \n",
      " 10  Tweveth_grade          3537 non-null   float64       \n",
      " 11  12board                3537 non-null   object        \n",
      " 12  Degree                 3537 non-null   object        \n",
      " 13  Specialization         3537 non-null   object        \n",
      " 14  collegeGPA             3537 non-null   float64       \n",
      " 15  CollegeState           3537 non-null   object        \n",
      " 16  GraduationYear         3537 non-null   int64         \n",
      " 17  English                3537 non-null   int64         \n",
      " 18  Logical                3537 non-null   int64         \n",
      " 19  Quant                  3537 non-null   int64         \n",
      " 20  Domain                 3537 non-null   float64       \n",
      " 21  ComputerProgramming    3537 non-null   int64         \n",
      " 22  ElectronicsAndSemicon  3537 non-null   int64         \n",
      " 23  ComputerScience        3537 non-null   int64         \n",
      " 24  MechanicalEngg         3537 non-null   int64         \n",
      " 25  ElectricalEngg         3537 non-null   int64         \n",
      " 26  TelecomEngg            3537 non-null   int64         \n",
      " 27  CivilEngg              3537 non-null   int64         \n",
      " 28  conscientiousness      3537 non-null   float64       \n",
      " 29  agreeableness          3537 non-null   float64       \n",
      " 30  extraversion           3537 non-null   float64       \n",
      " 31  nueroticism            3537 non-null   float64       \n",
      " 32  openess_to_experience  3537 non-null   float64       \n",
      " 33  Age                    3537 non-null   int32         \n",
      "dtypes: datetime64[ns](1), float64(9), int32(2), int64(14), object(8)\n",
      "memory usage: 939.5+ KB\n"
     ]
    }
   ],
   "source": [
    "df.info()"
   ]
  },
  {
   "cell_type": "code",
   "execution_count": 620,
   "id": "0e7be12d",
   "metadata": {},
   "outputs": [
    {
     "data": {
      "text/plain": [
       "<AxesSubplot:ylabel='Density'>"
      ]
     },
     "execution_count": 620,
     "metadata": {},
     "output_type": "execute_result"
    },
    {
     "data": {
      "image/png": "[encoded data removed]",
      "text/plain": [
       "<Figure size 432x288 with 1 Axes>"
      ]
     },
     "metadata": {
      "needs_background": "light"
     },
     "output_type": "display_data"
    }
   ],
   "source": [
    "df['collegeGPA'].plot(kind='kde')"
   ]
  },
  {
   "cell_type": "code",
   "execution_count": 621,
   "id": "d483f1bd",
   "metadata": {},
   "outputs": [
    {
     "data": {
      "text/plain": [
       "Uttar Pradesh        801\n",
       "Tamil Nadu           336\n",
       "Karnataka            336\n",
       "Telangana            279\n",
       "Maharashtra          235\n",
       "Andhra Pradesh       209\n",
       "West Bengal          172\n",
       "Madhya Pradesh       171\n",
       "Punjab               162\n",
       "Orissa               157\n",
       "Haryana              155\n",
       "Rajasthan            150\n",
       "Delhi                139\n",
       "Uttarakhand          100\n",
       "Kerala                29\n",
       "Chhattisgarh          22\n",
       "Gujarat               21\n",
       "Jharkhand             21\n",
       "Himachal Pradesh      14\n",
       "Bihar                  9\n",
       "Jammu and Kashmir      5\n",
       "Assam                  4\n",
       "Union Territory        4\n",
       "Sikkim                 3\n",
       "Meghalaya              2\n",
       "Goa                    1\n",
       "Name: CollegeState, dtype: int64"
      ]
     },
     "execution_count": 621,
     "metadata": {},
     "output_type": "execute_result"
    }
   ],
   "source": [
    "df['CollegeState'].value_counts()\n"
   ]
  },
  {
   "cell_type": "code",
   "execution_count": 623,
   "id": "2e80d614",
   "metadata": {},
   "outputs": [
    {
     "data": {
      "text/plain": [
       "<AxesSubplot:>"
      ]
     },
     "execution_count": 623,
     "metadata": {},
     "output_type": "execute_result"
    },
    {
     "data": {
      "image/png": "[encoded data removed]",
      "text/plain": [
       "<Figure size 720x576 with 1 Axes>"
      ]
     },
     "metadata": {
      "needs_background": "light"
     },
     "output_type": "display_data"
    }
   ],
   "source": [
    "df['CollegeState'].value_counts().plot(kind='bar',figsize=(10,8))"
   ]
  },
  {
   "cell_type": "code",
   "execution_count": 624,
   "id": "49cec539",
   "metadata": {},
   "outputs": [
    {
     "name": "stdout",
     "output_type": "stream",
     "text": [
      "<class 'pandas.core.frame.DataFrame'>\n",
      "Int64Index: 3537 entries, 0 to 3997\n",
      "Data columns (total 34 columns):\n",
      " #   Column                 Non-Null Count  Dtype         \n",
      "---  ------                 --------------  -----         \n",
      " 0   Salary                 3537 non-null   int64         \n",
      " 1   Year_of_join           3537 non-null   int64         \n",
      " 2   Year_of_leave          3537 non-null   int32         \n",
      " 3   Designation            3537 non-null   object        \n",
      " 4   City                   3537 non-null   object        \n",
      " 5   Gender                 3537 non-null   object        \n",
      " 6   DOB                    3537 non-null   datetime64[ns]\n",
      " 7   Tenth_grade            3537 non-null   float64       \n",
      " 8   10board                3537 non-null   object        \n",
      " 9   12graduation           3537 non-null   int64         \n",
      " 10  Tweveth_grade          3537 non-null   float64       \n",
      " 11  12board                3537 non-null   object        \n",
      " 12  Degree                 3537 non-null   object        \n",
      " 13  Specialization         3537 non-null   object        \n",
      " 14  collegeGPA             3537 non-null   float64       \n",
      " 15  CollegeState           3537 non-null   object        \n",
      " 16  GraduationYear         3537 non-null   int64         \n",
      " 17  English                3537 non-null   int64         \n",
      " 18  Logical                3537 non-null   int64         \n",
      " 19  Quant                  3537 non-null   int64         \n",
      " 20  Domain                 3537 non-null   float64       \n",
      " 21  ComputerProgramming    3537 non-null   int64         \n",
      " 22  ElectronicsAndSemicon  3537 non-null   int64         \n",
      " 23  ComputerScience        3537 non-null   int64         \n",
      " 24  MechanicalEngg         3537 non-null   int64         \n",
      " 25  ElectricalEngg         3537 non-null   int64         \n",
      " 26  TelecomEngg            3537 non-null   int64         \n",
      " 27  CivilEngg              3537 non-null   int64         \n",
      " 28  conscientiousness      3537 non-null   float64       \n",
      " 29  agreeableness          3537 non-null   float64       \n",
      " 30  extraversion           3537 non-null   float64       \n",
      " 31  nueroticism            3537 non-null   float64       \n",
      " 32  openess_to_experience  3537 non-null   float64       \n",
      " 33  Age                    3537 non-null   int32         \n",
      "dtypes: datetime64[ns](1), float64(9), int32(2), int64(14), object(8)\n",
      "memory usage: 939.5+ KB\n"
     ]
    }
   ],
   "source": [
    "df.info()"
   ]
  },
  {
   "cell_type": "code",
   "execution_count": 625,
   "id": "7c63bb87",
   "metadata": {},
   "outputs": [
    {
     "data": {
      "text/plain": [
       "2013    1011\n",
       "2014     928\n",
       "2012     732\n",
       "2011     463\n",
       "2010     276\n",
       "2015      88\n",
       "2009      23\n",
       "2016       7\n",
       "2017       7\n",
       "0          1\n",
       "2007       1\n",
       "Name: GraduationYear, dtype: int64"
      ]
     },
     "execution_count": 625,
     "metadata": {},
     "output_type": "execute_result"
    }
   ],
   "source": [
    "df['GraduationYear'].value_counts()"
   ]
  },
  {
   "cell_type": "code",
   "execution_count": 626,
   "id": "d8e32345",
   "metadata": {},
   "outputs": [
    {
     "data": {
      "text/plain": [
       "<AxesSubplot:>"
      ]
     },
     "execution_count": 626,
     "metadata": {},
     "output_type": "execute_result"
    },
    {
     "data": {
      "image/png": "[encoded data removed]",
      "text/plain": [
       "<Figure size 432x288 with 1 Axes>"
      ]
     },
     "metadata": {
      "needs_background": "light"
     },
     "output_type": "display_data"
    }
   ],
   "source": [
    "df['GraduationYear'].value_counts().plot(kind='bar')"
   ]
  },
  {
   "cell_type": "code",
   "execution_count": null,
   "id": "52c512c1",
   "metadata": {},
   "outputs": [],
   "source": []
  },
  {
   "cell_type": "code",
   "execution_count": 627,
   "id": "b382164c",
   "metadata": {},
   "outputs": [
    {
     "data": {
      "text/plain": [
       "475    134\n",
       "545    131\n",
       "465    128\n",
       "535    122\n",
       "405     99\n",
       "      ... \n",
       "324      1\n",
       "280      1\n",
       "775      1\n",
       "795      1\n",
       "180      1\n",
       "Name: English, Length: 106, dtype: int64"
      ]
     },
     "execution_count": 627,
     "metadata": {},
     "output_type": "execute_result"
    }
   ],
   "source": [
    "df['English'].value_counts()"
   ]
  },
  {
   "cell_type": "code",
   "execution_count": 628,
   "id": "0693e806",
   "metadata": {},
   "outputs": [
    {
     "data": {
      "text/plain": [
       "<AxesSubplot:ylabel='Density'>"
      ]
     },
     "execution_count": 628,
     "metadata": {},
     "output_type": "execute_result"
    },
    {
     "data": {
      "image/png": "[encoded data removed]",
      "text/plain": [
       "<Figure size 432x288 with 1 Axes>"
      ]
     },
     "metadata": {
      "needs_background": "light"
     },
     "output_type": "display_data"
    }
   ],
   "source": [
    "df['English'].plot(kind='kde')"
   ]
  },
  {
   "cell_type": "code",
   "execution_count": 629,
   "id": "f679db3c",
   "metadata": {},
   "outputs": [
    {
     "data": {
      "text/plain": [
       "<AxesSubplot:>"
      ]
     },
     "execution_count": 629,
     "metadata": {},
     "output_type": "execute_result"
    },
    {
     "data": {
      "image/png": "[encoded data removed]",
      "text/plain": [
       "<Figure size 432x288 with 1 Axes>"
      ]
     },
     "metadata": {
      "needs_background": "light"
     },
     "output_type": "display_data"
    }
   ],
   "source": [
    "df['English'].plot(kind='box')"
   ]
  },
  {
   "cell_type": "code",
   "execution_count": 630,
   "id": "78a196b9",
   "metadata": {},
   "outputs": [
    {
     "name": "stdout",
     "output_type": "stream",
     "text": [
      "Minimum English Score   :  180\n",
      "Maximum English Score   :  830\n",
      "Mean English Score      :  500\n",
      "Median English Score    :  500\n",
      "Standard English Values :  105\n"
     ]
    }
   ],
   "source": [
    "print(\"Minimum English Score   : \", df['English'].min())\n",
    "print(\"Maximum English Score   : \", df['English'].max())\n",
    "print(\"Mean English Score      : \", round(df['English'].mean()))\n",
    "print(\"Median English Score    : \", round(df['English'].median()))\n",
    "print(\"Standard English Values : \", round(df['English'].std()))"
   ]
  },
  {
   "cell_type": "raw",
   "id": "9405e252",
   "metadata": {},
   "source": [
    " (Scores in AMCAT English section) English  Observations\n",
    "\n",
    "Candidates Higest Scores in AMCAT English section is : 875\n",
    "Candidates Lowest Scores in AMCAT English section is : 180\n",
    "Candidates Average Scores in AMCAT English section is : 500\n",
    "English Column have normal distribution"
   ]
  },
  {
   "cell_type": "code",
   "execution_count": 631,
   "id": "ea812fbd",
   "metadata": {},
   "outputs": [
    {
     "data": {
      "text/plain": [
       "495    145\n",
       "555    131\n",
       "485    129\n",
       "545    125\n",
       "505    108\n",
       "      ... \n",
       "534      1\n",
       "490      1\n",
       "454      1\n",
       "310      1\n",
       "795      1\n",
       "Name: Logical, Length: 102, dtype: int64"
      ]
     },
     "execution_count": 631,
     "metadata": {},
     "output_type": "execute_result"
    }
   ],
   "source": [
    "df['Logical'].value_counts()"
   ]
  },
  {
   "cell_type": "code",
   "execution_count": 633,
   "id": "3cbcab6e",
   "metadata": {},
   "outputs": [
    {
     "data": {
      "text/plain": [
       "<AxesSubplot:ylabel='Density'>"
      ]
     },
     "execution_count": 633,
     "metadata": {},
     "output_type": "execute_result"
    },
    {
     "data": {
      "image/png": "[encoded data removed]",
      "text/plain": [
       "<Figure size 432x288 with 1 Axes>"
      ]
     },
     "metadata": {
      "needs_background": "light"
     },
     "output_type": "display_data"
    }
   ],
   "source": [
    "df['Logical'].value_counts().plot(kind='kde')"
   ]
  },
  {
   "cell_type": "code",
   "execution_count": 634,
   "id": "a6fb5038",
   "metadata": {},
   "outputs": [
    {
     "name": "stdout",
     "output_type": "stream",
     "text": [
      "Minimum Logical Score   :  195\n",
      "Maximum Logical Score   :  795\n",
      "Mean Logical Score      :  499\n",
      "Median Logical Score    :  505\n",
      "Standard Logical Values :  88\n"
     ]
    }
   ],
   "source": [
    "print(\"Minimum Logical Score   : \", df['Logical'].min())\n",
    "print(\"Maximum Logical Score   : \", df['Logical'].max())\n",
    "print(\"Mean Logical Score      : \", round(df['Logical'].mean()))\n",
    "print(\"Median Logical Score    : \", round(df['Logical'].median()))\n",
    "print(\"Standard Logical Values : \", round(df['Logical'].std()))"
   ]
  },
  {
   "cell_type": "raw",
   "id": "b4fbe701",
   "metadata": {},
   "source": [
    "(Scores in AMCAT Logical section) Logical Column Observations\n",
    "\n",
    "Candidates Higest Scores in AMCAT Logical section is : 795\n",
    "Candidates Lowest Scores in AMCAT Logical section is : 195\n",
    "Candidates Average Scores in AMCAT Logical section is : 505\n",
    "Logical Column have normal distribution"
   ]
  },
  {
   "cell_type": "code",
   "execution_count": 635,
   "id": "d2ec60e4",
   "metadata": {},
   "outputs": [
    {
     "data": {
      "text/plain": [
       "485    124\n",
       "605    124\n",
       "545    105\n",
       "575    103\n",
       "475     91\n",
       "      ... \n",
       "504      1\n",
       "214      1\n",
       "190      1\n",
       "180      1\n",
       "885      1\n",
       "Name: Quant, Length: 133, dtype: int64"
      ]
     },
     "execution_count": 635,
     "metadata": {},
     "output_type": "execute_result"
    }
   ],
   "source": [
    "df['Quant'].value_counts()"
   ]
  },
  {
   "cell_type": "code",
   "execution_count": 636,
   "id": "61539476",
   "metadata": {},
   "outputs": [
    {
     "data": {
      "text/plain": [
       "<AxesSubplot:ylabel='Density'>"
      ]
     },
     "execution_count": 636,
     "metadata": {},
     "output_type": "execute_result"
    },
    {
     "data": {
      "image/png": "[encoded data removed]",
      "text/plain": [
       "<Figure size 432x288 with 1 Axes>"
      ]
     },
     "metadata": {
      "needs_background": "light"
     },
     "output_type": "display_data"
    }
   ],
   "source": [
    "df['Quant'].value_counts().plot(kind='kde')"
   ]
  },
  {
   "cell_type": "code",
   "execution_count": null,
   "id": "dd825d35",
   "metadata": {},
   "outputs": [],
   "source": [
    "print(\"Minimum Quant Score   : \", df['Quant'].min())\n",
    "print(\"Maximum Quant Score   : \", df['Quant'].max())\n",
    "print(\"Mean Quant Score      : \", round(df['Quant'].mean()))\n",
    "print(\"Median Quant Score    : \", round(df['Quant'].median()))\n",
    "print(\"Standard Quant Values : \", round(df['Quant'].std()))"
   ]
  },
  {
   "cell_type": "raw",
   "id": "3eec9e28",
   "metadata": {},
   "source": [
    "(Scores in AMCAT Quantitative section) Quant Column Observations\n",
    "\n",
    "Candidates Higest Scores in AMCAT Quantitative section is : 900\n",
    "Candidates Lowest Scores in AMCAT Quantitative section is : 120\n",
    "Candidates Average Scores in AMCAT Quantitative section is : 515\n",
    "Quant Column have normal distribution"
   ]
  },
  {
   "cell_type": "code",
   "execution_count": 637,
   "id": "aa58738d",
   "metadata": {},
   "outputs": [
    {
     "data": {
      "text/plain": [
       "<AxesSubplot:ylabel='Density'>"
      ]
     },
     "execution_count": 637,
     "metadata": {},
     "output_type": "execute_result"
    },
    {
     "data": {
      "image/png": "[encoded data removed]",
      "text/plain": [
       "<Figure size 432x288 with 1 Axes>"
      ]
     },
     "metadata": {
      "needs_background": "light"
     },
     "output_type": "display_data"
    }
   ],
   "source": [
    "df['Domain'].value_counts().plot(kind='kde')"
   ]
  },
  {
   "cell_type": "code",
   "execution_count": null,
   "id": "cd9471ef",
   "metadata": {},
   "outputs": [],
   "source": []
  },
  {
   "cell_type": "code",
   "execution_count": 638,
   "id": "95e65b42",
   "metadata": {},
   "outputs": [
    {
     "name": "stdout",
     "output_type": "stream",
     "text": [
      "Minimum Domain Score   :  -1.0\n",
      "Maximum Domain Score   :  0.999910407631314\n",
      "Mean Domain Score      :  1\n",
      "Median Domain Score    :  1\n",
      "Standard Domain Values :  0\n"
     ]
    }
   ],
   "source": [
    "print(\"Minimum Domain Score   : \", df['Domain'].min())\n",
    "print(\"Maximum Domain Score   : \", df['Domain'].max())\n",
    "print(\"Mean Domain Score      : \", round(df['Domain'].mean()))\n",
    "print(\"Median Domain Score    : \", round(df['Domain'].median()))\n",
    "print(\"Standard Domain Values : \", round(df['Domain'].std()))\n"
   ]
  },
  {
   "cell_type": "raw",
   "id": "e5937afc",
   "metadata": {},
   "source": [
    "(Scores in AMCAT’s Domain module) Domain Column Observations\n",
    "\n",
    "Candidates Higest Scores in AMCAT Domain section is : 0.99\n",
    "Candidates Lowest Scores in AMCAT Domain section is : -1.0\n",
    "Candidates Average Scores in AMCAT Domain section is : 1\n",
    "Domain Column have binormal distribution"
   ]
  },
  {
   "cell_type": "code",
   "execution_count": 639,
   "id": "d66faccc",
   "metadata": {},
   "outputs": [
    {
     "name": "stdout",
     "output_type": "stream",
     "text": [
      "<class 'pandas.core.frame.DataFrame'>\n",
      "Int64Index: 3537 entries, 0 to 3997\n",
      "Data columns (total 34 columns):\n",
      " #   Column                 Non-Null Count  Dtype         \n",
      "---  ------                 --------------  -----         \n",
      " 0   Salary                 3537 non-null   int64         \n",
      " 1   Year_of_join           3537 non-null   int64         \n",
      " 2   Year_of_leave          3537 non-null   int32         \n",
      " 3   Designation            3537 non-null   object        \n",
      " 4   City                   3537 non-null   object        \n",
      " 5   Gender                 3537 non-null   object        \n",
      " 6   DOB                    3537 non-null   datetime64[ns]\n",
      " 7   Tenth_grade            3537 non-null   float64       \n",
      " 8   10board                3537 non-null   object        \n",
      " 9   12graduation           3537 non-null   int64         \n",
      " 10  Tweveth_grade          3537 non-null   float64       \n",
      " 11  12board                3537 non-null   object        \n",
      " 12  Degree                 3537 non-null   object        \n",
      " 13  Specialization         3537 non-null   object        \n",
      " 14  collegeGPA             3537 non-null   float64       \n",
      " 15  CollegeState           3537 non-null   object        \n",
      " 16  GraduationYear         3537 non-null   int64         \n",
      " 17  English                3537 non-null   int64         \n",
      " 18  Logical                3537 non-null   int64         \n",
      " 19  Quant                  3537 non-null   int64         \n",
      " 20  Domain                 3537 non-null   float64       \n",
      " 21  ComputerProgramming    3537 non-null   int64         \n",
      " 22  ElectronicsAndSemicon  3537 non-null   int64         \n",
      " 23  ComputerScience        3537 non-null   int64         \n",
      " 24  MechanicalEngg         3537 non-null   int64         \n",
      " 25  ElectricalEngg         3537 non-null   int64         \n",
      " 26  TelecomEngg            3537 non-null   int64         \n",
      " 27  CivilEngg              3537 non-null   int64         \n",
      " 28  conscientiousness      3537 non-null   float64       \n",
      " 29  agreeableness          3537 non-null   float64       \n",
      " 30  extraversion           3537 non-null   float64       \n",
      " 31  nueroticism            3537 non-null   float64       \n",
      " 32  openess_to_experience  3537 non-null   float64       \n",
      " 33  Age                    3537 non-null   int32         \n",
      "dtypes: datetime64[ns](1), float64(9), int32(2), int64(14), object(8)\n",
      "memory usage: 939.5+ KB\n"
     ]
    }
   ],
   "source": [
    "df.info()"
   ]
  },
  {
   "cell_type": "code",
   "execution_count": 640,
   "id": "a7385f0b",
   "metadata": {},
   "outputs": [
    {
     "data": {
      "text/plain": [
       "-1      783\n",
       " 445    138\n",
       " 435    128\n",
       " 475    125\n",
       " 465    118\n",
       "       ... \n",
       " 394      1\n",
       " 494      1\n",
       " 554      1\n",
       " 105      1\n",
       " 804      1\n",
       "Name: ComputerProgramming, Length: 77, dtype: int64"
      ]
     },
     "execution_count": 640,
     "metadata": {},
     "output_type": "execute_result"
    }
   ],
   "source": [
    "df['ComputerProgramming'].value_counts()"
   ]
  },
  {
   "cell_type": "code",
   "execution_count": 641,
   "id": "403761e7",
   "metadata": {},
   "outputs": [
    {
     "data": {
      "text/plain": [
       "<AxesSubplot:ylabel='Density'>"
      ]
     },
     "execution_count": 641,
     "metadata": {},
     "output_type": "execute_result"
    },
    {
     "data": {
      "image/png": "[encoded data removed]",
      "text/plain": [
       "<Figure size 432x288 with 1 Axes>"
      ]
     },
     "metadata": {
      "needs_background": "light"
     },
     "output_type": "display_data"
    }
   ],
   "source": [
    "df['ComputerProgramming'].value_counts().plot(kind='kde')"
   ]
  },
  {
   "cell_type": "code",
   "execution_count": 642,
   "id": "a779c2cc",
   "metadata": {},
   "outputs": [
    {
     "name": "stdout",
     "output_type": "stream",
     "text": [
      "Minimum ComputerProgramming Score   :  -1\n",
      "Maximum ComputerProgramming Score   :  804\n",
      "Mean ComputerProgramming Score      :  350\n",
      "Median ComputerProgramming Score    :  415\n",
      "Standard ComputerProgramming Values :  206\n"
     ]
    }
   ],
   "source": [
    "print(\"Minimum ComputerProgramming Score   : \", df['ComputerProgramming'].min())\n",
    "print(\"Maximum ComputerProgramming Score   : \", df['ComputerProgramming'].max())\n",
    "print(\"Mean ComputerProgramming Score      : \", round(df['ComputerProgramming'].mean()))\n",
    "print(\"Median ComputerProgramming Score    : \", round(df['ComputerProgramming'].median()))\n",
    "print(\"Standard ComputerProgramming Values : \", round(df['ComputerProgramming'].std()))"
   ]
  },
  {
   "cell_type": "code",
   "execution_count": 644,
   "id": "c1651359",
   "metadata": {},
   "outputs": [
    {
     "data": {
      "text/plain": [
       "<AxesSubplot:ylabel='Density'>"
      ]
     },
     "execution_count": 644,
     "metadata": {},
     "output_type": "execute_result"
    },
    {
     "data": {
      "image/png": "[encoded data removed]",
      "text/plain": [
       "<Figure size 432x288 with 1 Axes>"
      ]
     },
     "metadata": {
      "needs_background": "light"
     },
     "output_type": "display_data"
    }
   ],
   "source": [
    "df['ElectronicsAndSemicon'].value_counts().plot(kind='kde')"
   ]
  },
  {
   "cell_type": "markdown",
   "id": "d07ed17d",
   "metadata": {},
   "source": [
    " Bivariate Analysis\n"
   ]
  },
  {
   "cell_type": "code",
   "execution_count": 655,
   "id": "e8b03691",
   "metadata": {},
   "outputs": [
    {
     "name": "stdout",
     "output_type": "stream",
     "text": [
      "<class 'pandas.core.frame.DataFrame'>\n",
      "Int64Index: 3537 entries, 0 to 3997\n",
      "Data columns (total 34 columns):\n",
      " #   Column                 Non-Null Count  Dtype         \n",
      "---  ------                 --------------  -----         \n",
      " 0   Salary                 3537 non-null   int64         \n",
      " 1   Year_of_join           3537 non-null   int64         \n",
      " 2   Year_of_leave          3537 non-null   int32         \n",
      " 3   Designation            3537 non-null   object        \n",
      " 4   City                   3537 non-null   object        \n",
      " 5   Gender                 3537 non-null   object        \n",
      " 6   DOB                    3537 non-null   datetime64[ns]\n",
      " 7   Tenth_grade            3537 non-null   float64       \n",
      " 8   10board                3537 non-null   object        \n",
      " 9   12graduation           3537 non-null   int64         \n",
      " 10  Tweveth_grade          3537 non-null   float64       \n",
      " 11  12board                3537 non-null   object        \n",
      " 12  Degree                 3537 non-null   object        \n",
      " 13  Specialization         3537 non-null   object        \n",
      " 14  collegeGPA             3537 non-null   float64       \n",
      " 15  CollegeState           3537 non-null   object        \n",
      " 16  GraduationYear         3537 non-null   int64         \n",
      " 17  English                3537 non-null   int64         \n",
      " 18  Logical                3537 non-null   int64         \n",
      " 19  Quant                  3537 non-null   int64         \n",
      " 20  Domain                 3537 non-null   float64       \n",
      " 21  ComputerProgramming    3537 non-null   int64         \n",
      " 22  ElectronicsAndSemicon  3537 non-null   int64         \n",
      " 23  ComputerScience        3537 non-null   int64         \n",
      " 24  MechanicalEngg         3537 non-null   int64         \n",
      " 25  ElectricalEngg         3537 non-null   int64         \n",
      " 26  TelecomEngg            3537 non-null   int64         \n",
      " 27  CivilEngg              3537 non-null   int64         \n",
      " 28  conscientiousness      3537 non-null   float64       \n",
      " 29  agreeableness          3537 non-null   float64       \n",
      " 30  extraversion           3537 non-null   float64       \n",
      " 31  nueroticism            3537 non-null   float64       \n",
      " 32  openess_to_experience  3537 non-null   float64       \n",
      " 33  Age                    3537 non-null   int32         \n",
      "dtypes: datetime64[ns](1), float64(9), int32(2), int64(14), object(8)\n",
      "memory usage: 939.5+ KB\n"
     ]
    }
   ],
   "source": [
    "df.info()"
   ]
  },
  {
   "cell_type": "code",
   "execution_count": 659,
   "id": "d5d6bd65",
   "metadata": {},
   "outputs": [
    {
     "data": {
      "text/plain": [
       "<AxesSubplot:title={'center':'Salary'}, xlabel='Designation'>"
      ]
     },
     "execution_count": 659,
     "metadata": {},
     "output_type": "execute_result"
    },
    {
     "data": {
      "image/png": "[encoded data removed]",
      "text/plain": [
       "<Figure size 1080x720 with 1 Axes>"
      ]
     },
     "metadata": {
      "needs_background": "light"
     },
     "output_type": "display_data"
    }
   ],
   "source": [
    "df.boxplot(by='Designation',column='Salary',figsize=(15,10))"
   ]
  },
  {
   "cell_type": "code",
   "execution_count": null,
   "id": "610c5366",
   "metadata": {},
   "outputs": [],
   "source": [
    "\n"
   ]
  },
  {
   "cell_type": "code",
   "execution_count": 672,
   "id": "794882c4",
   "metadata": {},
   "outputs": [
    {
     "data": {
      "text/plain": [
       "<AxesSubplot:title={'center':'Salary'}, xlabel='City'>"
      ]
     },
     "execution_count": 672,
     "metadata": {},
     "output_type": "execute_result"
    },
    {
     "data": {
      "image/png": "[encoded data removed]",
      "text/plain": [
       "<Figure size 1440x720 with 1 Axes>"
      ]
     },
     "metadata": {
      "needs_background": "light"
     },
     "output_type": "display_data"
    }
   ],
   "source": [
    "df.boxplot(by='City',column='Salary',figsize=(20,10))"
   ]
  },
  {
   "cell_type": "code",
   "execution_count": 679,
   "id": "bb549e1c",
   "metadata": {},
   "outputs": [
    {
     "data": {
      "text/plain": [
       "<AxesSubplot:title={'center':'Salary'}, xlabel='Gender'>"
      ]
     },
     "execution_count": 679,
     "metadata": {},
     "output_type": "execute_result"
    },
    {
     "data": {
      "image/png": "[encoded data removed]",
      "text/plain": [
       "<Figure size 864x576 with 1 Axes>"
      ]
     },
     "metadata": {
      "needs_background": "light"
     },
     "output_type": "display_data"
    }
   ],
   "source": [
    "df.boxplot(by='Gender',column='Salary',figsize=(12,8))"
   ]
  },
  {
   "cell_type": "code",
   "execution_count": 680,
   "id": "8834b373",
   "metadata": {},
   "outputs": [
    {
     "data": {
      "text/plain": [
       "<AxesSubplot:title={'center':'Salary'}, xlabel='Degree'>"
      ]
     },
     "execution_count": 680,
     "metadata": {},
     "output_type": "execute_result"
    },
    {
     "data": {
      "image/png": "[encoded data removed]",
      "text/plain": [
       "<Figure size 1080x720 with 1 Axes>"
      ]
     },
     "metadata": {
      "needs_background": "light"
     },
     "output_type": "display_data"
    }
   ],
   "source": [
    "df.boxplot(by='Degree',column='Salary',figsize=(15,10))"
   ]
  },
  {
   "cell_type": "code",
   "execution_count": 681,
   "id": "df5d6159",
   "metadata": {},
   "outputs": [
    {
     "data": {
      "text/plain": [
       "<AxesSubplot:title={'center':'Salary'}, xlabel='Specialization'>"
      ]
     },
     "execution_count": 681,
     "metadata": {},
     "output_type": "execute_result"
    },
    {
     "data": {
      "image/png": "[encoded data removed]",
      "text/plain": [
       "<Figure size 1080x720 with 1 Axes>"
      ]
     },
     "metadata": {
      "needs_background": "light"
     },
     "output_type": "display_data"
    }
   ],
   "source": [
    "df.boxplot(by='Specialization',column='Salary',figsize=(15,10))"
   ]
  },
  {
   "cell_type": "code",
   "execution_count": null,
   "id": "e7b324ef",
   "metadata": {},
   "outputs": [],
   "source": []
  },
  {
   "cell_type": "code",
   "execution_count": null,
   "id": "7d3bcec7",
   "metadata": {},
   "outputs": [],
   "source": []
  },
  {
   "cell_type": "raw",
   "id": "6bbc3b9a",
   "metadata": {},
   "source": [
    "Research Questions\n",
    "Times of India article dated Jan 18, 2019 states that “After doing your Computer Science Engineering if you take up jobs as a Programming Analyst, Software Engineer, Hardware Engineer and Associate Engineer you can earn up to 2.5-3 lakhs as a fresh graduate.” Test this claim with the data given to you.\n",
    "\n",
    "Is there a relationship between gender and specialisation? (i.e. Does the preference of Specialisation depend on the Gender?)"
   ]
  },
  {
   "cell_type": "code",
   "execution_count": 689,
   "id": "f4d17489",
   "metadata": {},
   "outputs": [
    {
     "data": {
      "text/html": [
       "<div>\n",
       "<style scoped>\n",
       "    .dataframe tbody tr th:only-of-type {\n",
       "        vertical-align: middle;\n",
       "    }\n",
       "\n",
       "    .dataframe tbody tr th {\n",
       "        vertical-align: top;\n",
       "    }\n",
       "\n",
       "    .dataframe thead th {\n",
       "        text-align: right;\n",
       "    }\n",
       "</style>\n",
       "<table border=\"1\" class=\"dataframe\">\n",
       "  <thead>\n",
       "    <tr style=\"text-align: right;\">\n",
       "      <th></th>\n",
       "      <th>Unnamed: 0</th>\n",
       "      <th>ID</th>\n",
       "      <th>Salary</th>\n",
       "      <th>DOJ</th>\n",
       "      <th>DOL</th>\n",
       "      <th>Designation</th>\n",
       "      <th>JobCity</th>\n",
       "      <th>Gender</th>\n",
       "      <th>DOB</th>\n",
       "      <th>10percentage</th>\n",
       "      <th>...</th>\n",
       "      <th>ComputerScience</th>\n",
       "      <th>MechanicalEngg</th>\n",
       "      <th>ElectricalEngg</th>\n",
       "      <th>TelecomEngg</th>\n",
       "      <th>CivilEngg</th>\n",
       "      <th>conscientiousness</th>\n",
       "      <th>agreeableness</th>\n",
       "      <th>extraversion</th>\n",
       "      <th>nueroticism</th>\n",
       "      <th>openess_to_experience</th>\n",
       "    </tr>\n",
       "  </thead>\n",
       "  <tbody>\n",
       "    <tr>\n",
       "      <th>0</th>\n",
       "      <td>train</td>\n",
       "      <td>203097</td>\n",
       "      <td>420000</td>\n",
       "      <td>2012-06-01</td>\n",
       "      <td>present</td>\n",
       "      <td>senior quality engineer</td>\n",
       "      <td>Bangalore</td>\n",
       "      <td>f</td>\n",
       "      <td>1990-02-19</td>\n",
       "      <td>84.3</td>\n",
       "      <td>...</td>\n",
       "      <td>-1</td>\n",
       "      <td>-1</td>\n",
       "      <td>-1</td>\n",
       "      <td>-1</td>\n",
       "      <td>-1</td>\n",
       "      <td>0.9737</td>\n",
       "      <td>0.8128</td>\n",
       "      <td>0.5269</td>\n",
       "      <td>1.35490</td>\n",
       "      <td>-0.4455</td>\n",
       "    </tr>\n",
       "    <tr>\n",
       "      <th>1</th>\n",
       "      <td>train</td>\n",
       "      <td>579905</td>\n",
       "      <td>500000</td>\n",
       "      <td>2013-09-01</td>\n",
       "      <td>present</td>\n",
       "      <td>assistant manager</td>\n",
       "      <td>Indore</td>\n",
       "      <td>m</td>\n",
       "      <td>1989-10-04</td>\n",
       "      <td>85.4</td>\n",
       "      <td>...</td>\n",
       "      <td>-1</td>\n",
       "      <td>-1</td>\n",
       "      <td>-1</td>\n",
       "      <td>-1</td>\n",
       "      <td>-1</td>\n",
       "      <td>-0.7335</td>\n",
       "      <td>0.3789</td>\n",
       "      <td>1.2396</td>\n",
       "      <td>-0.10760</td>\n",
       "      <td>0.8637</td>\n",
       "    </tr>\n",
       "    <tr>\n",
       "      <th>2</th>\n",
       "      <td>train</td>\n",
       "      <td>810601</td>\n",
       "      <td>325000</td>\n",
       "      <td>2014-06-01</td>\n",
       "      <td>present</td>\n",
       "      <td>systems engineer</td>\n",
       "      <td>Chennai</td>\n",
       "      <td>f</td>\n",
       "      <td>1992-08-03</td>\n",
       "      <td>85.0</td>\n",
       "      <td>...</td>\n",
       "      <td>-1</td>\n",
       "      <td>-1</td>\n",
       "      <td>-1</td>\n",
       "      <td>-1</td>\n",
       "      <td>-1</td>\n",
       "      <td>0.2718</td>\n",
       "      <td>1.7109</td>\n",
       "      <td>0.1637</td>\n",
       "      <td>-0.86820</td>\n",
       "      <td>0.6721</td>\n",
       "    </tr>\n",
       "    <tr>\n",
       "      <th>3</th>\n",
       "      <td>train</td>\n",
       "      <td>267447</td>\n",
       "      <td>1100000</td>\n",
       "      <td>2011-07-01</td>\n",
       "      <td>present</td>\n",
       "      <td>senior software engineer</td>\n",
       "      <td>Gurgaon</td>\n",
       "      <td>m</td>\n",
       "      <td>1989-12-05</td>\n",
       "      <td>85.6</td>\n",
       "      <td>...</td>\n",
       "      <td>-1</td>\n",
       "      <td>-1</td>\n",
       "      <td>-1</td>\n",
       "      <td>-1</td>\n",
       "      <td>-1</td>\n",
       "      <td>0.0464</td>\n",
       "      <td>0.3448</td>\n",
       "      <td>-0.3440</td>\n",
       "      <td>-0.40780</td>\n",
       "      <td>-0.9194</td>\n",
       "    </tr>\n",
       "    <tr>\n",
       "      <th>4</th>\n",
       "      <td>train</td>\n",
       "      <td>343523</td>\n",
       "      <td>200000</td>\n",
       "      <td>2014-03-01</td>\n",
       "      <td>2015-03-01 00:00:00</td>\n",
       "      <td>get</td>\n",
       "      <td>Manesar</td>\n",
       "      <td>m</td>\n",
       "      <td>1991-02-27</td>\n",
       "      <td>78.0</td>\n",
       "      <td>...</td>\n",
       "      <td>-1</td>\n",
       "      <td>-1</td>\n",
       "      <td>-1</td>\n",
       "      <td>-1</td>\n",
       "      <td>-1</td>\n",
       "      <td>-0.8810</td>\n",
       "      <td>-0.2793</td>\n",
       "      <td>-1.0697</td>\n",
       "      <td>0.09163</td>\n",
       "      <td>-0.1295</td>\n",
       "    </tr>\n",
       "  </tbody>\n",
       "</table>\n",
       "<p>5 rows × 39 columns</p>\n",
       "</div>"
      ],
      "text/plain": [
       "  Unnamed: 0      ID   Salary        DOJ                  DOL  \\\n",
       "0      train  203097   420000 2012-06-01              present   \n",
       "1      train  579905   500000 2013-09-01              present   \n",
       "2      train  810601   325000 2014-06-01              present   \n",
       "3      train  267447  1100000 2011-07-01              present   \n",
       "4      train  343523   200000 2014-03-01  2015-03-01 00:00:00   \n",
       "\n",
       "                Designation    JobCity Gender        DOB  10percentage  ...  \\\n",
       "0   senior quality engineer  Bangalore      f 1990-02-19          84.3  ...   \n",
       "1         assistant manager     Indore      m 1989-10-04          85.4  ...   \n",
       "2          systems engineer    Chennai      f 1992-08-03          85.0  ...   \n",
       "3  senior software engineer    Gurgaon      m 1989-12-05          85.6  ...   \n",
       "4                       get    Manesar      m 1991-02-27          78.0  ...   \n",
       "\n",
       "  ComputerScience  MechanicalEngg  ElectricalEngg TelecomEngg  CivilEngg  \\\n",
       "0              -1              -1              -1          -1         -1   \n",
       "1              -1              -1              -1          -1         -1   \n",
       "2              -1              -1              -1          -1         -1   \n",
       "3              -1              -1              -1          -1         -1   \n",
       "4              -1              -1              -1          -1         -1   \n",
       "\n",
       "   conscientiousness agreeableness extraversion  nueroticism  \\\n",
       "0             0.9737        0.8128       0.5269      1.35490   \n",
       "1            -0.7335        0.3789       1.2396     -0.10760   \n",
       "2             0.2718        1.7109       0.1637     -0.86820   \n",
       "3             0.0464        0.3448      -0.3440     -0.40780   \n",
       "4            -0.8810       -0.2793      -1.0697      0.09163   \n",
       "\n",
       "   openess_to_experience  \n",
       "0                -0.4455  \n",
       "1                 0.8637  \n",
       "2                 0.6721  \n",
       "3                -0.9194  \n",
       "4                -0.1295  \n",
       "\n",
       "[5 rows x 39 columns]"
      ]
     },
     "execution_count": 689,
     "metadata": {},
     "output_type": "execute_result"
    }
   ],
   "source": [
    "df1 = pd.read_excel(\"aspiring_minds.xlsx\")\n",
    "df1.head()"
   ]
  },
  {
   "cell_type": "code",
   "execution_count": 682,
   "id": "5269fe7d",
   "metadata": {},
   "outputs": [
    {
     "data": {
      "text/html": [
       "<div>\n",
       "<style scoped>\n",
       "    .dataframe tbody tr th:only-of-type {\n",
       "        vertical-align: middle;\n",
       "    }\n",
       "\n",
       "    .dataframe tbody tr th {\n",
       "        vertical-align: top;\n",
       "    }\n",
       "\n",
       "    .dataframe thead th {\n",
       "        text-align: right;\n",
       "    }\n",
       "</style>\n",
       "<table border=\"1\" class=\"dataframe\">\n",
       "  <thead>\n",
       "    <tr style=\"text-align: right;\">\n",
       "      <th></th>\n",
       "      <th>Salary</th>\n",
       "      <th>Year_of_join</th>\n",
       "      <th>Year_of_leave</th>\n",
       "      <th>Designation</th>\n",
       "      <th>City</th>\n",
       "      <th>Gender</th>\n",
       "      <th>DOB</th>\n",
       "      <th>Tenth_grade</th>\n",
       "      <th>10board</th>\n",
       "      <th>12graduation</th>\n",
       "      <th>...</th>\n",
       "      <th>MechanicalEngg</th>\n",
       "      <th>ElectricalEngg</th>\n",
       "      <th>TelecomEngg</th>\n",
       "      <th>CivilEngg</th>\n",
       "      <th>conscientiousness</th>\n",
       "      <th>agreeableness</th>\n",
       "      <th>extraversion</th>\n",
       "      <th>nueroticism</th>\n",
       "      <th>openess_to_experience</th>\n",
       "      <th>Age</th>\n",
       "    </tr>\n",
       "  </thead>\n",
       "  <tbody>\n",
       "    <tr>\n",
       "      <th>0</th>\n",
       "      <td>420000</td>\n",
       "      <td>2012</td>\n",
       "      <td>2015</td>\n",
       "      <td>Associate Engineer</td>\n",
       "      <td>Bangalore</td>\n",
       "      <td>FeMaleale</td>\n",
       "      <td>1990-02-19</td>\n",
       "      <td>84.3</td>\n",
       "      <td>others</td>\n",
       "      <td>2007</td>\n",
       "      <td>...</td>\n",
       "      <td>-1</td>\n",
       "      <td>-1</td>\n",
       "      <td>-1</td>\n",
       "      <td>-1</td>\n",
       "      <td>0.9737</td>\n",
       "      <td>0.8128</td>\n",
       "      <td>0.5269</td>\n",
       "      <td>1.35490</td>\n",
       "      <td>-0.4455</td>\n",
       "      <td>25</td>\n",
       "    </tr>\n",
       "    <tr>\n",
       "      <th>1</th>\n",
       "      <td>500000</td>\n",
       "      <td>2013</td>\n",
       "      <td>2015</td>\n",
       "      <td>Manager</td>\n",
       "      <td>Indore</td>\n",
       "      <td>Male</td>\n",
       "      <td>1989-10-04</td>\n",
       "      <td>85.4</td>\n",
       "      <td>CBSE</td>\n",
       "      <td>2007</td>\n",
       "      <td>...</td>\n",
       "      <td>-1</td>\n",
       "      <td>-1</td>\n",
       "      <td>-1</td>\n",
       "      <td>-1</td>\n",
       "      <td>-0.7335</td>\n",
       "      <td>0.3789</td>\n",
       "      <td>1.2396</td>\n",
       "      <td>-0.10760</td>\n",
       "      <td>0.8637</td>\n",
       "      <td>26</td>\n",
       "    </tr>\n",
       "    <tr>\n",
       "      <th>2</th>\n",
       "      <td>325000</td>\n",
       "      <td>2014</td>\n",
       "      <td>2015</td>\n",
       "      <td>Hardware Engineer</td>\n",
       "      <td>Chennai</td>\n",
       "      <td>FeMaleale</td>\n",
       "      <td>1992-08-03</td>\n",
       "      <td>85.0</td>\n",
       "      <td>CBSE</td>\n",
       "      <td>2010</td>\n",
       "      <td>...</td>\n",
       "      <td>-1</td>\n",
       "      <td>-1</td>\n",
       "      <td>-1</td>\n",
       "      <td>-1</td>\n",
       "      <td>0.2718</td>\n",
       "      <td>1.7109</td>\n",
       "      <td>0.1637</td>\n",
       "      <td>-0.86820</td>\n",
       "      <td>0.6721</td>\n",
       "      <td>23</td>\n",
       "    </tr>\n",
       "    <tr>\n",
       "      <th>3</th>\n",
       "      <td>1100000</td>\n",
       "      <td>2011</td>\n",
       "      <td>2015</td>\n",
       "      <td>Software Engineer</td>\n",
       "      <td>Gurgaon</td>\n",
       "      <td>Male</td>\n",
       "      <td>1989-12-05</td>\n",
       "      <td>85.6</td>\n",
       "      <td>CBSE</td>\n",
       "      <td>2007</td>\n",
       "      <td>...</td>\n",
       "      <td>-1</td>\n",
       "      <td>-1</td>\n",
       "      <td>-1</td>\n",
       "      <td>-1</td>\n",
       "      <td>0.0464</td>\n",
       "      <td>0.3448</td>\n",
       "      <td>-0.3440</td>\n",
       "      <td>-0.40780</td>\n",
       "      <td>-0.9194</td>\n",
       "      <td>26</td>\n",
       "    </tr>\n",
       "    <tr>\n",
       "      <th>4</th>\n",
       "      <td>200000</td>\n",
       "      <td>2014</td>\n",
       "      <td>2015</td>\n",
       "      <td>Others</td>\n",
       "      <td>Others</td>\n",
       "      <td>Male</td>\n",
       "      <td>1991-02-27</td>\n",
       "      <td>78.0</td>\n",
       "      <td>CBSE</td>\n",
       "      <td>2008</td>\n",
       "      <td>...</td>\n",
       "      <td>-1</td>\n",
       "      <td>-1</td>\n",
       "      <td>-1</td>\n",
       "      <td>-1</td>\n",
       "      <td>-0.8810</td>\n",
       "      <td>-0.2793</td>\n",
       "      <td>-1.0697</td>\n",
       "      <td>0.09163</td>\n",
       "      <td>-0.1295</td>\n",
       "      <td>24</td>\n",
       "    </tr>\n",
       "  </tbody>\n",
       "</table>\n",
       "<p>5 rows × 34 columns</p>\n",
       "</div>"
      ],
      "text/plain": [
       "    Salary  Year_of_join  Year_of_leave         Designation       City  \\\n",
       "0   420000          2012           2015  Associate Engineer  Bangalore   \n",
       "1   500000          2013           2015             Manager     Indore   \n",
       "2   325000          2014           2015   Hardware Engineer    Chennai   \n",
       "3  1100000          2011           2015   Software Engineer    Gurgaon   \n",
       "4   200000          2014           2015              Others     Others   \n",
       "\n",
       "      Gender        DOB  Tenth_grade 10board  12graduation  ...  \\\n",
       "0  FeMaleale 1990-02-19         84.3  others          2007  ...   \n",
       "1       Male 1989-10-04         85.4    CBSE          2007  ...   \n",
       "2  FeMaleale 1992-08-03         85.0    CBSE          2010  ...   \n",
       "3       Male 1989-12-05         85.6    CBSE          2007  ...   \n",
       "4       Male 1991-02-27         78.0    CBSE          2008  ...   \n",
       "\n",
       "   MechanicalEngg ElectricalEngg TelecomEngg CivilEngg  conscientiousness  \\\n",
       "0              -1             -1          -1        -1             0.9737   \n",
       "1              -1             -1          -1        -1            -0.7335   \n",
       "2              -1             -1          -1        -1             0.2718   \n",
       "3              -1             -1          -1        -1             0.0464   \n",
       "4              -1             -1          -1        -1            -0.8810   \n",
       "\n",
       "  agreeableness  extraversion  nueroticism  openess_to_experience  Age  \n",
       "0        0.8128        0.5269      1.35490                -0.4455   25  \n",
       "1        0.3789        1.2396     -0.10760                 0.8637   26  \n",
       "2        1.7109        0.1637     -0.86820                 0.6721   23  \n",
       "3        0.3448       -0.3440     -0.40780                -0.9194   26  \n",
       "4       -0.2793       -1.0697      0.09163                -0.1295   24  \n",
       "\n",
       "[5 rows x 34 columns]"
      ]
     },
     "execution_count": 682,
     "metadata": {},
     "output_type": "execute_result"
    }
   ],
   "source": [
    "df.head()"
   ]
  },
  {
   "cell_type": "code",
   "execution_count": 683,
   "id": "37ddc3ee",
   "metadata": {},
   "outputs": [
    {
     "data": {
      "text/plain": [
       "Software Engineer      1335\n",
       "Associate Engineer      878\n",
       "Others                  467\n",
       "Programming Analyst     371\n",
       "Hardware Engineer       351\n",
       "Manager                 115\n",
       "Designer                 20\n",
       "Name: Designation, dtype: int64"
      ]
     },
     "execution_count": 683,
     "metadata": {},
     "output_type": "execute_result"
    }
   ],
   "source": [
    "df['Designation'].value_counts()"
   ]
  },
  {
   "cell_type": "code",
   "execution_count": 684,
   "id": "525c0a44",
   "metadata": {},
   "outputs": [],
   "source": [
    "salary_by_title = df.groupby('Designation')['Salary'].mean()"
   ]
  },
  {
   "cell_type": "code",
   "execution_count": 685,
   "id": "8cdb3b8d",
   "metadata": {},
   "outputs": [
    {
     "data": {
      "text/plain": [
       "Designation\n",
       "Associate Engineer     294332.574032\n",
       "Designer               209250.000000\n",
       "Hardware Engineer      376566.951567\n",
       "Manager                399391.304348\n",
       "Others                 248019.271949\n",
       "Programming Analyst    315525.606469\n",
       "Software Engineer      312176.029963\n",
       "Name: Salary, dtype: float64"
      ]
     },
     "execution_count": 685,
     "metadata": {},
     "output_type": "execute_result"
    }
   ],
   "source": [
    "salary_by_title\n"
   ]
  },
  {
   "cell_type": "code",
   "execution_count": null,
   "id": "046da320",
   "metadata": {},
   "outputs": [],
   "source": []
  },
  {
   "cell_type": "code",
   "execution_count": 690,
   "id": "71688325",
   "metadata": {},
   "outputs": [],
   "source": [
    "job_titles = ['programmer analyst','programmer analyst trainee', 'software engineer associate',\n",
    "              'software engineer trainee','software engineering associate','hardware engineer', 'associate engineer']\n",
    "\n",
    "data = df1[df1['Designation'].isin(job_titles)]"
   ]
  },
  {
   "cell_type": "code",
   "execution_count": 691,
   "id": "5faae851",
   "metadata": {},
   "outputs": [],
   "source": [
    "data = data[data['Specialization']=='computer science & engineering']\n"
   ]
  },
  {
   "cell_type": "code",
   "execution_count": 692,
   "id": "9ef7d087",
   "metadata": {},
   "outputs": [
    {
     "name": "stdout",
     "output_type": "stream",
     "text": [
      "Top Five Rows \n",
      "      Salary                 Designation                  Specialization Gender\n",
      "24   335000          programmer analyst  computer science & engineering      m\n",
      "313  315000  programmer analyst trainee  computer science & engineering      m\n",
      "473  335000          programmer analyst  computer science & engineering      m\n",
      "530  345000          programmer analyst  computer science & engineering      m\n",
      "595  180000          programmer analyst  computer science & engineering      f\n",
      "Total Number of Rows and Columns \n",
      " (35, 4)\n",
      "<h1>DataTypes \n",
      " Salary             int64\n",
      "Designation       object\n",
      "Specialization    object\n",
      "Gender            object\n",
      "dtype: object\n"
     ]
    }
   ],
   "source": [
    "rq = data[['Salary', 'Designation', 'Specialization', 'Gender']]\n",
    "print('Top Five Rows \\n',rq.head())\n",
    "print('Total Number of Rows and Columns \\n',rq.shape)\n",
    "print('<h1>DataTypes \\n',rq.dtypes)"
   ]
  },
  {
   "cell_type": "raw",
   "id": "1c8a564b",
   "metadata": {},
   "source": [
    "Research Question No : 1\n",
    "After doing your Computer Science Engineering if you take up jobs as a Programming Analyst, Software Engineer, Hardware Engineer and Associate Engineer you can earn up to 2.5-3 lakhs as a fresh graduate. Test this claim with the data given to you."
   ]
  },
  {
   "cell_type": "code",
   "execution_count": 693,
   "id": "a4d2478b",
   "metadata": {},
   "outputs": [
    {
     "name": "stdout",
     "output_type": "stream",
     "text": [
      "The claim is not supported by the data.\n"
     ]
    }
   ],
   "source": [
    "\n",
    "grouped_df = rq.groupby(['Designation', 'Specialization']).agg({'Salary': 'mean'}).reset_index()\n",
    "\n",
    "\n",
    "lower_bound = 250000\n",
    "upper_bound = 300000\n",
    "result = (rq['Salary'] >= lower_bound) & (rq['Salary'] <= upper_bound)\n",
    "\n",
    "if result.all():\n",
    "    print(\"The claim is supported by the data.\")\n",
    "else:\n",
    "    print(\"The claim is not supported by the data.\")"
   ]
  },
  {
   "cell_type": "code",
   "execution_count": 694,
   "id": "5f414c34",
   "metadata": {},
   "outputs": [
    {
     "data": {
      "text/html": [
       "<div>\n",
       "<style scoped>\n",
       "    .dataframe tbody tr th:only-of-type {\n",
       "        vertical-align: middle;\n",
       "    }\n",
       "\n",
       "    .dataframe tbody tr th {\n",
       "        vertical-align: top;\n",
       "    }\n",
       "\n",
       "    .dataframe thead th {\n",
       "        text-align: right;\n",
       "    }\n",
       "</style>\n",
       "<table border=\"1\" class=\"dataframe\">\n",
       "  <thead>\n",
       "    <tr style=\"text-align: right;\">\n",
       "      <th>Specialization</th>\n",
       "      <th>CSE</th>\n",
       "      <th>ECE</th>\n",
       "      <th>EEE</th>\n",
       "      <th>IT</th>\n",
       "      <th>Instrumentation Engineering</th>\n",
       "      <th>MECH</th>\n",
       "      <th>Others</th>\n",
       "      <th>All</th>\n",
       "    </tr>\n",
       "    <tr>\n",
       "      <th>Gender</th>\n",
       "      <th></th>\n",
       "      <th></th>\n",
       "      <th></th>\n",
       "      <th></th>\n",
       "      <th></th>\n",
       "      <th></th>\n",
       "      <th></th>\n",
       "      <th></th>\n",
       "    </tr>\n",
       "  </thead>\n",
       "  <tbody>\n",
       "    <tr>\n",
       "      <th>FeMaleale</th>\n",
       "      <td>0.433526</td>\n",
       "      <td>0.313295</td>\n",
       "      <td>0.017341</td>\n",
       "      <td>0.191908</td>\n",
       "      <td>0.009249</td>\n",
       "      <td>0.010405</td>\n",
       "      <td>0.024277</td>\n",
       "      <td>1.0</td>\n",
       "    </tr>\n",
       "    <tr>\n",
       "      <th>Male</th>\n",
       "      <td>0.383234</td>\n",
       "      <td>0.330464</td>\n",
       "      <td>0.021707</td>\n",
       "      <td>0.165793</td>\n",
       "      <td>0.005988</td>\n",
       "      <td>0.067740</td>\n",
       "      <td>0.025075</td>\n",
       "      <td>1.0</td>\n",
       "    </tr>\n",
       "    <tr>\n",
       "      <th>All</th>\n",
       "      <td>0.395533</td>\n",
       "      <td>0.326265</td>\n",
       "      <td>0.020639</td>\n",
       "      <td>0.172180</td>\n",
       "      <td>0.006785</td>\n",
       "      <td>0.053718</td>\n",
       "      <td>0.024880</td>\n",
       "      <td>1.0</td>\n",
       "    </tr>\n",
       "  </tbody>\n",
       "</table>\n",
       "</div>"
      ],
      "text/plain": [
       "Specialization       CSE       ECE       EEE        IT  \\\n",
       "Gender                                                   \n",
       "FeMaleale       0.433526  0.313295  0.017341  0.191908   \n",
       "Male            0.383234  0.330464  0.021707  0.165793   \n",
       "All             0.395533  0.326265  0.020639  0.172180   \n",
       "\n",
       "Specialization  Instrumentation Engineering      MECH    Others  All  \n",
       "Gender                                                                \n",
       "FeMaleale                          0.009249  0.010405  0.024277  1.0  \n",
       "Male                               0.005988  0.067740  0.025075  1.0  \n",
       "All                                0.006785  0.053718  0.024880  1.0  "
      ]
     },
     "execution_count": 694,
     "metadata": {},
     "output_type": "execute_result"
    }
   ],
   "source": [
    "\n",
    "freq_table = pd.crosstab(df['Gender'], df['Specialization'], margins=True)\n",
    "\n",
    "\n",
    "freq_table.div(freq_table['All'], axis=0)"
   ]
  },
  {
   "cell_type": "markdown",
   "id": "0f0fc6d7",
   "metadata": {},
   "source": [
    "Research Question No : 2 Observation\n",
    "\n",
    "the gender distribution in various engineering specializations. Computer Science,IT and ECE  are the most popular specializations for both males and females, comprising more than 70% and 60% of their respective proportions.\n"
   ]
  },
  {
   "cell_type": "raw",
   "id": "34702557",
   "metadata": {},
   "source": [
    "Research Question No : 1 Observation\n",
    "The claim is that fresh graduates with a degree in Computer Science Engineering can earn up to 2.5-3 lakhs if they take up jobs as a Programming Analyst, Software Engineer, Hardware Engineer, or Associate Engineer. We need to test this claim with the available data to see if it is true or not. However, you have not provided any data to test the claim. Please provide me with the relevant data so that I can help you test the claim."
   ]
  }
 ],
 "metadata": {
  "kernelspec": {
   "display_name": "Python 3",
   "language": "python",
   "name": "python3"
  },
  "language_info": {
   "codemirror_mode": {
    "name": "ipython",
    "version": 3
   },
   "file_extension": ".py",
   "mimetype": "text/x-python",
   "name": "python",
   "nbconvert_exporter": "python",
   "pygments_lexer": "ipython3",
   "version": "3.8.8"
  }
 },
 "nbformat": 4,
 "nbformat_minor": 5
}
