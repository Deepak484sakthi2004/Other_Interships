{
 "cells": [
  {
   "cell_type": "markdown",
   "id": "00339a44",
   "metadata": {},
   "source": [
    "# HOUSE PRICE PREDICTION"
   ]
  },
  {
   "cell_type": "code",
   "execution_count": 1,
   "id": "1a9cf130",
   "metadata": {},
   "outputs": [
    {
     "data": {
      "text/html": [
       "<div>\n",
       "<style scoped>\n",
       "    .dataframe tbody tr th:only-of-type {\n",
       "        vertical-align: middle;\n",
       "    }\n",
       "\n",
       "    .dataframe tbody tr th {\n",
       "        vertical-align: top;\n",
       "    }\n",
       "\n",
       "    .dataframe thead th {\n",
       "        text-align: right;\n",
       "    }\n",
       "</style>\n",
       "<table border=\"1\" class=\"dataframe\">\n",
       "  <thead>\n",
       "    <tr style=\"text-align: right;\">\n",
       "      <th></th>\n",
       "      <th>id</th>\n",
       "      <th>date</th>\n",
       "      <th>price</th>\n",
       "      <th>bedrooms</th>\n",
       "      <th>bathrooms</th>\n",
       "      <th>sqft_living</th>\n",
       "      <th>sqft_lot</th>\n",
       "      <th>floors</th>\n",
       "      <th>waterfront</th>\n",
       "      <th>view</th>\n",
       "      <th>...</th>\n",
       "      <th>grade</th>\n",
       "      <th>sqft_above</th>\n",
       "      <th>sqft_basement</th>\n",
       "      <th>yr_built</th>\n",
       "      <th>yr_renovated</th>\n",
       "      <th>zipcode</th>\n",
       "      <th>lat</th>\n",
       "      <th>long</th>\n",
       "      <th>sqft_living15</th>\n",
       "      <th>sqft_lot15</th>\n",
       "    </tr>\n",
       "  </thead>\n",
       "  <tbody>\n",
       "    <tr>\n",
       "      <th>0</th>\n",
       "      <td>7129300520</td>\n",
       "      <td>20141013T000000</td>\n",
       "      <td>221900.0</td>\n",
       "      <td>3</td>\n",
       "      <td>1.00</td>\n",
       "      <td>1180</td>\n",
       "      <td>5650</td>\n",
       "      <td>1.0</td>\n",
       "      <td>0</td>\n",
       "      <td>0</td>\n",
       "      <td>...</td>\n",
       "      <td>7</td>\n",
       "      <td>1180</td>\n",
       "      <td>0</td>\n",
       "      <td>1955</td>\n",
       "      <td>0</td>\n",
       "      <td>98178</td>\n",
       "      <td>47.5112</td>\n",
       "      <td>-122.257</td>\n",
       "      <td>1340</td>\n",
       "      <td>5650</td>\n",
       "    </tr>\n",
       "    <tr>\n",
       "      <th>1</th>\n",
       "      <td>6414100192</td>\n",
       "      <td>20141209T000000</td>\n",
       "      <td>538000.0</td>\n",
       "      <td>3</td>\n",
       "      <td>2.25</td>\n",
       "      <td>2570</td>\n",
       "      <td>7242</td>\n",
       "      <td>2.0</td>\n",
       "      <td>0</td>\n",
       "      <td>0</td>\n",
       "      <td>...</td>\n",
       "      <td>7</td>\n",
       "      <td>2170</td>\n",
       "      <td>400</td>\n",
       "      <td>1951</td>\n",
       "      <td>1991</td>\n",
       "      <td>98125</td>\n",
       "      <td>47.7210</td>\n",
       "      <td>-122.319</td>\n",
       "      <td>1690</td>\n",
       "      <td>7639</td>\n",
       "    </tr>\n",
       "    <tr>\n",
       "      <th>2</th>\n",
       "      <td>5631500400</td>\n",
       "      <td>20150225T000000</td>\n",
       "      <td>180000.0</td>\n",
       "      <td>2</td>\n",
       "      <td>1.00</td>\n",
       "      <td>770</td>\n",
       "      <td>10000</td>\n",
       "      <td>1.0</td>\n",
       "      <td>0</td>\n",
       "      <td>0</td>\n",
       "      <td>...</td>\n",
       "      <td>6</td>\n",
       "      <td>770</td>\n",
       "      <td>0</td>\n",
       "      <td>1933</td>\n",
       "      <td>0</td>\n",
       "      <td>98028</td>\n",
       "      <td>47.7379</td>\n",
       "      <td>-122.233</td>\n",
       "      <td>2720</td>\n",
       "      <td>8062</td>\n",
       "    </tr>\n",
       "    <tr>\n",
       "      <th>3</th>\n",
       "      <td>2487200875</td>\n",
       "      <td>20141209T000000</td>\n",
       "      <td>604000.0</td>\n",
       "      <td>4</td>\n",
       "      <td>3.00</td>\n",
       "      <td>1960</td>\n",
       "      <td>5000</td>\n",
       "      <td>1.0</td>\n",
       "      <td>0</td>\n",
       "      <td>0</td>\n",
       "      <td>...</td>\n",
       "      <td>7</td>\n",
       "      <td>1050</td>\n",
       "      <td>910</td>\n",
       "      <td>1965</td>\n",
       "      <td>0</td>\n",
       "      <td>98136</td>\n",
       "      <td>47.5208</td>\n",
       "      <td>-122.393</td>\n",
       "      <td>1360</td>\n",
       "      <td>5000</td>\n",
       "    </tr>\n",
       "    <tr>\n",
       "      <th>4</th>\n",
       "      <td>1954400510</td>\n",
       "      <td>20150218T000000</td>\n",
       "      <td>510000.0</td>\n",
       "      <td>3</td>\n",
       "      <td>2.00</td>\n",
       "      <td>1680</td>\n",
       "      <td>8080</td>\n",
       "      <td>1.0</td>\n",
       "      <td>0</td>\n",
       "      <td>0</td>\n",
       "      <td>...</td>\n",
       "      <td>8</td>\n",
       "      <td>1680</td>\n",
       "      <td>0</td>\n",
       "      <td>1987</td>\n",
       "      <td>0</td>\n",
       "      <td>98074</td>\n",
       "      <td>47.6168</td>\n",
       "      <td>-122.045</td>\n",
       "      <td>1800</td>\n",
       "      <td>7503</td>\n",
       "    </tr>\n",
       "  </tbody>\n",
       "</table>\n",
       "<p>5 rows × 21 columns</p>\n",
       "</div>"
      ],
      "text/plain": [
       "           id             date     price  bedrooms  bathrooms  sqft_living  \\\n",
       "0  7129300520  20141013T000000  221900.0         3       1.00         1180   \n",
       "1  6414100192  20141209T000000  538000.0         3       2.25         2570   \n",
       "2  5631500400  20150225T000000  180000.0         2       1.00          770   \n",
       "3  2487200875  20141209T000000  604000.0         4       3.00         1960   \n",
       "4  1954400510  20150218T000000  510000.0         3       2.00         1680   \n",
       "\n",
       "   sqft_lot  floors  waterfront  view  ...  grade  sqft_above  sqft_basement  \\\n",
       "0      5650     1.0           0     0  ...      7        1180              0   \n",
       "1      7242     2.0           0     0  ...      7        2170            400   \n",
       "2     10000     1.0           0     0  ...      6         770              0   \n",
       "3      5000     1.0           0     0  ...      7        1050            910   \n",
       "4      8080     1.0           0     0  ...      8        1680              0   \n",
       "\n",
       "   yr_built  yr_renovated  zipcode      lat     long  sqft_living15  \\\n",
       "0      1955             0    98178  47.5112 -122.257           1340   \n",
       "1      1951          1991    98125  47.7210 -122.319           1690   \n",
       "2      1933             0    98028  47.7379 -122.233           2720   \n",
       "3      1965             0    98136  47.5208 -122.393           1360   \n",
       "4      1987             0    98074  47.6168 -122.045           1800   \n",
       "\n",
       "   sqft_lot15  \n",
       "0        5650  \n",
       "1        7639  \n",
       "2        8062  \n",
       "3        5000  \n",
       "4        7503  \n",
       "\n",
       "[5 rows x 21 columns]"
      ]
     },
     "execution_count": 1,
     "metadata": {},
     "output_type": "execute_result"
    }
   ],
   "source": [
    "import pandas as pd\n",
    "import numpy as np\n",
    "\n",
    "import warnings as warnings\n",
    "warnings.filterwarnings('ignore')\n",
    "\n",
    "df=pd.read_csv('kc_house_data.csv')\n",
    "df.head()"
   ]
  },
  {
   "cell_type": "code",
   "execution_count": null,
   "id": "925a459b",
   "metadata": {},
   "outputs": [],
   "source": []
  },
  {
   "cell_type": "code",
   "execution_count": 2,
   "id": "398155fd",
   "metadata": {},
   "outputs": [],
   "source": [
    "df=df[['date','price','bedrooms','bathrooms','floors','waterfront','view','yr_built','zipcode']]\n",
    "\n",
    "df['year']=df['date'].apply(lambda x:x[:4])\n",
    "df['month']=df['date'].apply(lambda x:x[4:6])\n",
    "\n",
    "df['year']=df['year'].astype(int)\n",
    "df['month']=df['month'].astype(int)\n",
    "\n",
    "df=df.drop('date',1)"
   ]
  },
  {
   "cell_type": "code",
   "execution_count": 3,
   "id": "39706275",
   "metadata": {},
   "outputs": [],
   "source": [
    "df['bathrooms']=df['bathrooms'].apply(lambda x:round(x))\n",
    "df['building_age']=df['year']-df['yr_built']\n",
    "\n",
    "df=df.drop('yr_built',1)"
   ]
  },
  {
   "cell_type": "code",
   "execution_count": 4,
   "id": "6f9b10e3",
   "metadata": {},
   "outputs": [
    {
     "name": "stdout",
     "output_type": "stream",
     "text": [
      "<class 'pandas.core.frame.DataFrame'>\n",
      "RangeIndex: 21613 entries, 0 to 21612\n",
      "Data columns (total 10 columns):\n",
      " #   Column        Non-Null Count  Dtype  \n",
      "---  ------        --------------  -----  \n",
      " 0   price         21613 non-null  float64\n",
      " 1   bedrooms      21613 non-null  int64  \n",
      " 2   bathrooms     21613 non-null  int64  \n",
      " 3   floors        21613 non-null  float64\n",
      " 4   waterfront    21613 non-null  int64  \n",
      " 5   view          21613 non-null  int64  \n",
      " 6   zipcode       21613 non-null  int64  \n",
      " 7   year          21613 non-null  int32  \n",
      " 8   month         21613 non-null  int32  \n",
      " 9   building_age  21613 non-null  int64  \n",
      "dtypes: float64(2), int32(2), int64(6)\n",
      "memory usage: 1.5 MB\n"
     ]
    }
   ],
   "source": [
    "df.info()"
   ]
  },
  {
   "cell_type": "code",
   "execution_count": 5,
   "id": "26167e41",
   "metadata": {},
   "outputs": [
    {
     "name": "stdout",
     "output_type": "stream",
     "text": [
      "PRICE\n",
      "350000.0     172\n",
      "450000.0     172\n",
      "550000.0     159\n",
      "500000.0     152\n",
      "425000.0     150\n",
      "            ... \n",
      "607010.0       1\n",
      "1362500.0      1\n",
      "298800.0       1\n",
      "957500.0       1\n",
      "402101.0       1\n",
      "Name: price, Length: 4028, dtype: int64\n",
      "------------------------------------------------\n",
      "BEDROOMS\n",
      "3     9824\n",
      "4     6882\n",
      "2     2760\n",
      "5     1601\n",
      "6      272\n",
      "1      199\n",
      "7       38\n",
      "0       13\n",
      "8       13\n",
      "9        6\n",
      "10       3\n",
      "11       1\n",
      "33       1\n",
      "Name: bedrooms, dtype: int64\n",
      "------------------------------------------------\n",
      "BATHROOMS\n",
      "2    13851\n",
      "1     3933\n",
      "3     2527\n",
      "4     1201\n",
      "5       57\n",
      "6       24\n",
      "0       14\n",
      "8        4\n",
      "7        2\n",
      "Name: bathrooms, dtype: int64\n",
      "------------------------------------------------\n",
      "FLOORS\n",
      "1.0    10680\n",
      "2.0     8241\n",
      "1.5     1910\n",
      "3.0      613\n",
      "2.5      161\n",
      "3.5        8\n",
      "Name: floors, dtype: int64\n",
      "------------------------------------------------\n",
      "WATERFRONT\n",
      "0    21450\n",
      "1      163\n",
      "Name: waterfront, dtype: int64\n",
      "------------------------------------------------\n",
      "VIEW\n",
      "0    19489\n",
      "2      963\n",
      "3      510\n",
      "1      332\n",
      "4      319\n",
      "Name: view, dtype: int64\n",
      "------------------------------------------------\n",
      "ZIPCODE\n",
      "98103    602\n",
      "98038    590\n",
      "98115    583\n",
      "98052    574\n",
      "98117    553\n",
      "        ... \n",
      "98102    105\n",
      "98010    100\n",
      "98024     81\n",
      "98148     57\n",
      "98039     50\n",
      "Name: zipcode, Length: 70, dtype: int64\n",
      "------------------------------------------------\n",
      "YEAR\n",
      "2014    14633\n",
      "2015     6980\n",
      "Name: year, dtype: int64\n",
      "------------------------------------------------\n",
      "MONTH\n",
      "5     2414\n",
      "4     2231\n",
      "7     2211\n",
      "6     2180\n",
      "8     1940\n",
      "10    1878\n",
      "3     1875\n",
      "9     1774\n",
      "12    1471\n",
      "11    1411\n",
      "2     1250\n",
      "1      978\n",
      "Name: month, dtype: int64\n",
      "------------------------------------------------\n",
      "BUILDING_AGE\n",
      " 9      473\n",
      " 8      443\n",
      " 11     433\n",
      " 0      430\n",
      " 10     428\n",
      "       ... \n",
      " 113     28\n",
      " 115     26\n",
      " 81      23\n",
      " 80      21\n",
      "-1       12\n",
      "Name: building_age, Length: 117, dtype: int64\n",
      "------------------------------------------------\n"
     ]
    }
   ],
   "source": [
    "for i in df.columns:\n",
    "    print(i.upper())\n",
    "    print(df[i].value_counts())\n",
    "    print('--'*24)"
   ]
  },
  {
   "cell_type": "code",
   "execution_count": 6,
   "id": "1aa09b34",
   "metadata": {},
   "outputs": [
    {
     "data": {
      "text/plain": [
       "<Axes: ylabel='Density'>"
      ]
     },
     "execution_count": 6,
     "metadata": {},
     "output_type": "execute_result"
    },
    {
     "data": {
      "image/png": "[encoded data removed]",
      "text/plain": [
       "<Figure size 500x300 with 1 Axes>"
      ]
     },
     "metadata": {},
     "output_type": "display_data"
    }
   ],
   "source": [
    "df['price'].plot(kind='kde',figsize=(5,3))"
   ]
  },
  {
   "cell_type": "code",
   "execution_count": 7,
   "id": "ecad7f06",
   "metadata": {},
   "outputs": [
    {
     "name": "stdout",
     "output_type": "stream",
     "text": [
      "the mean price 540088.1417665294\n",
      "the median price 450000.0\n",
      "the max price 7700000.0\n",
      "the min price 75000.0\n",
      "the range of price 367127.1964826997\n"
     ]
    }
   ],
   "source": [
    "print('the mean price',df['price'].mean())\n",
    "print('the median price',df['price'].median())\n",
    "print('the max price',df['price'].max())\n",
    "print('the min price',df['price'].min())\n",
    "print('the range of price',df['price'].std())"
   ]
  },
  {
   "cell_type": "code",
   "execution_count": 8,
   "id": "b706656c",
   "metadata": {},
   "outputs": [
    {
     "data": {
      "text/plain": [
       "<Axes: >"
      ]
     },
     "execution_count": 8,
     "metadata": {},
     "output_type": "execute_result"
    },
    {
     "data": {
      "image/png": "[encoded data removed]",
      "text/plain": [
       "<Figure size 500x300 with 1 Axes>"
      ]
     },
     "metadata": {},
     "output_type": "display_data"
    }
   ],
   "source": [
    "df['price'].plot(kind='box',figsize=(5,3))"
   ]
  },
  {
   "cell_type": "code",
   "execution_count": 9,
   "id": "9ffe3883",
   "metadata": {},
   "outputs": [],
   "source": [
    "x=df.drop('price',1)\n",
    "y=df['price']"
   ]
  },
  {
   "cell_type": "code",
   "execution_count": 10,
   "id": "7ca2403b",
   "metadata": {},
   "outputs": [],
   "source": [
    "from sklearn.model_selection import train_test_split as tt\n",
    "x_train,x_test,y_train,y_test=tt(x,y,test_size=0.2)"
   ]
  },
  {
   "cell_type": "code",
   "execution_count": 11,
   "id": "1cf5bf0b",
   "metadata": {},
   "outputs": [],
   "source": [
    "# importing all the Regressor models and try checking the the r2score close to 1\n",
    "from sklearn.linear_model import LinearRegression, Ridge, Lasso, ElasticNet\n",
    "from sklearn.tree import DecisionTreeRegressor\n",
    "from sklearn.ensemble import RandomForestRegressor, GradientBoostingRegressor, AdaBoostRegressor\n",
    "from sklearn.neighbors import KNeighborsRegressor\n",
    "from sklearn.svm import SVR\n",
    "from sklearn.metrics import r2_score, mean_squared_error"
   ]
  },
  {
   "cell_type": "code",
   "execution_count": 12,
   "id": "eed0977d",
   "metadata": {},
   "outputs": [],
   "source": [
    "\n",
    "\n",
    "\n",
    "regressors = [\n",
    "    ['Linear Regression:', LinearRegression()],\n",
    "    ['Ridge Regression:', Ridge()],\n",
    "    ['Lasso Regression:', Lasso()],\n",
    "    ['ElasticNet Regression:', ElasticNet()],\n",
    "    ['Decision Tree Regressor:', DecisionTreeRegressor()],\n",
    "    ['Random Forest Regressor:', RandomForestRegressor()],\n",
    "    ['Gradient Boosting Regressor:', GradientBoostingRegressor()],\n",
    "    ['AdaBoost Regressor:', AdaBoostRegressor()],\n",
    "    ['KNeighbors Regressor:', KNeighborsRegressor()],\n",
    "    ['Support Vector Regressor:', SVR()]\n",
    "]\n"
   ]
  },
  {
   "cell_type": "code",
   "execution_count": 13,
   "id": "2e4a534b",
   "metadata": {},
   "outputs": [
    {
     "name": "stdout",
     "output_type": "stream",
     "text": [
      "Linear Regression: 0.4358153964386047\n",
      "Ridge Regression: 0.43573832165931026\n",
      "Lasso Regression: 0.43581331296261394\n",
      "ElasticNet Regression: 0.3396858026371926\n",
      "Decision Tree Regressor: 0.4564857731581399\n",
      "Random Forest Regressor: 0.6697953002070387\n",
      "Gradient Boosting Regressor: 0.6832266577982542\n",
      "AdaBoost Regressor: -0.7684184373903522\n",
      "KNeighbors Regressor: 0.4405738769799725\n",
      "Support Vector Regressor: -0.06258744989108278\n"
     ]
    }
   ],
   "source": [
    "score=[]\n",
    "for i,reg in regressors:\n",
    "    model=reg\n",
    "    model.fit(x_train,y_train)\n",
    "    predictn=model.predict(x_test)\n",
    "    score.append(r2_score(y_test,predictn))\n",
    "    \n",
    "    print(i,r2_score(y_test,predictn))\n",
    "    "
   ]
  },
  {
   "cell_type": "code",
   "execution_count": 14,
   "id": "6ebd342b",
   "metadata": {},
   "outputs": [
    {
     "name": "stdout",
     "output_type": "stream",
     "text": [
      "The house price: $804365.0\n"
     ]
    }
   ],
   "source": [
    "from sklearn.ensemble import RandomForestRegressor\n",
    "from sklearn.model_selection import GridSearchCV\n",
    "\n",
    "# Setting up the parameter grid\n",
    "param_grid = {\n",
    "    'n_estimators': [100],\n",
    "    'max_depth': [None],\n",
    "    'min_samples_split': [2],\n",
    "    'min_samples_leaf': [1]\n",
    "}\n",
    "\n",
    "model_rf = RandomForestRegressor()\n",
    "\n",
    "reg = GridSearchCV(estimator=model_rf, param_grid=param_grid, return_train_score=True)\n",
    "reg.fit(x_train, y_train)\n",
    "\n",
    "best_model = reg.best_estimator_\n",
    "\n",
    "y_pred = best_model.predict(x_test)\n",
    "\n",
    "perform_RF = best_model.score(x_test, y_test)\n",
    "\n",
    "print(\"Performance of tuned RandomForestRegressor: \", perform_RF)\n"
   ]
  },
  {
   "cell_type": "code",
   "execution_count": null,
   "id": "2bf89591",
   "metadata": {},
   "outputs": [],
   "source": []
  },
  {
   "cell_type": "code",
   "execution_count": null,
   "id": "00f5f3e0",
   "metadata": {},
   "outputs": [],
   "source": []
  },
  {
   "cell_type": "code",
   "execution_count": null,
   "id": "4c176552",
   "metadata": {},
   "outputs": [],
   "source": []
  },
  {
   "cell_type": "code",
   "execution_count": null,
   "id": "db73ba00",
   "metadata": {},
   "outputs": [],
   "source": []
  },
  {
   "cell_type": "code",
   "execution_count": null,
   "id": "187e6e13",
   "metadata": {},
   "outputs": [],
   "source": []
  }
 ],
 "metadata": {
  "kernelspec": {
   "display_name": "Python 3 (ipykernel)",
   "language": "python",
   "name": "python3"
  },
  "language_info": {
   "codemirror_mode": {
    "name": "ipython",
    "version": 3
   },
   "file_extension": ".py",
   "mimetype": "text/x-python",
   "name": "python",
   "nbconvert_exporter": "python",
   "pygments_lexer": "ipython3",
   "version": "3.10.9"
  }
 },
 "nbformat": 4,
 "nbformat_minor": 5
}
