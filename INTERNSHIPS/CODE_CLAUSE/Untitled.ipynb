{
 "cells": [
  {
   "cell_type": "code",
   "execution_count": 3,
   "id": "9a82b093",
   "metadata": {},
   "outputs": [
    {
     "name": "stderr",
     "output_type": "stream",
     "text": [
      "2023-05-06 10:11:45.986 \n",
      "  \u001b[33m\u001b[1mWarning:\u001b[0m to view this Streamlit app on a browser, run it with the following\n",
      "  command:\n",
      "\n",
      "    streamlit run C:\\Users\\deepa\\anaconda3\\lib\\site-packages\\ipykernel_launcher.py [ARGUMENTS]\n"
     ]
    }
   ],
   "source": [
    "import streamlit as st\n",
    "import numpy as np\n",
    "import pickle \n",
    "\n",
    "# import the gold price prediction model\n",
    "R_model=pickle.load(open('R_model.pkl','rb'))\n",
    "df=pickle.load(open('df.pkl','rb'))\n",
    "\n",
    "#title \n",
    "st.title('Gold Price Predictor')\n",
    "\n",
    "# getting the input year from the user\n",
    "year = st.number_input(\"Enter the Year\")\n",
    "\n",
    "# gettin the input month from the use\n",
    "month=st.number_input('Enter the Month')\n",
    "\n",
    "if st.button('Predict Price'):\n",
    "    query=np.array([year,month])\n",
    "    query=query.reshape(1,-1)\n",
    "\n",
    "    st.title(\"The predicted price is :\"+str(int(np.exp(R_model.predict(query)[0]))))\n"
   ]
  },
  {
   "cell_type": "code",
   "execution_count": null,
   "id": "e5451b16",
   "metadata": {},
   "outputs": [],
   "source": [
    "\n"
   ]
  },
  {
   "cell_type": "code",
   "execution_count": null,
   "id": "23231d69",
   "metadata": {},
   "outputs": [],
   "source": []
  }
 ],
 "metadata": {
  "kernelspec": {
   "display_name": "Python 3",
   "language": "python",
   "name": "python3"
  },
  "language_info": {
   "codemirror_mode": {
    "name": "ipython",
    "version": 3
   },
   "file_extension": ".py",
   "mimetype": "text/x-python",
   "name": "python",
   "nbconvert_exporter": "python",
   "pygments_lexer": "ipython3",
   "version": "3.8.8"
  }
 },
 "nbformat": 4,
 "nbformat_minor": 5
}
