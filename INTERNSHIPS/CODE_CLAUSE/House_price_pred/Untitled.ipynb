{
 "cells": [
  {
   "cell_type": "code",
   "execution_count": 1,
   "id": "54dbd335",
   "metadata": {},
   "outputs": [
    {
     "name": "stdout",
     "output_type": "stream",
     "text": [
      "Collecting mlflow\n",
      "  Downloading mlflow-2.3.1-py3-none-any.whl (17.7 MB)\n",
      "Requirement already satisfied: click<9,>=7.0 in c:\\users\\deepa\\anaconda3\\lib\\site-packages (from mlflow) (7.1.2)\n",
      "Requirement already satisfied: gitpython<4,>=2.1.0 in c:\\users\\deepa\\anaconda3\\lib\\site-packages (from mlflow) (3.1.31)\n",
      "Requirement already satisfied: protobuf<5,>=3.12.0 in c:\\users\\deepa\\anaconda3\\lib\\site-packages (from mlflow) (3.20.3)\n",
      "Collecting alembic!=1.10.0,<2\n",
      "  Downloading alembic-1.10.4-py3-none-any.whl (212 kB)\n",
      "Requirement already satisfied: Flask<3 in c:\\users\\deepa\\anaconda3\\lib\\site-packages (from mlflow) (1.1.2)\n",
      "Collecting pyarrow<12,>=4.0.0\n",
      "  Downloading pyarrow-11.0.0-cp38-cp38-win_amd64.whl (20.6 MB)\n",
      "Requirement already satisfied: packaging<24 in c:\\users\\deepa\\anaconda3\\lib\\site-packages (from mlflow) (20.9)\n",
      "Collecting sqlparse<1,>=0.4.0\n",
      "  Downloading sqlparse-0.4.4-py3-none-any.whl (41 kB)\n",
      "Requirement already satisfied: cloudpickle<3 in c:\\users\\deepa\\anaconda3\\lib\\site-packages (from mlflow) (1.6.0)\n",
      "Requirement already satisfied: requests<3,>=2.17.3 in c:\\users\\deepa\\anaconda3\\lib\\site-packages (from mlflow) (2.25.1)\n",
      "Requirement already satisfied: numpy<2 in c:\\users\\deepa\\anaconda3\\lib\\site-packages (from mlflow) (1.24.3)\n",
      "Requirement already satisfied: sqlalchemy<3,>=1.4.0 in c:\\users\\deepa\\anaconda3\\lib\\site-packages (from mlflow) (1.4.7)\n",
      "Requirement already satisfied: importlib-metadata!=4.7.0,<7,>=3.7.0 in c:\\users\\deepa\\anaconda3\\lib\\site-packages (from mlflow) (3.10.0)\n",
      "Requirement already satisfied: pytz<2024 in c:\\users\\deepa\\anaconda3\\lib\\site-packages (from mlflow) (2021.1)\n",
      "Collecting databricks-cli<1,>=0.8.7\n",
      "  Downloading databricks-cli-0.17.6.tar.gz (82 kB)\n",
      "Collecting querystring-parser<2\n",
      "  Downloading querystring_parser-1.2.4-py2.py3-none-any.whl (7.9 kB)\n",
      "Requirement already satisfied: pandas<3 in c:\\users\\deepa\\anaconda3\\lib\\site-packages (from mlflow) (1.2.4)\n",
      "Collecting waitress<3\n",
      "  Downloading waitress-2.1.2-py3-none-any.whl (57 kB)\n",
      "Note: you may need to restart the kernel to use updated packages.\n"
     ]
    },
    {
     "name": "stderr",
     "output_type": "stream",
     "text": [
      "ERROR: Could not install packages due to an OSError: [WinError 5] Access is denied: 'C:\\\\Users\\\\deepa\\\\anaconda3\\\\Lib\\\\site-packages\\\\~arkupsafe\\\\_speedups.cp38-win_amd64.pyd'\n",
      "Consider using the `--user` option or check the permissions.\n",
      "\n"
     ]
    },
    {
     "name": "stdout",
     "output_type": "stream",
     "text": [
      "Requirement already satisfied: entrypoints<1 in c:\\users\\deepa\\anaconda3\\lib\\site-packages (from mlflow) (0.3)\n",
      "Requirement already satisfied: matplotlib<4 in c:\\users\\deepa\\anaconda3\\lib\\site-packages (from mlflow) (3.3.4)\n",
      "Requirement already satisfied: scikit-learn<2 in c:\\users\\deepa\\anaconda3\\lib\\site-packages (from mlflow) (0.24.1)\n",
      "Collecting docker<7,>=4.0.0\n",
      "  Downloading docker-6.1.0-py3-none-any.whl (147 kB)\n",
      "Collecting Jinja2<4,>=3.0\n",
      "  Using cached Jinja2-3.1.2-py3-none-any.whl (133 kB)\n",
      "Collecting markdown<4,>=3.3\n",
      "  Downloading Markdown-3.4.3-py3-none-any.whl (93 kB)\n",
      "Requirement already satisfied: scipy<2 in c:\\users\\deepa\\anaconda3\\lib\\site-packages (from mlflow) (1.6.2)\n",
      "Requirement already satisfied: pyyaml<7,>=5.1 in c:\\users\\deepa\\anaconda3\\lib\\site-packages (from mlflow) (5.4.1)\n",
      "Requirement already satisfied: typing-extensions>=4 in c:\\users\\deepa\\anaconda3\\lib\\site-packages (from alembic!=1.10.0,<2->mlflow) (4.5.0)\n",
      "Collecting Mako\n",
      "  Downloading Mako-1.2.4-py3-none-any.whl (78 kB)\n",
      "Collecting importlib-resources\n",
      "  Downloading importlib_resources-5.12.0-py3-none-any.whl (36 kB)\n",
      "Collecting pyjwt>=1.7.0\n",
      "  Downloading PyJWT-2.6.0-py3-none-any.whl (20 kB)\n",
      "Collecting oauthlib>=3.1.0\n",
      "  Downloading oauthlib-3.2.2-py3-none-any.whl (151 kB)\n",
      "Collecting tabulate>=0.7.7\n",
      "  Downloading tabulate-0.9.0-py3-none-any.whl (35 kB)\n",
      "Requirement already satisfied: six>=1.10.0 in c:\\users\\deepa\\anaconda3\\lib\\site-packages (from databricks-cli<1,>=0.8.7->mlflow) (1.15.0)\n",
      "Collecting websocket-client>=0.32.0\n",
      "  Downloading websocket_client-1.5.1-py3-none-any.whl (55 kB)\n",
      "Requirement already satisfied: urllib3>=1.26.0 in c:\\users\\deepa\\anaconda3\\lib\\site-packages (from docker<7,>=4.0.0->mlflow) (1.26.4)\n",
      "Collecting pywin32>=304\n",
      "  Downloading pywin32-306-cp38-cp38-win_amd64.whl (9.4 MB)\n",
      "Collecting requests<3,>=2.17.3\n",
      "  Using cached requests-2.30.0-py3-none-any.whl (62 kB)\n",
      "Requirement already satisfied: itsdangerous>=0.24 in c:\\users\\deepa\\anaconda3\\lib\\site-packages (from Flask<3->mlflow) (1.1.0)\n",
      "Requirement already satisfied: Werkzeug>=0.15 in c:\\users\\deepa\\anaconda3\\lib\\site-packages (from Flask<3->mlflow) (1.0.1)\n",
      "Requirement already satisfied: gitdb<5,>=4.0.1 in c:\\users\\deepa\\anaconda3\\lib\\site-packages (from gitpython<4,>=2.1.0->mlflow) (4.0.10)\n",
      "Requirement already satisfied: smmap<6,>=3.0.1 in c:\\users\\deepa\\anaconda3\\lib\\site-packages (from gitdb<5,>=4.0.1->gitpython<4,>=2.1.0->mlflow) (5.0.0)\n",
      "Requirement already satisfied: zipp>=0.5 in c:\\users\\deepa\\anaconda3\\lib\\site-packages (from importlib-metadata!=4.7.0,<7,>=3.7.0->mlflow) (3.4.1)\n",
      "Collecting MarkupSafe>=2.0\n",
      "  Downloading MarkupSafe-2.1.2-cp38-cp38-win_amd64.whl (16 kB)\n",
      "Collecting importlib-metadata!=4.7.0,<7,>=3.7.0\n",
      "  Using cached importlib_metadata-6.6.0-py3-none-any.whl (22 kB)\n",
      "Requirement already satisfied: python-dateutil>=2.1 in c:\\users\\deepa\\anaconda3\\lib\\site-packages (from matplotlib<4->mlflow) (2.8.2)\n",
      "Requirement already satisfied: cycler>=0.10 in c:\\users\\deepa\\anaconda3\\lib\\site-packages (from matplotlib<4->mlflow) (0.10.0)\n",
      "Requirement already satisfied: pyparsing!=2.0.4,!=2.1.2,!=2.1.6,>=2.0.3 in c:\\users\\deepa\\anaconda3\\lib\\site-packages (from matplotlib<4->mlflow) (2.4.7)\n",
      "Requirement already satisfied: pillow>=6.2.0 in c:\\users\\deepa\\anaconda3\\lib\\site-packages (from matplotlib<4->mlflow) (8.2.0)\n",
      "Requirement already satisfied: kiwisolver>=1.0.1 in c:\\users\\deepa\\anaconda3\\lib\\site-packages (from matplotlib<4->mlflow) (1.3.1)\n",
      "Requirement already satisfied: certifi>=2017.4.17 in c:\\users\\deepa\\anaconda3\\lib\\site-packages (from requests<3,>=2.17.3->mlflow) (2020.12.5)\n",
      "Collecting charset-normalizer<4,>=2\n",
      "  Downloading charset_normalizer-3.1.0-cp38-cp38-win_amd64.whl (96 kB)\n",
      "Requirement already satisfied: idna<4,>=2.5 in c:\\users\\deepa\\anaconda3\\lib\\site-packages (from requests<3,>=2.17.3->mlflow) (2.10)\n",
      "Requirement already satisfied: joblib>=0.11 in c:\\users\\deepa\\anaconda3\\lib\\site-packages (from scikit-learn<2->mlflow) (1.0.1)\n",
      "Requirement already satisfied: threadpoolctl>=2.0.0 in c:\\users\\deepa\\anaconda3\\lib\\site-packages (from scikit-learn<2->mlflow) (2.1.0)\n",
      "Collecting numpy<2\n",
      "  Downloading numpy-1.22.4-cp38-cp38-win_amd64.whl (14.8 MB)\n",
      "Requirement already satisfied: greenlet!=0.4.17 in c:\\users\\deepa\\anaconda3\\lib\\site-packages (from sqlalchemy<3,>=1.4.0->mlflow) (1.0.0)\n",
      "Building wheels for collected packages: databricks-cli\n",
      "  Building wheel for databricks-cli (setup.py): started\n",
      "  Building wheel for databricks-cli (setup.py): finished with status 'done'\n",
      "  Created wheel for databricks-cli: filename=databricks_cli-0.17.6-py3-none-any.whl size=143238 sha256=6f996d9a6989c66b66570ceccf8ea38e54ae73eab9b7f2111251b5ddf2aaf774\n",
      "  Stored in directory: c:\\users\\deepa\\appdata\\local\\pip\\cache\\wheels\\b5\\8c\\5a\\7fc79f35b90e8e526564bd3a98db9e011ee88b27b616eafa0e\n",
      "Successfully built databricks-cli\n",
      "Installing collected packages: numpy, MarkupSafe, charset-normalizer, websocket-client, tabulate, requests, pywin32, pyjwt, oauthlib, Mako, Jinja2, importlib-resources, importlib-metadata, waitress, sqlparse, querystring-parser, pyarrow, markdown, docker, databricks-cli, alembic, mlflow\n",
      "  Attempting uninstall: numpy\n",
      "    Found existing installation: numpy 1.24.3\n",
      "    Uninstalling numpy-1.24.3:\n",
      "      Successfully uninstalled numpy-1.24.3\n",
      "  Attempting uninstall: MarkupSafe\n",
      "    Found existing installation: MarkupSafe 1.1.1\n",
      "    Uninstalling MarkupSafe-1.1.1:\n",
      "      Successfully uninstalled MarkupSafe-1.1.1\n"
     ]
    }
   ],
   "source": [
    "pip install mlflow"
   ]
  },
  {
   "cell_type": "code",
   "execution_count": null,
   "id": "1bd6e4da",
   "metadata": {},
   "outputs": [],
   "source": []
  }
 ],
 "metadata": {
  "kernelspec": {
   "display_name": "Python 3",
   "language": "python",
   "name": "python3"
  },
  "language_info": {
   "codemirror_mode": {
    "name": "ipython",
    "version": 3
   },
   "file_extension": ".py",
   "mimetype": "text/x-python",
   "name": "python",
   "nbconvert_exporter": "python",
   "pygments_lexer": "ipython3",
   "version": "3.8.8"
  }
 },
 "nbformat": 4,
 "nbformat_minor": 5
}
