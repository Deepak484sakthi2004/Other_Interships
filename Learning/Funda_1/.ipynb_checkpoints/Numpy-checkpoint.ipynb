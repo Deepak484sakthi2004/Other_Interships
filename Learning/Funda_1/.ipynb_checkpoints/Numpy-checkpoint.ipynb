{
 "cells": [
  {
   "cell_type": "raw",
   "id": "fa3dc775",
   "metadata": {},
   "source": [
    "Numpy has some some of the subscripts of C language, so it is faster\n",
    "pip install numpy\n",
    "conda install numpy"
   ]
  },
  {
   "cell_type": "code",
   "execution_count": 1,
   "id": "aa3a5d5c",
   "metadata": {},
   "outputs": [],
   "source": [
    "import numpy as np"
   ]
  },
  {
   "cell_type": "code",
   "execution_count": 2,
   "id": "63dfa75e",
   "metadata": {},
   "outputs": [],
   "source": [
    "# creating an array\n",
    "list=[]\n",
    "arr=np.array(list)"
   ]
  },
  {
   "cell_type": "code",
   "execution_count": 3,
   "id": "0889c682",
   "metadata": {},
   "outputs": [
    {
     "data": {
      "text/plain": [
       "array([], dtype=float64)"
      ]
     },
     "execution_count": 3,
     "metadata": {},
     "output_type": "execute_result"
    }
   ],
   "source": [
    "arr\n",
    "#look, implicitly the array takes up the floating pt. dtype"
   ]
  },
  {
   "cell_type": "code",
   "execution_count": 4,
   "id": "68eeaa1f",
   "metadata": {},
   "outputs": [
    {
     "data": {
      "text/plain": [
       "numpy.ndarray"
      ]
     },
     "execution_count": 4,
     "metadata": {},
     "output_type": "execute_result"
    }
   ],
   "source": [
    "type(arr)"
   ]
  },
  {
   "cell_type": "code",
   "execution_count": 10,
   "id": "3bae34bd",
   "metadata": {},
   "outputs": [],
   "source": [
    "#explicitly defining the array\n",
    "l=[1,2,3,4]\n",
    "arr1=np.array(l)"
   ]
  },
  {
   "cell_type": "code",
   "execution_count": 17,
   "id": "633b26c0",
   "metadata": {},
   "outputs": [],
   "source": [
    "#implicit method\n",
    "arr2=np.array([1.2,1.3,2.4,2])"
   ]
  },
  {
   "cell_type": "code",
   "execution_count": 18,
   "id": "2b935a8a",
   "metadata": {},
   "outputs": [
    {
     "data": {
      "text/plain": [
       "array([1.2, 1.3, 2.4, 2. ])"
      ]
     },
     "execution_count": 18,
     "metadata": {},
     "output_type": "execute_result"
    }
   ],
   "source": [
    "arr2"
   ]
  },
  {
   "cell_type": "code",
   "execution_count": 26,
   "id": "b6b3b9da",
   "metadata": {},
   "outputs": [
    {
     "name": "stdout",
     "output_type": "stream",
     "text": [
      "[1.2 2.1 3.6 3.4 7. ] \n",
      " [1 2 3 3 7]\n"
     ]
    }
   ],
   "source": [
    "# typecasting the data \n",
    "list_1=[1.2,2.1,3.6,3.4,7]\n",
    "\n",
    "arr3=np.array(list_1)\n",
    "\n",
    "arr4=np.array(list_1,dtype='int32') # or dtype=int\n",
    "\n",
    "print(arr3,'\\n',arr4)"
   ]
  },
  {
   "cell_type": "code",
   "execution_count": 34,
   "id": "b08841bd",
   "metadata": {},
   "outputs": [],
   "source": [
    "# ones and zeroes using numpy\n",
    "\n",
    "arr5=np.zeros([2,2])"
   ]
  },
  {
   "cell_type": "code",
   "execution_count": 35,
   "id": "87658317",
   "metadata": {},
   "outputs": [
    {
     "data": {
      "text/plain": [
       "array([[0., 0.],\n",
       "       [0., 0.]])"
      ]
     },
     "execution_count": 35,
     "metadata": {},
     "output_type": "execute_result"
    }
   ],
   "source": [
    "arr5"
   ]
  },
  {
   "cell_type": "code",
   "execution_count": 32,
   "id": "13dcce4c",
   "metadata": {},
   "outputs": [
    {
     "data": {
      "text/plain": [
       "array([[1, 1, 1],\n",
       "       [1, 1, 1]])"
      ]
     },
     "execution_count": 32,
     "metadata": {},
     "output_type": "execute_result"
    }
   ],
   "source": [
    "arr6=np.ones([2,3],dtype=int)\n",
    "arr6"
   ]
  },
  {
   "cell_type": "code",
   "execution_count": 37,
   "id": "1ee50e06",
   "metadata": {},
   "outputs": [
    {
     "data": {
      "text/plain": [
       "array([0, 1, 2, 3, 4, 5, 6, 7, 8, 9])"
      ]
     },
     "execution_count": 37,
     "metadata": {},
     "output_type": "execute_result"
    }
   ],
   "source": [
    "arr=np.arange(0,10)\n",
    "arr"
   ]
  },
  {
   "cell_type": "code",
   "execution_count": 38,
   "id": "11cc7008",
   "metadata": {},
   "outputs": [
    {
     "data": {
      "text/plain": [
       "array([ 3. ,  4.4,  5.8,  7.2,  8.6, 10. , 11.4])"
      ]
     },
     "execution_count": 38,
     "metadata": {},
     "output_type": "execute_result"
    }
   ],
   "source": [
    "arr=np.arange(3,12,1.4) #the third column is the step\n",
    "arr"
   ]
  },
  {
   "cell_type": "code",
   "execution_count": 43,
   "id": "f8b0f78a",
   "metadata": {},
   "outputs": [
    {
     "data": {
      "text/plain": [
       "array([0, 2, 4, 6, 8])"
      ]
     },
     "execution_count": 43,
     "metadata": {},
     "output_type": "execute_result"
    }
   ],
   "source": [
    "arr=np.arange(10,step=2)\n",
    "arr"
   ]
  },
  {
   "cell_type": "code",
   "execution_count": 46,
   "id": "aa69eefd",
   "metadata": {},
   "outputs": [
    {
     "data": {
      "text/plain": [
       "array([ 1.  ,  1.18,  1.36,  1.54,  1.72,  1.9 ,  2.08,  2.26,  2.44,\n",
       "        2.62,  2.8 ,  2.98,  3.16,  3.34,  3.52,  3.7 ,  3.88,  4.06,\n",
       "        4.24,  4.42,  4.6 ,  4.78,  4.96,  5.14,  5.32,  5.5 ,  5.68,\n",
       "        5.86,  6.04,  6.22,  6.4 ,  6.58,  6.76,  6.94,  7.12,  7.3 ,\n",
       "        7.48,  7.66,  7.84,  8.02,  8.2 ,  8.38,  8.56,  8.74,  8.92,\n",
       "        9.1 ,  9.28,  9.46,  9.64,  9.82, 10.  ])"
      ]
     },
     "execution_count": 46,
     "metadata": {},
     "output_type": "execute_result"
    }
   ],
   "source": [
    "arr=np.linspace(1,10,51)\n",
    "# np.linspace(start,end,no_of_datapoints)\n",
    "arr"
   ]
  },
  {
   "cell_type": "code",
   "execution_count": 48,
   "id": "224a5cd5",
   "metadata": {},
   "outputs": [
    {
     "data": {
      "text/plain": [
       "(51,)"
      ]
     },
     "execution_count": 48,
     "metadata": {},
     "output_type": "execute_result"
    }
   ],
   "source": [
    "arr.shape"
   ]
  },
  {
   "cell_type": "code",
   "execution_count": 49,
   "id": "fb92d610",
   "metadata": {},
   "outputs": [],
   "source": [
    "#reshape"
   ]
  },
  {
   "cell_type": "code",
   "execution_count": 61,
   "id": "8927c98e",
   "metadata": {},
   "outputs": [
    {
     "data": {
      "text/plain": [
       "array([ 0, 10, 20, 30, 40, 50, 60, 70, 80, 90])"
      ]
     },
     "execution_count": 61,
     "metadata": {},
     "output_type": "execute_result"
    }
   ],
   "source": [
    "arr=np.arange(100,step=10)\n",
    "arr"
   ]
  },
  {
   "cell_type": "code",
   "execution_count": 62,
   "id": "1c664009",
   "metadata": {},
   "outputs": [
    {
     "data": {
      "text/plain": [
       "array([  0,  10,  20,  30,  40, 200, 200, 200, 200, 200])"
      ]
     },
     "execution_count": 62,
     "metadata": {},
     "output_type": "execute_result"
    }
   ],
   "source": [
    "arr[5:]=200\n",
    "arr"
   ]
  },
  {
   "cell_type": "code",
   "execution_count": 63,
   "id": "416246d7",
   "metadata": {},
   "outputs": [
    {
     "name": "stdout",
     "output_type": "stream",
     "text": [
      "[ True  True  True  True  True False False False False False]\n",
      "[ 0 10 20 30 40]\n",
      "[ 0  1  2  3  4 20 20 20 20 20]\n",
      "[ 23  33  43  53  63 223 223 223 223 223]\n"
     ]
    }
   ],
   "source": [
    "# used in EDA , rarely used way to detect the outliers!!\n",
    "print(arr<70)\n",
    "print(arr[arr<200])\n",
    "\n",
    "\n",
    "print(arr//10)\n",
    "\n",
    "print(arr+23)"
   ]
  },
  {
   "cell_type": "code",
   "execution_count": 55,
   "id": "427f0dea",
   "metadata": {},
   "outputs": [
    {
     "data": {
      "text/plain": [
       "(10,)"
      ]
     },
     "execution_count": 55,
     "metadata": {},
     "output_type": "execute_result"
    }
   ],
   "source": [
    "arr=np.arange(0,50,5)\n",
    "arr.shape"
   ]
  },
  {
   "cell_type": "code",
   "execution_count": 58,
   "id": "a5666f45",
   "metadata": {},
   "outputs": [
    {
     "name": "stdout",
     "output_type": "stream",
     "text": [
      "[[ 0 10 20 30 40]\n",
      " [50 60 70 80 90]] \n",
      " (2, 5)\n"
     ]
    }
   ],
   "source": [
    "arr=np.arange(100,step=10).reshape(2,5)\n",
    "print(arr,'\\n',arr.shape)"
   ]
  },
  {
   "cell_type": "code",
   "execution_count": 67,
   "id": "0ca66303",
   "metadata": {},
   "outputs": [
    {
     "data": {
      "text/plain": [
       "array([[0.06582366, 0.72637252, 0.05481447],\n",
       "       [0.0298863 , 0.71841226, 0.32093984],\n",
       "       [0.04641524, 0.29186966, 0.25362864]])"
      ]
     },
     "execution_count": 67,
     "metadata": {},
     "output_type": "execute_result"
    }
   ],
   "source": [
    "#random distribution\n",
    "arr=np.random.rand(3,3)\n",
    "arr"
   ]
  },
  {
   "cell_type": "code",
   "execution_count": 70,
   "id": "54861909",
   "metadata": {},
   "outputs": [
    {
     "data": {
      "text/plain": [
       "array([[-0.51161468, -1.64753628,  1.12614572,  0.59705125],\n",
       "       [ 1.27461902,  0.00410335,  0.28170494, -0.41330929],\n",
       "       [-0.73798374,  0.63936007, -1.32682519, -0.34900611],\n",
       "       [ 0.20481222, -0.6519574 , -0.45721608,  0.19494725],\n",
       "       [ 1.48391182,  0.02626301, -0.15467253, -0.38902819]])"
      ]
     },
     "execution_count": 70,
     "metadata": {},
     "output_type": "execute_result"
    }
   ],
   "source": [
    "# normal distribution\n",
    "arr_ex=np.random.randn(5,4)\n",
    "arr_ex"
   ]
  },
  {
   "cell_type": "code",
   "execution_count": 71,
   "id": "185a31e8",
   "metadata": {},
   "outputs": [
    {
     "data": {
      "text/plain": [
       "array([[0.06582366, 0.72637252, 0.05481447],\n",
       "       [0.0298863 , 0.71841226, 0.32093984],\n",
       "       [0.04641524, 0.29186966, 0.25362864]])"
      ]
     },
     "execution_count": 71,
     "metadata": {},
     "output_type": "execute_result"
    }
   ],
   "source": [
    "arr1=arr.copy()\n",
    "arr1"
   ]
  },
  {
   "cell_type": "code",
   "execution_count": 75,
   "id": "73e7a2c0",
   "metadata": {},
   "outputs": [
    {
     "data": {
      "text/plain": [
       "array([65, 38, 45, 94,  3, 78, 67, 28, 54, 78, 20, 29, 63, 42,  6, 61, 95,\n",
       "       50, 32, 98, 16, 28,  4, 33, 34, 19, 27, 99, 78, 32, 56, 72,  7, 88,\n",
       "       31, 35, 70,  5, 23,  7])"
      ]
     },
     "execution_count": 75,
     "metadata": {},
     "output_type": "execute_result"
    }
   ],
   "source": [
    "np.random.randint(3,100,40)\n",
    "# np.random.radint(start,end,no_of_datapt.)"
   ]
  },
  {
   "cell_type": "raw",
   "id": "3ee0b73f",
   "metadata": {},
   "source": [
    "BROADCASTING:\n",
    "The broadcasting mechanism in NumPy works by implicitly replicating the smaller array to match the shape of the larger array, so that the two arrays have compatible shapes for the operation being performed. This allows for more concise and efficient code when working with arrays of different shapes."
   ]
  },
  {
   "cell_type": "code",
   "execution_count": 87,
   "id": "50a379b3",
   "metadata": {},
   "outputs": [
    {
     "name": "stdout",
     "output_type": "stream",
     "text": [
      "[[ 0  1  2  3  4]\n",
      " [ 5  6  7  8  9]\n",
      " [10 11 12 13 14]\n",
      " [15 16 17 18 19]]\n",
      "[0 2 4 6 8]\n",
      "(4, 5) (5,)\n"
     ]
    }
   ],
   "source": [
    "'''Addition of matrices is possible if they of same shape\n",
    "But numpy broadcasting allows to add different shapes with some conditions'''\n",
    "\n",
    "arr1=np.arange(20).reshape(4,5)\n",
    "\n",
    "arr2=np.arange(10,step=2)\n",
    "\n",
    "print(arr1)\n",
    "print(arr2)\n",
    "\n",
    "print(arr1.shape,arr2.shape)"
   ]
  },
  {
   "cell_type": "code",
   "execution_count": 86,
   "id": "f88604fa",
   "metadata": {},
   "outputs": [
    {
     "name": "stdout",
     "output_type": "stream",
     "text": [
      "[[ 0  3  6  9 12]\n",
      " [ 5  8 11 14 17]\n",
      " [10 13 16 19 22]\n",
      " [15 18 21 24 27]]\n"
     ]
    }
   ],
   "source": [
    "print(arr1+arr2)"
   ]
  },
  {
   "cell_type": "raw",
   "id": "d7472f09",
   "metadata": {},
   "source": [
    "it is because of (p,q) and (m,n)\n",
    "if either if it has to be one or same\n",
    "\n",
    "arr1     4    5            \n",
    "arr2     1    5\n",
    "\n",
    "so the resultant array has the size(4,5)\n",
    "\n",
    "for example:\n",
    "\n",
    "arr1     4    5            \n",
    "arr2     1    4\n",
    "\n",
    "it returns an error"
   ]
  },
  {
   "cell_type": "code",
   "execution_count": 88,
   "id": "03889508",
   "metadata": {},
   "outputs": [
    {
     "ename": "ValueError",
     "evalue": "cannot reshape array of size 4 into shape (4,5)",
     "output_type": "error",
     "traceback": [
      "\u001b[1;31m---------------------------------------------------------------------------\u001b[0m",
      "\u001b[1;31mValueError\u001b[0m                                Traceback (most recent call last)",
      "\u001b[1;32m<ipython-input-88-38e77bbfbc1d>\u001b[0m in \u001b[0;36m<module>\u001b[1;34m\u001b[0m\n\u001b[1;32m----> 1\u001b[1;33m \u001b[0marr1\u001b[0m\u001b[1;33m=\u001b[0m\u001b[0mnp\u001b[0m\u001b[1;33m.\u001b[0m\u001b[0marange\u001b[0m\u001b[1;33m(\u001b[0m\u001b[1;36m20\u001b[0m\u001b[1;33m,\u001b[0m\u001b[1;36m100\u001b[0m\u001b[1;33m,\u001b[0m\u001b[1;36m20\u001b[0m\u001b[1;33m)\u001b[0m\u001b[1;33m.\u001b[0m\u001b[0mreshape\u001b[0m\u001b[1;33m(\u001b[0m\u001b[1;36m4\u001b[0m\u001b[1;33m,\u001b[0m\u001b[1;36m5\u001b[0m\u001b[1;33m)\u001b[0m\u001b[1;33m\u001b[0m\u001b[1;33m\u001b[0m\u001b[0m\n\u001b[0m\u001b[0;32m      2\u001b[0m \u001b[0marr2\u001b[0m\u001b[1;33m=\u001b[0m\u001b[0mnp\u001b[0m\u001b[1;33m.\u001b[0m\u001b[0marange\u001b[0m\u001b[1;33m(\u001b[0m\u001b[1;36m16\u001b[0m\u001b[1;33m,\u001b[0m\u001b[0mstep\u001b[0m\u001b[1;33m=\u001b[0m\u001b[1;36m4\u001b[0m\u001b[1;33m)\u001b[0m\u001b[1;33m.\u001b[0m\u001b[0mreshape\u001b[0m\u001b[1;33m(\u001b[0m\u001b[1;36m1\u001b[0m\u001b[1;33m,\u001b[0m\u001b[1;36m4\u001b[0m\u001b[1;33m)\u001b[0m\u001b[1;33m\u001b[0m\u001b[1;33m\u001b[0m\u001b[0m\n\u001b[0;32m      3\u001b[0m \u001b[1;33m\u001b[0m\u001b[0m\n\u001b[0;32m      4\u001b[0m \u001b[0mprint\u001b[0m\u001b[1;33m(\u001b[0m\u001b[0marr1\u001b[0m\u001b[1;33m+\u001b[0m\u001b[0marr2\u001b[0m\u001b[1;33m)\u001b[0m\u001b[1;33m\u001b[0m\u001b[1;33m\u001b[0m\u001b[0m\n",
      "\u001b[1;31mValueError\u001b[0m: cannot reshape array of size 4 into shape (4,5)"
     ]
    }
   ],
   "source": [
    "arr1=np.arange(20,100,20).reshape(4,5)\n",
    "arr2=np.arange(16,step=4).reshape(1,4)\n",
    "\n",
    "print(arr1+arr2)"
   ]
  },
  {
   "cell_type": "code",
   "execution_count": null,
   "id": "bed5b960",
   "metadata": {},
   "outputs": [],
   "source": []
  },
  {
   "cell_type": "raw",
   "id": "be628deb",
   "metadata": {},
   "source": [
    "STACK:\n",
    "a function that is used to stack arrays in sequence vertically (row-wise) or horizontally (column-wise) to create a new array."
   ]
  },
  {
   "cell_type": "code",
   "execution_count": 102,
   "id": "ecf5f8ba",
   "metadata": {},
   "outputs": [],
   "source": [
    "arr1=np.random.randint(30,100,50).reshape(50,1)\n",
    "arr2=np.random.randint(0,300,50).reshape(50,1)\n",
    "\n",
    "arr3=np.stack((arr1,arr2),axis=0) \n",
    "# the axis=0 argument to stack the arrays vertically. Add an other row"
   ]
  },
  {
   "cell_type": "code",
   "execution_count": 103,
   "id": "7d472728",
   "metadata": {},
   "outputs": [
    {
     "data": {
      "text/plain": [
       "(2, 50, 1)"
      ]
     },
     "execution_count": 103,
     "metadata": {},
     "output_type": "execute_result"
    }
   ],
   "source": [
    "arr3.shape  \n",
    "#so it becomes 2 rows , 50 columns and depth of 2 "
   ]
  },
  {
   "cell_type": "code",
   "execution_count": 106,
   "id": "1be8a26a",
   "metadata": {},
   "outputs": [
    {
     "data": {
      "text/plain": [
       "(50, 2)"
      ]
     },
     "execution_count": 106,
     "metadata": {},
     "output_type": "execute_result"
    }
   ],
   "source": [
    "#COLUMN STACK\n",
    "arr4=np.column_stack((arr1,arr2))\n",
    "arr4.shape"
   ]
  },
  {
   "cell_type": "raw",
   "id": "7ce7848b",
   "metadata": {},
   "source": [
    "Arg_sort:\n",
    "function to get the indices that would sort the array a in ascending order."
   ]
  },
  {
   "cell_type": "code",
   "execution_count": 109,
   "id": "5d6aa9ce",
   "metadata": {},
   "outputs": [
    {
     "name": "stdout",
     "output_type": "stream",
     "text": [
      "[[1 0]\n",
      " [1 0]]\n"
     ]
    }
   ],
   "source": [
    "\n",
    "a = np.array([[3, 1], [4, 2]])\n",
    "\n",
    "# Sort the array along the last axis\n",
    "indices = np.argsort(a, axis=-1)\n",
    "\n",
    "# Print the sorted indices\n",
    "print(indices)\n"
   ]
  },
  {
   "cell_type": "code",
   "execution_count": null,
   "id": "2ba77727",
   "metadata": {},
   "outputs": [],
   "source": []
  }
 ],
 "metadata": {
  "kernelspec": {
   "display_name": "Python 3",
   "language": "python",
   "name": "python3"
  },
  "language_info": {
   "codemirror_mode": {
    "name": "ipython",
    "version": 3
   },
   "file_extension": ".py",
   "mimetype": "text/x-python",
   "name": "python",
   "nbconvert_exporter": "python",
   "pygments_lexer": "ipython3",
   "version": "3.8.8"
  }
 },
 "nbformat": 4,
 "nbformat_minor": 5
}
