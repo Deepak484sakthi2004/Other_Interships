{
 "cells": [
  {
   "cell_type": "raw",
   "id": "308d6fed",
   "metadata": {},
   "source": [
    "\n",
    "String\n",
    "capitalize\n",
    "\n",
    "strname.center(str size,*)\n",
    "=*strcontent**\n",
    "==if the str size is less than the strcontent size the string just prints off completely\n",
    "\n",
    "strname.replace(strold,newstr,count)~ the count is the no. of oldstr has to be changed into newstr\n",
    "\n",
    "upper()\n",
    "lower()\n",
    "endswith(\"strletter\")=returns a bool\n",
    "\n",
    "\n"
   ]
  },
  {
   "cell_type": "code",
   "execution_count": 5,
   "id": "59ebf089",
   "metadata": {},
   "outputs": [
    {
     "name": "stdout",
     "output_type": "stream",
     "text": [
      "Data science is the study of data to extract meaningful insights for business. it is a multidisciplinary approach that combines principles and practices from the fields of mathematics, statistics, artificial intelligence, and computer engineering to analyze large amounts of data.\n",
      "-------------\n"
     ]
    },
    {
     "data": {
      "text/plain": [
       "True"
      ]
     },
     "execution_count": 5,
     "metadata": {},
     "output_type": "execute_result"
    }
   ],
   "source": [
    "str=\"data science is the study of data to extract meaningful insights for business. It is a multidisciplinary approach that combines principles and practices from the fields of mathematics, statistics, artificial intelligence, and computer engineering to analyze large amounts of data.\"\n",
    "\n",
    "print(str.capitalize())\n",
    "print(\"-------------\")\n",
    "str.replace(\"the\",\"THE\",5)\n",
    "\n",
    "str.endswith(\".\")"
   ]
  },
  {
   "cell_type": "markdown",
   "id": "6b8e45d9",
   "metadata": {},
   "source": [
    "# List"
   ]
  },
  {
   "cell_type": "raw",
   "id": "aa9d4684",
   "metadata": {},
   "source": [
    "CRUD\n",
    "\n",
    "create \n",
    "read\n",
    "update\n",
    "delete\n",
    "\n",
    "del(position) =del listname[index]\n",
    "remove(element)== if element not in the list returns an error\n",
    "extend(list)\n",
    "pop(position)\n",
    "append()\n",
    "insert(index,element)\n",
    "\n",
    "listrname.clear()-> removesall the elements and return an empty list\n",
    "listname.copy()\n",
    "listname.count(element)=find the element repetation count\n",
    "\n",
    "list.sort(reverse=True)\n",
    "min\n",
    "max\n",
    "len\n",
    "reverse\n",
    "\n",
    "l.count(element)\n"
   ]
  },
  {
   "cell_type": "markdown",
   "id": "bd384da0",
   "metadata": {},
   "source": [
    "# Tuple\n",
    "Add two tuples t1+t2\n",
    "count=t.count(element)\n",
    "\n",
    "index=t.index(element)\n",
    "\n",
    "\n",
    "tup=(\"first\")-> it is a string , the python takes it as a string\n",
    "in order th=o make it a tuple\n",
    "tup=(\"first\",)->now it is a tuple\n"
   ]
  },
  {
   "cell_type": "code",
   "execution_count": 6,
   "id": "5ad1afa1",
   "metadata": {},
   "outputs": [
    {
     "name": "stdout",
     "output_type": "stream",
     "text": [
      "0\n"
     ]
    },
    {
     "data": {
      "text/plain": [
       "1"
      ]
     },
     "execution_count": 6,
     "metadata": {},
     "output_type": "execute_result"
    }
   ],
   "source": [
    "tup=(1,2,3,5,1,2,4)\n",
    "print(tup.index(1))\n",
    "tup.index(2)"
   ]
  },
  {
   "cell_type": "code",
   "execution_count": 8,
   "id": "766b2d11",
   "metadata": {},
   "outputs": [
    {
     "data": {
      "text/plain": [
       "4"
      ]
     },
     "execution_count": 8,
     "metadata": {},
     "output_type": "execute_result"
    }
   ],
   "source": [
    "tup.index(1,True)"
   ]
  },
  {
   "cell_type": "markdown",
   "id": "611ce263",
   "metadata": {},
   "source": [
    "# Dictionary"
   ]
  },
  {
   "cell_type": "code",
   "execution_count": 10,
   "id": "e7b80a67",
   "metadata": {},
   "outputs": [
    {
     "data": {
      "text/plain": [
       "{'table': 'world'}"
      ]
     },
     "execution_count": 10,
     "metadata": {},
     "output_type": "execute_result"
    }
   ],
   "source": [
    "d={'table':\"hello\",'table':\"world\"}\n",
    "d"
   ]
  },
  {
   "cell_type": "markdown",
   "id": "ee72847e",
   "metadata": {},
   "source": [
    "the key table has been overriden in the d dictionary\n",
    "\n",
    "CRUD\n",
    "\n",
    "in order to access an elemnt , there are two ways-> list way , get "
   ]
  },
  {
   "cell_type": "code",
   "execution_count": 12,
   "id": "3c79f205",
   "metadata": {},
   "outputs": [
    {
     "name": "stdout",
     "output_type": "stream",
     "text": [
      "apartment\n",
      "anna\n"
     ]
    }
   ],
   "source": [
    "dict={\"house\":\"apartment\",\"street\":\"anna\",\"door_no\":\"163\"}\n",
    "print(dict[\"house\"])\n",
    "print(dict.get(\"street\"))"
   ]
  },
  {
   "cell_type": "code",
   "execution_count": 16,
   "id": "b90e5bcd",
   "metadata": {},
   "outputs": [
    {
     "data": {
      "text/plain": [
       "{'house': 'sakthi illam', 'street': 'ovvai', 'door_no': '163'}"
      ]
     },
     "execution_count": 16,
     "metadata": {},
     "output_type": "execute_result"
    }
   ],
   "source": [
    "#updating \n",
    "dict[\"street\"]=\"ovvai\"# it is by list method\n",
    "dict\n",
    "\n",
    "#in offline compiler when the dictionary is updated using list method , the updated key value pair \n",
    "#moves on to the last index"
   ]
  },
  {
   "cell_type": "code",
   "execution_count": 18,
   "id": "31232396",
   "metadata": {},
   "outputs": [
    {
     "data": {
      "text/plain": [
       "{'house': 'sakthi illam', 'street': 'avvai st', 'door_no': '163'}"
      ]
     },
     "execution_count": 18,
     "metadata": {},
     "output_type": "execute_result"
    }
   ],
   "source": [
    "dict.update({\"street\":\"avvai st\"})\n",
    "dict\n",
    "# it doesn't affect the indexing ..."
   ]
  },
  {
   "cell_type": "code",
   "execution_count": 20,
   "id": "747bbc67",
   "metadata": {},
   "outputs": [
    {
     "data": {
      "text/plain": [
       "'avvai st'"
      ]
     },
     "execution_count": 20,
     "metadata": {},
     "output_type": "execute_result"
    }
   ],
   "source": [
    "#dict.pop(key)\n",
    "dict.pop(\"street\")# atleast one argument is required\n"
   ]
  },
  {
   "cell_type": "code",
   "execution_count": 21,
   "id": "16b0516a",
   "metadata": {},
   "outputs": [
    {
     "data": {
      "text/plain": [
       "{'house': 'sakthi illam', 'door_no': '163'}"
      ]
     },
     "execution_count": 21,
     "metadata": {},
     "output_type": "execute_result"
    }
   ],
   "source": [
    "dict\n"
   ]
  },
  {
   "cell_type": "code",
   "execution_count": 22,
   "id": "5adb4622",
   "metadata": {},
   "outputs": [
    {
     "data": {
      "text/plain": [
       "('door_no', '163')"
      ]
     },
     "execution_count": 22,
     "metadata": {},
     "output_type": "execute_result"
    }
   ],
   "source": [
    "dict.popitem()#no arguement required, it pops up a random key value pair (for version before 3.7-w3school)"
   ]
  },
  {
   "cell_type": "markdown",
   "id": "49aa4158",
   "metadata": {},
   "source": [
    "l=dict.copy()\n",
    "dict.keys()-> it returns all the keys in the dictionary\n",
    "dict.values() -> it returns all the values in the dictionary\n"
   ]
  },
  {
   "cell_type": "code",
   "execution_count": 23,
   "id": "439fda28",
   "metadata": {},
   "outputs": [],
   "source": [
    "diction={\"cloud\":[\"aws\",\"gcp\",\"azure\",\"heroku\"],\"engine\":[\"chrome\",\"brave\",\"safari\"]}\n",
    "# the above one is a valid dictionary\n",
    "dict={\"prog\":{\"python\":\"data science\"}}\n"
   ]
  },
  {
   "cell_type": "code",
   "execution_count": 26,
   "id": "e34265e3",
   "metadata": {},
   "outputs": [
    {
     "name": "stdout",
     "output_type": "stream",
     "text": [
      "['aws', 'gcp', 'azure', 'heroku']\n"
     ]
    },
    {
     "data": {
      "text/plain": [
       "'heroku'"
      ]
     },
     "execution_count": 26,
     "metadata": {},
     "output_type": "execute_result"
    }
   ],
   "source": [
    "print(diction.get(\"cloud\"))\n",
    "diction.get(\"cloud\")[3]"
   ]
  },
  {
   "cell_type": "code",
   "execution_count": 28,
   "id": "4a554b55",
   "metadata": {},
   "outputs": [
    {
     "data": {
      "text/plain": [
       "'data science'"
      ]
     },
     "execution_count": 28,
     "metadata": {},
     "output_type": "execute_result"
    }
   ],
   "source": [
    "dict.get(\"prog\").get(\"python\")\n",
    "#or using the list method\n",
    "# dict[\"prog\"][\"python\"]"
   ]
  },
  {
   "cell_type": "markdown",
   "id": "84a85133",
   "metadata": {},
   "source": [
    "# Sets"
   ]
  },
  {
   "cell_type": "markdown",
   "id": "14e01ea5",
   "metadata": {},
   "source": [
    "set is unordered , the input order is not followed\n",
    "\n",
    "The sets are unchangeable , type cast to list change and again type cast it into set\n"
   ]
  },
  {
   "cell_type": "code",
   "execution_count": 30,
   "id": "a962a41a",
   "metadata": {},
   "outputs": [
    {
     "data": {
      "text/plain": [
       "dict"
      ]
     },
     "execution_count": 30,
     "metadata": {},
     "output_type": "execute_result"
    }
   ],
   "source": [
    "s={}\n",
    "type(s)"
   ]
  },
  {
   "cell_type": "code",
   "execution_count": 31,
   "id": "2d9602e5",
   "metadata": {},
   "outputs": [
    {
     "data": {
      "text/plain": [
       "{'Orange', 'apple', 'banana', 'orange'}"
      ]
     },
     "execution_count": 31,
     "metadata": {},
     "output_type": "execute_result"
    }
   ],
   "source": [
    "s={\"apple\",\"orange\",\"Orange\",\"banana\"}\n",
    "s\n",
    "#caps first"
   ]
  },
  {
   "cell_type": "code",
   "execution_count": 33,
   "id": "53cbbc9b",
   "metadata": {},
   "outputs": [
    {
     "data": {
      "text/plain": [
       "{'apple', 'banana', 'orange'}"
      ]
     },
     "execution_count": 33,
     "metadata": {},
     "output_type": "execute_result"
    }
   ],
   "source": [
    "#add two sets\n",
    "s_1={\"apple\",\"orange\"}\n",
    "s_2={\"banana\"}\n",
    "\n",
    "s_1.update(s_2)\n",
    "s_1\n",
    "\n",
    "#or s_1.add(\"banana\")"
   ]
  },
  {
   "cell_type": "code",
   "execution_count": 38,
   "id": "c9b0eac9",
   "metadata": {},
   "outputs": [
    {
     "data": {
      "text/plain": [
       "{'apple', 'banana', 'orange'}"
      ]
     },
     "execution_count": 38,
     "metadata": {},
     "output_type": "execute_result"
    }
   ],
   "source": [
    "#s_1.union(s_2)\n",
    "#set1.unoin(set2,set3,set4.....)\n",
    "s_1 | s_2\n",
    "\n"
   ]
  },
  {
   "cell_type": "code",
   "execution_count": 41,
   "id": "89db318e",
   "metadata": {},
   "outputs": [
    {
     "data": {
      "text/plain": [
       "{'banana'}"
      ]
     },
     "execution_count": 41,
     "metadata": {},
     "output_type": "execute_result"
    }
   ],
   "source": [
    "s_1.intersection(s_2)\n",
    "#set1 & set2\n"
   ]
  },
  {
   "cell_type": "code",
   "execution_count": 39,
   "id": "19d820a9",
   "metadata": {},
   "outputs": [
    {
     "data": {
      "text/plain": [
       "{'apple', 'orange'}"
      ]
     },
     "execution_count": 39,
     "metadata": {},
     "output_type": "execute_result"
    }
   ],
   "source": [
    "s_1 -s_2\n",
    "#set1.difference(set2)"
   ]
  },
  {
   "cell_type": "markdown",
   "id": "1c8a1635",
   "metadata": {},
   "source": [
    "set.remove(element)->if the element is not in the set , it returns an error \n",
    "set.discard(element)-> it does not returns a error\n",
    "\n",
    "\n",
    "set.clear()\n",
    "\n",
    "set.symmetric_difference()\n",
    "bool\n",
    "set.issubset()\n",
    "set.issuperset()\n",
    "set.isdisjoint()"
   ]
  }
 ],
 "metadata": {
  "kernelspec": {
   "display_name": "Python 3",
   "language": "python",
   "name": "python3"
  },
  "language_info": {
   "codemirror_mode": {
    "name": "ipython",
    "version": 3
   },
   "file_extension": ".py",
   "mimetype": "text/x-python",
   "name": "python",
   "nbconvert_exporter": "python",
   "pygments_lexer": "ipython3",
   "version": "3.8.8"
  }
 },
 "nbformat": 4,
 "nbformat_minor": 5
}
